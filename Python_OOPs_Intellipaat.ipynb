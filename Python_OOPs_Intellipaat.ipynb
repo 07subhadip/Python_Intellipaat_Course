{
  "nbformat": 4,
  "nbformat_minor": 0,
  "metadata": {
    "colab": {
      "provenance": [],
      "include_colab_link": true
    },
    "kernelspec": {
      "name": "python3",
      "display_name": "Python 3"
    },
    "language_info": {
      "name": "python"
    }
  },
  "cells": [
    {
      "cell_type": "markdown",
      "metadata": {
        "id": "view-in-github",
        "colab_type": "text"
      },
      "source": [
        "<a href=\"https://colab.research.google.com/github/07subhadip/Python_Intellipaat_Course/blob/main/Python_OOPs_Intellipaat.ipynb\" target=\"_parent\"><img src=\"https://colab.research.google.com/assets/colab-badge.svg\" alt=\"Open In Colab\"/></a>"
      ]
    },
    {
      "cell_type": "markdown",
      "source": [
        "# **Day 1**"
      ],
      "metadata": {
        "id": "AkM_b3DHLTFZ"
      }
    },
    {
      "cell_type": "code",
      "execution_count": null,
      "metadata": {
        "id": "lH9BciDKLHAB"
      },
      "outputs": [],
      "source": [
        "class Hotel:\n",
        "  def __init__(self,name):\n",
        "    self.name = name\n",
        "    print(f\"Welcome to Hotel {self.name}\")\n",
        "\n"
      ]
    },
    {
      "cell_type": "code",
      "source": [
        "member1 = Hotel(\"Subhadip\")"
      ],
      "metadata": {
        "id": "T2l_A25YlE3I",
        "outputId": "4eef9149-6988-4a46-8e84-d6ba712f5346",
        "colab": {
          "base_uri": "https://localhost:8080/"
        }
      },
      "execution_count": null,
      "outputs": [
        {
          "output_type": "stream",
          "name": "stdout",
          "text": [
            "Welcome to Hotel Subhadip\n"
          ]
        }
      ]
    },
    {
      "cell_type": "markdown",
      "source": [
        "#**Day 2**"
      ],
      "metadata": {
        "id": "iMWv9tzkWurh"
      }
    },
    {
      "cell_type": "code",
      "source": [
        "class Mathematics:\n",
        "  def __init__(self,a,b):\n",
        "    self.a = a\n",
        "    self.b = b\n",
        "  def addition(self):\n",
        "    return self.a + self.b\n",
        "\n",
        "  def multiplication(self):\n",
        "    return self.a * self.b\n",
        "\n",
        "  def subtraction(self):\n",
        "    return self.a - self.b\n",
        "\n",
        "  def division(self):\n",
        "    return self.a / self.b"
      ],
      "metadata": {
        "id": "jR0r8sv2lI4v"
      },
      "execution_count": null,
      "outputs": []
    },
    {
      "cell_type": "code",
      "source": [
        "xyz = Mathematics(20,10)"
      ],
      "metadata": {
        "id": "xXeVkjDqacic"
      },
      "execution_count": null,
      "outputs": []
    },
    {
      "cell_type": "code",
      "source": [
        "xyz.addition()"
      ],
      "metadata": {
        "colab": {
          "base_uri": "https://localhost:8080/"
        },
        "id": "lckl5Hh2af2a",
        "outputId": "45916039-c4f4-4977-df0f-704cf21abb66"
      },
      "execution_count": null,
      "outputs": [
        {
          "output_type": "execute_result",
          "data": {
            "text/plain": [
              "30"
            ]
          },
          "metadata": {},
          "execution_count": 26
        }
      ]
    },
    {
      "cell_type": "markdown",
      "source": [
        "# **Pillers of Oops**\n",
        "- *Encapsulation*\n",
        "\n",
        "- *Abstraction*\n",
        "\n",
        "- *Inheritance*\n",
        "\n",
        "- *Polymorphism*"
      ],
      "metadata": {
        "id": "DZ-yKTFBbULY"
      }
    },
    {
      "cell_type": "markdown",
      "source": [
        "## **Inheritance**\n",
        "\n",
        "-"
      ],
      "metadata": {
        "id": "PTwdj7vfb8pi"
      }
    },
    {
      "cell_type": "code",
      "source": [
        "class Father: # Father is the parent class\n",
        "  def car(self):\n",
        "    print(\"this is our car\")\n",
        "\n",
        "  def house(self):\n",
        "    print(\"this is our house\")\n",
        "\n",
        "class Son(Father):  # Son is the child class\n",
        "  def bike(self):\n",
        "    print(\"this is my bike\")\n",
        "\n",
        "  def room(self):\n",
        "    print(\"this is my room\")"
      ],
      "metadata": {
        "id": "2nk1lPnmdSH1"
      },
      "execution_count": null,
      "outputs": []
    },
    {
      "cell_type": "code",
      "source": [
        "ob = Son()"
      ],
      "metadata": {
        "id": "9NkVj56UdoiM"
      },
      "execution_count": null,
      "outputs": []
    },
    {
      "cell_type": "code",
      "source": [
        "ob.bike()\n",
        "ob.room()\n",
        "ob.car()"
      ],
      "metadata": {
        "colab": {
          "base_uri": "https://localhost:8080/"
        },
        "id": "7B1GfmMAdzoy",
        "outputId": "8c630635-c638-49f7-8fc9-9c4dabd2b302"
      },
      "execution_count": null,
      "outputs": [
        {
          "output_type": "stream",
          "name": "stdout",
          "text": [
            "this is my bike\n",
            "this is my room\n",
            "this is our car\n"
          ]
        }
      ]
    },
    {
      "cell_type": "markdown",
      "source": [
        "## **Hireraichal Inheritance**\n",
        "- one parent class and multiple child class"
      ],
      "metadata": {
        "id": "ldB1a5ySgfS1"
      }
    },
    {
      "cell_type": "code",
      "source": [
        "class Teacher:\n",
        "  def python(self):\n",
        "    print(\"You can find python methods\")\n",
        "\n",
        "  def dsa(self):\n",
        "    print(\"You can find DSA topics\")\n",
        "\n",
        "class Online_teaching(Teacher):\n",
        "  def exam(self):\n",
        "    print(\"we have quiz on sunday\")\n",
        "\n",
        "  def timing(self):\n",
        "    print(\"class timing 9:00 to 10:00\")\n",
        "\n",
        "class Offline_teaching(Teacher):\n",
        "  def timing(self):\n",
        "    print(\"class timing 11:00 to 12:00\")\n",
        "\n",
        "  def syllabus(self):\n",
        "    print(\"we have a subject\")"
      ],
      "metadata": {
        "id": "dln2xciAeB8T"
      },
      "execution_count": null,
      "outputs": []
    },
    {
      "cell_type": "code",
      "source": [
        "subhadip = Online_teaching()\n",
        "seep = Offline_teaching()\n",
        "lavanya = Teacher()"
      ],
      "metadata": {
        "id": "mDI9Gugqhv6V"
      },
      "execution_count": null,
      "outputs": []
    },
    {
      "cell_type": "code",
      "source": [
        "subhadip.exam()\n",
        "subhadip.timing()\n",
        "subhadip.python()"
      ],
      "metadata": {
        "colab": {
          "base_uri": "https://localhost:8080/"
        },
        "id": "QgW7ko5biUFt",
        "outputId": "9dcf189a-cae9-45ca-ba85-e778d16e164a"
      },
      "execution_count": null,
      "outputs": [
        {
          "output_type": "stream",
          "name": "stdout",
          "text": [
            "we have quiz on sunday\n",
            "class timing 9:00 to 10:00\n",
            "You can find python methods\n"
          ]
        }
      ]
    },
    {
      "cell_type": "code",
      "source": [
        "seep.timing()\n",
        "seep.syllabus()\n",
        "seep.python()"
      ],
      "metadata": {
        "colab": {
          "base_uri": "https://localhost:8080/"
        },
        "id": "oUJ8GG03iXns",
        "outputId": "073ba71c-1de0-4746-c4f7-cc0af514df74"
      },
      "execution_count": null,
      "outputs": [
        {
          "output_type": "stream",
          "name": "stdout",
          "text": [
            "class timing 11:00 to 12:00\n",
            "we have a subject\n",
            "You can find python methods\n"
          ]
        }
      ]
    },
    {
      "cell_type": "markdown",
      "source": [
        "## **Multiple Inheritance**\n",
        "- whenever we have multiple parent classes"
      ],
      "metadata": {
        "id": "xP9GnTn9jx7M"
      }
    },
    {
      "cell_type": "code",
      "source": [
        "class Father:\n",
        "  def car(self):\n",
        "    print(\"this is our car\")\n",
        "\n",
        "  def house(self):\n",
        "    print(\"this is our house\")\n",
        "\n",
        "class Uncle:\n",
        "  def garden(self):\n",
        "    print(\"this is our garden\")\n",
        "\n",
        "  def bike(self):\n",
        "    print(\"this is our bike\")\n",
        "\n",
        "class Son(Father,Uncle):\n",
        "  def room(self):\n",
        "    print(\"this is my room\")\n",
        "\n",
        "  def phone(self):\n",
        "    print(\"this is my phone\")"
      ],
      "metadata": {
        "id": "lALJmfnlibcy"
      },
      "execution_count": null,
      "outputs": []
    },
    {
      "cell_type": "code",
      "source": [
        "ob = Son()"
      ],
      "metadata": {
        "id": "ORRt2OOuk-JH"
      },
      "execution_count": null,
      "outputs": []
    },
    {
      "cell_type": "code",
      "source": [
        "ob.phone()\n",
        "ob.room()\n",
        "ob.bike()\n",
        "ob.garden()\n",
        "ob.car()"
      ],
      "metadata": {
        "colab": {
          "base_uri": "https://localhost:8080/"
        },
        "id": "ofylf5FVk_rb",
        "outputId": "9ff6a63d-bb65-45eb-955e-1d8fc7956871"
      },
      "execution_count": null,
      "outputs": [
        {
          "output_type": "stream",
          "name": "stdout",
          "text": [
            "this is my phone\n",
            "this is my room\n",
            "this is our bike\n",
            "this is our garden\n",
            "this is our car\n"
          ]
        }
      ]
    },
    {
      "cell_type": "markdown",
      "source": [
        "## **Multi-level Inheritance**"
      ],
      "metadata": {
        "id": "Zou_aJ3lmOym"
      }
    },
    {
      "cell_type": "code",
      "source": [
        "class IIT:\n",
        "  def classes(self):\n",
        "    print(\"These are the classes\")\n",
        "  def events(self):\n",
        "    print(\"These are the events\")\n",
        "\n",
        "class Intellipaat(IIT):\n",
        "  def own_courses(self):\n",
        "    print(\"These are our courses\")\n",
        "  def sessions(self):\n",
        "    print(\"Thses are our sessions\")\n",
        "\n",
        "class Learners(Intellipaat):\n",
        "  def LMS(self):\n",
        "    print(\"THis is our course portal\")\n",
        "  def whatsapp_grp(self):\n",
        "    print(\"This is our whatsapp grp\")"
      ],
      "metadata": {
        "id": "rKxPabk7lPiY"
      },
      "execution_count": null,
      "outputs": []
    },
    {
      "cell_type": "code",
      "source": [
        "ob = Intellipaat()\n",
        "ob.own_courses()\n",
        "ob.sessions()\n",
        "ob.events()"
      ],
      "metadata": {
        "colab": {
          "base_uri": "https://localhost:8080/"
        },
        "id": "lVJ6komRqJrQ",
        "outputId": "b989e668-51c3-451a-de3a-8a5f23bbe98d"
      },
      "execution_count": null,
      "outputs": [
        {
          "output_type": "stream",
          "name": "stdout",
          "text": [
            "These are our courses\n",
            "Thses are our sessions\n",
            "These are the events\n"
          ]
        }
      ]
    },
    {
      "cell_type": "code",
      "source": [
        "abc = Learners()\n",
        "\n",
        "abc.LMS()\n",
        "abc.whatsapp_grp()\n",
        "abc.own_courses()\n",
        "abc.sessions()\n",
        "abc.events()\n",
        "abc.classes()"
      ],
      "metadata": {
        "colab": {
          "base_uri": "https://localhost:8080/"
        },
        "id": "fOsrPxpCqTmA",
        "outputId": "47a2dc5a-d108-4938-8519-9491d65adcb6"
      },
      "execution_count": null,
      "outputs": [
        {
          "output_type": "stream",
          "name": "stdout",
          "text": [
            "THis is our course portal\n",
            "This is our whatsapp grp\n",
            "These are our courses\n",
            "Thses are our sessions\n",
            "These are the events\n",
            "These are the classes\n"
          ]
        }
      ]
    },
    {
      "cell_type": "markdown",
      "source": [
        "## **Hybrid Inheritance**\n",
        "- it is a combination of two or more types of inheritance"
      ],
      "metadata": {
        "id": "vuv5YGsjq--l"
      }
    },
    {
      "cell_type": "code",
      "source": [
        "class GrandFather:\n",
        "  def property(self):\n",
        "    print(\"this is our property\")\n",
        "\n",
        "  def house(self):\n",
        "    print(\"this is our house\")\n",
        "\n",
        "class Father(GrandFather):\n",
        "  def car(self):\n",
        "    print(\"this is our car\")\n",
        "\n",
        "  def bike(self):\n",
        "    print(\"this is our bike\")\n",
        "\n",
        "class Mother(GrandFather):\n",
        "  def garden(self):\n",
        "    print(\"this is our garden\")\n",
        "\n",
        "  def scooty(self):\n",
        "    print(\"this is our scooty\")\n",
        "\n",
        "class Son(Father,Mother):\n",
        "  def room(self):\n",
        "    print(\"this is our room\")\n",
        "\n",
        "  def phone(self):\n",
        "    print(\"this is our phone\")"
      ],
      "metadata": {
        "id": "KqnXZfmPq2K1"
      },
      "execution_count": null,
      "outputs": []
    },
    {
      "cell_type": "code",
      "source": [
        "obj = Son()"
      ],
      "metadata": {
        "id": "6T8grc2MuaXI"
      },
      "execution_count": null,
      "outputs": []
    },
    {
      "cell_type": "code",
      "source": [
        "obj.room()\n",
        "obj.scooty()\n",
        "obj.garden()\n",
        "obj.house()\n",
        "obj.car()\n",
        "obj.bike()\n",
        "obj.phone()\n",
        "obj.property()"
      ],
      "metadata": {
        "colab": {
          "base_uri": "https://localhost:8080/"
        },
        "id": "2u2qUQrcuuwX",
        "outputId": "98731c4d-ee0c-4f80-b690-50edb25497c5"
      },
      "execution_count": null,
      "outputs": [
        {
          "output_type": "stream",
          "name": "stdout",
          "text": [
            "this is our room\n",
            "this is our scooty\n",
            "this is our garden\n",
            "this is our house\n",
            "this is our car\n",
            "this is our bike\n",
            "this is our phone\n",
            "this is our property\n"
          ]
        }
      ]
    },
    {
      "cell_type": "markdown",
      "source": [
        "# **Polymorphism**\n",
        "\n",
        "- Method Overloading &rarr; Method Overloading is not supported in python\n",
        "  - Method overloading &rarr; In a file if you create more than one function with same name,but no of parametres is different\n",
        "- Method Overriding"
      ],
      "metadata": {
        "id": "yhPijMN1vZLh"
      }
    },
    {
      "cell_type": "code",
      "source": [
        "def sum(a,b):\n",
        "  print(a+b)\n",
        "\n",
        "def sum(a,b,c):\n",
        "  print(a+b+c)\n",
        "\n",
        "def sum():\n",
        "  print(\"This is empty params\")\n",
        "\n",
        "sum()"
      ],
      "metadata": {
        "id": "GXur5wqjuzU3",
        "colab": {
          "base_uri": "https://localhost:8080/"
        },
        "outputId": "23e8d221-e913-48bb-9773-2e67f0441dce"
      },
      "execution_count": null,
      "outputs": [
        {
          "output_type": "stream",
          "name": "stdout",
          "text": [
            "This is empty params\n"
          ]
        }
      ]
    },
    {
      "cell_type": "markdown",
      "source": [
        "# **Day 3**"
      ],
      "metadata": {
        "id": "RXl_4zWCeXRK"
      }
    },
    {
      "cell_type": "markdown",
      "source": [
        "## **Method Overriding**\n",
        "\n",
        "- In a file if you create two function  witht the same name then whichever you created the last will get called"
      ],
      "metadata": {
        "id": "AP70HjtRSs8Y"
      }
    },
    {
      "cell_type": "code",
      "source": [
        "class Father:\n",
        "  def homwork(self):\n",
        "    print(\"You have to finish your homework before 6:00 pm\")\n",
        "\n",
        "  def tution(self):\n",
        "    print(\"You have your tution at 7:00 pm\")\n",
        "\n",
        "class Son(Father):\n",
        "  def tution(self): # overriding the function of Father class\n",
        "    print(\"I have very impotant match at 5:30 pm\")\n",
        "\n",
        "  def cycling(self):\n",
        "    print(\"I'll go for cycling at 4:00 pm\")\n"
      ],
      "metadata": {
        "id": "xIoMrLTLh-qE"
      },
      "execution_count": null,
      "outputs": []
    },
    {
      "cell_type": "code",
      "source": [
        "ob = Son()\n",
        "ob.tution()"
      ],
      "metadata": {
        "colab": {
          "base_uri": "https://localhost:8080/"
        },
        "id": "uPAzGMKyT73L",
        "outputId": "85a49343-ca92-42b4-d7e6-efb8f77072eb"
      },
      "execution_count": null,
      "outputs": [
        {
          "output_type": "stream",
          "name": "stdout",
          "text": [
            "I have very impotant match at 5:30 pm\n"
          ]
        }
      ]
    },
    {
      "cell_type": "code",
      "source": [
        "class Employee:\n",
        "  def work(self):\n",
        "    print(\"Employee works 9 to 5\")\n",
        "\n",
        "class Manager(Employee):\n",
        "  def work(self):\n",
        "    print(\"Manager works anytime and leads the company\")"
      ],
      "metadata": {
        "id": "Ak4z6pXpT_zh"
      },
      "execution_count": null,
      "outputs": []
    },
    {
      "cell_type": "code",
      "source": [
        "ob = Employee()\n",
        "ob.work()\n",
        "\n",
        "obj = Manager()\n",
        "obj.work()"
      ],
      "metadata": {
        "colab": {
          "base_uri": "https://localhost:8080/"
        },
        "id": "-Jk1b1rnY8VN",
        "outputId": "20d15b8a-11f4-4fa8-e1e7-d0e937ebcd56"
      },
      "execution_count": null,
      "outputs": [
        {
          "output_type": "stream",
          "name": "stdout",
          "text": [
            "Employee works 9 to 5\n",
            "Manager works anytime and leads the company\n"
          ]
        }
      ]
    },
    {
      "cell_type": "code",
      "source": [
        "class Square:\n",
        "  def __init__(self,side):\n",
        "    self.side = side\n",
        "\n",
        "  def area(self):\n",
        "    print(self.side * self.side)\n",
        "\n",
        "class Rectangle:\n",
        "  def __init__(self,length,breadth):\n",
        "    self.length = length\n",
        "    self.breadth = breadth\n",
        "\n",
        "  def area(self):\n",
        "    print(self.length * self. breadth)\n",
        "\n",
        "class Triangle:\n",
        "  def __init__(self,base,height):\n",
        "    self.base = base\n",
        "    self.height = height\n",
        "\n",
        "  def area(self):\n",
        "    print(0.5 * self.base * self.height)"
      ],
      "metadata": {
        "id": "QFRVZmBGZDfj"
      },
      "execution_count": null,
      "outputs": []
    },
    {
      "cell_type": "code",
      "source": [
        "obj_sqr = Square(5)\n",
        "obj_sqr.area()"
      ],
      "metadata": {
        "colab": {
          "base_uri": "https://localhost:8080/"
        },
        "id": "BSjV9g5mb5Vs",
        "outputId": "1ece3fd7-a318-4071-fa28-586ad7a8a9b1"
      },
      "execution_count": null,
      "outputs": [
        {
          "output_type": "stream",
          "name": "stdout",
          "text": [
            "25\n"
          ]
        }
      ]
    },
    {
      "cell_type": "markdown",
      "source": [
        "# **Encapsulation**\n",
        "\n",
        "- Protecting your data by hiding it"
      ],
      "metadata": {
        "id": "ZEXEnUvZcsuy"
      }
    },
    {
      "cell_type": "code",
      "source": [
        "class Bank:\n",
        "  def deposit(self):\n",
        "    print(\"You can deposit\")\n",
        "\n",
        "  def withdraw(self):\n",
        "    print(\"You can withdraw\")\n",
        "\n",
        "  def offers(self):\n",
        "    print(\"Great deals on credit cards\")\n",
        "\n",
        "  def __locker(self): # __ is used to make your method private\n",
        "    print(\"You can access the cash, document, jwellery\")\n",
        "\n",
        "  def manager(self):\n",
        "    print(\"How may i help you\")\n",
        "    self.__locker()   # now we can access locker private class from manager function"
      ],
      "metadata": {
        "id": "qNlWuQxdcLaa"
      },
      "execution_count": null,
      "outputs": []
    },
    {
      "cell_type": "code",
      "source": [
        "obj = Bank()\n",
        "obj.manager()"
      ],
      "metadata": {
        "colab": {
          "base_uri": "https://localhost:8080/"
        },
        "id": "YRO63ZpbeI4D",
        "outputId": "96a4f0b5-d12c-4245-fdf1-536cfcaf0946"
      },
      "execution_count": null,
      "outputs": [
        {
          "output_type": "stream",
          "name": "stdout",
          "text": [
            "How may i help you\n",
            "You can access the cash, document, jwellery\n"
          ]
        }
      ]
    },
    {
      "cell_type": "code",
      "source": [
        "class Student:\n",
        "  def __init__(self,name,age,aadhar_no):\n",
        "    self.name = name\n",
        "    self.age = age\n",
        "    self.__aadhar_no = aadhar_no\n",
        "\n",
        "  def details(self):\n",
        "    print(f\"Name : {self.name}\\nAge : {self.age}\\nAadhar No : {self.__aadhar_no}\")"
      ],
      "metadata": {
        "id": "FM0TrTJieNKT"
      },
      "execution_count": null,
      "outputs": []
    },
    {
      "cell_type": "code",
      "source": [
        "obj = Student(\"Subhadip\",27,123456789)\n",
        "obj.details()"
      ],
      "metadata": {
        "colab": {
          "base_uri": "https://localhost:8080/"
        },
        "id": "O6bSyndjiRlD",
        "outputId": "21d61260-fd67-45b1-defe-fbab604b5119"
      },
      "execution_count": null,
      "outputs": [
        {
          "output_type": "stream",
          "name": "stdout",
          "text": [
            "Name : Subhadip\n",
            "Age : 27\n",
            "Aadhar No : 123456789\n"
          ]
        }
      ]
    },
    {
      "cell_type": "code",
      "source": [
        "class Details:\n",
        "  name = \"Subhadip\"\n",
        "  __aadhar_no = 12345"
      ],
      "metadata": {
        "id": "SeAr4c3AiYME"
      },
      "execution_count": null,
      "outputs": []
    },
    {
      "cell_type": "code",
      "source": [
        "obj = Details()\n",
        "obj.name  # this is accessible\n",
        "obj.aadhar_no ## but this is not"
      ],
      "metadata": {
        "colab": {
          "base_uri": "https://localhost:8080/",
          "height": 176
        },
        "id": "cQVZFBMXjZwb",
        "outputId": "7580efca-1236-49b4-8bdc-377fbe6976ab"
      },
      "execution_count": null,
      "outputs": [
        {
          "output_type": "error",
          "ename": "AttributeError",
          "evalue": "'Details' object has no attribute 'aadhar_no'",
          "traceback": [
            "\u001b[0;31m---------------------------------------------------------------------------\u001b[0m",
            "\u001b[0;31mAttributeError\u001b[0m                            Traceback (most recent call last)",
            "\u001b[0;32m<ipython-input-55-b8b4aea99b25>\u001b[0m in \u001b[0;36m<cell line: 0>\u001b[0;34m()\u001b[0m\n\u001b[1;32m      1\u001b[0m \u001b[0mobj\u001b[0m \u001b[0;34m=\u001b[0m \u001b[0mDetails\u001b[0m\u001b[0;34m(\u001b[0m\u001b[0;34m)\u001b[0m\u001b[0;34m\u001b[0m\u001b[0;34m\u001b[0m\u001b[0m\n\u001b[1;32m      2\u001b[0m \u001b[0mobj\u001b[0m\u001b[0;34m.\u001b[0m\u001b[0mname\u001b[0m  \u001b[0;31m# this is accessible\u001b[0m\u001b[0;34m\u001b[0m\u001b[0;34m\u001b[0m\u001b[0m\n\u001b[0;32m----> 3\u001b[0;31m \u001b[0mobj\u001b[0m\u001b[0;34m.\u001b[0m\u001b[0maadhar_no\u001b[0m \u001b[0;31m## but this is not\u001b[0m\u001b[0;34m\u001b[0m\u001b[0;34m\u001b[0m\u001b[0m\n\u001b[0m",
            "\u001b[0;31mAttributeError\u001b[0m: 'Details' object has no attribute 'aadhar_no'"
          ]
        }
      ]
    },
    {
      "cell_type": "markdown",
      "source": [
        "# **Day 4**"
      ],
      "metadata": {
        "id": "OB-txCWTQ85q"
      }
    },
    {
      "cell_type": "markdown",
      "source": [
        "## **Abstraction**\n",
        "\n",
        "- Hiding the unnecessary details and showing only the essential features.\n",
        "- Need to override all the methods ( it is necessary )"
      ],
      "metadata": {
        "id": "5j_DJ9_nTMK_"
      }
    },
    {
      "cell_type": "code",
      "source": [
        "from abc import ABC,abstractmethod\n",
        "\n",
        "class Car(ABC):\n",
        "  @abstractmethod\n",
        "  def engine_start(self):\n",
        "    pass\n",
        "\n",
        "  @abstractmethod\n",
        "  def engine_stop(self):\n",
        "    pass\n",
        "\n",
        "  @abstractmethod\n",
        "  def engine_run(self):\n",
        "    pass\n",
        "\n",
        "  @abstractmethod\n",
        "  def headlight_on(self):\n",
        "    pass\n",
        "\n",
        "  @abstractmethod\n",
        "  def headlight_off(self):\n",
        "    pass\n"
      ],
      "metadata": {
        "id": "_T1qsxrHjnoq"
      },
      "execution_count": null,
      "outputs": []
    },
    {
      "cell_type": "code",
      "source": [
        "class Hundai(Car):  # Must override all the function of the Abstract class inside Child Class\n",
        "  def engine_start(self):\n",
        "    print(\"Hundai engine started\")\n",
        "\n",
        "  def engine_stop(self):\n",
        "    print(\"Hundai engine stopped\")\n",
        "\n",
        "  def engine_run(self):\n",
        "    print(\"Hundai engine running\")\n",
        "\n",
        "  def headlight_on(self):\n",
        "    print(\"Hundai headlight on\")\n",
        "\n",
        "  def headlight_off(self):\n",
        "    print(\"Hundai headlight off\")"
      ],
      "metadata": {
        "id": "TJ7mcmVnZi7a"
      },
      "execution_count": null,
      "outputs": []
    },
    {
      "cell_type": "code",
      "source": [
        "obj = Hundai()\n",
        "obj.engine_start()\n",
        "obj.engine_stop()\n",
        "obj.engine_run()\n",
        "obj.headlight_on()"
      ],
      "metadata": {
        "colab": {
          "base_uri": "https://localhost:8080/"
        },
        "id": "u3UJsHfQZuLa",
        "outputId": "05c2b4a2-8b69-4411-c998-1c0c206e27da"
      },
      "execution_count": null,
      "outputs": [
        {
          "output_type": "stream",
          "name": "stdout",
          "text": [
            "Hundai engine started\n",
            "Hundai engine stopped\n",
            "Hundai engine running\n",
            "Hundai headlight on\n"
          ]
        }
      ]
    },
    {
      "cell_type": "code",
      "source": [
        "import abc\n",
        "help(abc)"
      ],
      "metadata": {
        "colab": {
          "base_uri": "https://localhost:8080/"
        },
        "id": "8SGRpVLfUMx6",
        "outputId": "0d9ceca9-246c-4295-815f-d536d9c2e4eb"
      },
      "execution_count": null,
      "outputs": [
        {
          "output_type": "stream",
          "name": "stdout",
          "text": [
            "Help on module abc:\n",
            "\n",
            "NAME\n",
            "    abc - Abstract Base Classes (ABCs) according to PEP 3119.\n",
            "\n",
            "MODULE REFERENCE\n",
            "    https://docs.python.org/3.11/library/abc.html\n",
            "    \n",
            "    The following documentation is automatically generated from the Python\n",
            "    source files.  It may be incomplete, incorrect or include features that\n",
            "    are considered implementation detail and may vary between Python\n",
            "    implementations.  When in doubt, consult the module reference at the\n",
            "    location listed above.\n",
            "\n",
            "CLASSES\n",
            "    builtins.classmethod(builtins.object)\n",
            "        abstractclassmethod\n",
            "    builtins.object\n",
            "        ABC\n",
            "    builtins.property(builtins.object)\n",
            "        abstractproperty\n",
            "    builtins.staticmethod(builtins.object)\n",
            "        abstractstaticmethod\n",
            "    builtins.type(builtins.object)\n",
            "        ABCMeta\n",
            "    \n",
            "    class ABC(builtins.object)\n",
            "     |  Helper class that provides a standard way to create an ABC using\n",
            "     |  inheritance.\n",
            "     |  \n",
            "     |  Data and other attributes defined here:\n",
            "     |  \n",
            "     |  __abstractmethods__ = frozenset()\n",
            "    \n",
            "    class ABCMeta(builtins.type)\n",
            "     |  ABCMeta(name, bases, namespace, /, **kwargs)\n",
            "     |  \n",
            "     |  Metaclass for defining Abstract Base Classes (ABCs).\n",
            "     |  \n",
            "     |  Use this metaclass to create an ABC.  An ABC can be subclassed\n",
            "     |  directly, and then acts as a mix-in class.  You can also register\n",
            "     |  unrelated concrete classes (even built-in classes) and unrelated\n",
            "     |  ABCs as 'virtual subclasses' -- these and their descendants will\n",
            "     |  be considered subclasses of the registering ABC by the built-in\n",
            "     |  issubclass() function, but the registering ABC won't show up in\n",
            "     |  their MRO (Method Resolution Order) nor will method\n",
            "     |  implementations defined by the registering ABC be callable (not\n",
            "     |  even via super()).\n",
            "     |  \n",
            "     |  Method resolution order:\n",
            "     |      ABCMeta\n",
            "     |      builtins.type\n",
            "     |      builtins.object\n",
            "     |  \n",
            "     |  Methods defined here:\n",
            "     |  \n",
            "     |  __instancecheck__(cls, instance)\n",
            "     |      Override for isinstance(instance, cls).\n",
            "     |  \n",
            "     |  __subclasscheck__(cls, subclass)\n",
            "     |      Override for issubclass(subclass, cls).\n",
            "     |  \n",
            "     |  register(cls, subclass)\n",
            "     |      Register a virtual subclass of an ABC.\n",
            "     |      \n",
            "     |      Returns the subclass, to allow usage as a class decorator.\n",
            "     |  \n",
            "     |  ----------------------------------------------------------------------\n",
            "     |  Static methods defined here:\n",
            "     |  \n",
            "     |  __new__(mcls, name, bases, namespace, /, **kwargs)\n",
            "     |      Create and return a new object.  See help(type) for accurate signature.\n",
            "     |  \n",
            "     |  ----------------------------------------------------------------------\n",
            "     |  Data and other attributes defined here:\n",
            "     |  \n",
            "     |  __annotations__ = {}\n",
            "     |  \n",
            "     |  ----------------------------------------------------------------------\n",
            "     |  Methods inherited from builtins.type:\n",
            "     |  \n",
            "     |  __call__(self, /, *args, **kwargs)\n",
            "     |      Call self as a function.\n",
            "     |  \n",
            "     |  __delattr__(self, name, /)\n",
            "     |      Implement delattr(self, name).\n",
            "     |  \n",
            "     |  __dir__(self, /)\n",
            "     |      Specialized __dir__ implementation for types.\n",
            "     |  \n",
            "     |  __getattribute__(self, name, /)\n",
            "     |      Return getattr(self, name).\n",
            "     |  \n",
            "     |  __init__(self, /, *args, **kwargs)\n",
            "     |      Initialize self.  See help(type(self)) for accurate signature.\n",
            "     |  \n",
            "     |  __or__(self, value, /)\n",
            "     |      Return self|value.\n",
            "     |  \n",
            "     |  __repr__(self, /)\n",
            "     |      Return repr(self).\n",
            "     |  \n",
            "     |  __ror__(self, value, /)\n",
            "     |      Return value|self.\n",
            "     |  \n",
            "     |  __setattr__(self, name, value, /)\n",
            "     |      Implement setattr(self, name, value).\n",
            "     |  \n",
            "     |  __sizeof__(self, /)\n",
            "     |      Return memory consumption of the type object.\n",
            "     |  \n",
            "     |  __subclasses__(self, /)\n",
            "     |      Return a list of immediate subclasses.\n",
            "     |  \n",
            "     |  mro(self, /)\n",
            "     |      Return a type's method resolution order.\n",
            "     |  \n",
            "     |  ----------------------------------------------------------------------\n",
            "     |  Class methods inherited from builtins.type:\n",
            "     |  \n",
            "     |  __prepare__(...)\n",
            "     |      __prepare__() -> dict\n",
            "     |      used to create the namespace for the class statement\n",
            "     |  \n",
            "     |  ----------------------------------------------------------------------\n",
            "     |  Data descriptors inherited from builtins.type:\n",
            "     |  \n",
            "     |  __abstractmethods__\n",
            "     |  \n",
            "     |  __dict__\n",
            "     |  \n",
            "     |  __text_signature__\n",
            "     |  \n",
            "     |  ----------------------------------------------------------------------\n",
            "     |  Data and other attributes inherited from builtins.type:\n",
            "     |  \n",
            "     |  __base__ = <class 'type'>\n",
            "     |      type(object) -> the object's type\n",
            "     |      type(name, bases, dict, **kwds) -> a new type\n",
            "     |  \n",
            "     |  \n",
            "     |  __bases__ = (<class 'type'>,)\n",
            "     |  \n",
            "     |  __basicsize__ = 904\n",
            "     |  \n",
            "     |  __dictoffset__ = 264\n",
            "     |  \n",
            "     |  __flags__ = 2148029952\n",
            "     |  \n",
            "     |  __itemsize__ = 40\n",
            "     |  \n",
            "     |  __mro__ = (<class 'abc.ABCMeta'>, <class 'type'>, <class 'object'>)\n",
            "     |  \n",
            "     |  __weakrefoffset__ = 368\n",
            "    \n",
            "    class abstractclassmethod(builtins.classmethod)\n",
            "     |  abstractclassmethod(callable)\n",
            "     |  \n",
            "     |  A decorator indicating abstract classmethods.\n",
            "     |  \n",
            "     |  Deprecated, use 'classmethod' with 'abstractmethod' instead:\n",
            "     |  \n",
            "     |      class C(ABC):\n",
            "     |          @classmethod\n",
            "     |          @abstractmethod\n",
            "     |          def my_abstract_classmethod(cls, ...):\n",
            "     |              ...\n",
            "     |  \n",
            "     |  Method resolution order:\n",
            "     |      abstractclassmethod\n",
            "     |      builtins.classmethod\n",
            "     |      builtins.object\n",
            "     |  \n",
            "     |  Methods defined here:\n",
            "     |  \n",
            "     |  __init__(self, callable)\n",
            "     |      Initialize self.  See help(type(self)) for accurate signature.\n",
            "     |  \n",
            "     |  ----------------------------------------------------------------------\n",
            "     |  Data descriptors defined here:\n",
            "     |  \n",
            "     |  __weakref__\n",
            "     |      list of weak references to the object\n",
            "     |  \n",
            "     |  ----------------------------------------------------------------------\n",
            "     |  Data and other attributes defined here:\n",
            "     |  \n",
            "     |  __isabstractmethod__ = True\n",
            "     |  \n",
            "     |  ----------------------------------------------------------------------\n",
            "     |  Methods inherited from builtins.classmethod:\n",
            "     |  \n",
            "     |  __get__(self, instance, owner=None, /)\n",
            "     |      Return an attribute of instance, which is of type owner.\n",
            "     |  \n",
            "     |  __repr__(self, /)\n",
            "     |      Return repr(self).\n",
            "     |  \n",
            "     |  ----------------------------------------------------------------------\n",
            "     |  Static methods inherited from builtins.classmethod:\n",
            "     |  \n",
            "     |  __new__(*args, **kwargs) class method of builtins.classmethod\n",
            "     |      Create and return a new object.  See help(type) for accurate signature.\n",
            "     |  \n",
            "     |  ----------------------------------------------------------------------\n",
            "     |  Data descriptors inherited from builtins.classmethod:\n",
            "     |  \n",
            "     |  __dict__\n",
            "     |  \n",
            "     |  __func__\n",
            "     |  \n",
            "     |  __wrapped__\n",
            "    \n",
            "    class abstractproperty(builtins.property)\n",
            "     |  abstractproperty(fget=None, fset=None, fdel=None, doc=None)\n",
            "     |  \n",
            "     |  A decorator indicating abstract properties.\n",
            "     |  \n",
            "     |  Deprecated, use 'property' with 'abstractmethod' instead:\n",
            "     |  \n",
            "     |      class C(ABC):\n",
            "     |          @property\n",
            "     |          @abstractmethod\n",
            "     |          def my_abstract_property(self):\n",
            "     |              ...\n",
            "     |  \n",
            "     |  Method resolution order:\n",
            "     |      abstractproperty\n",
            "     |      builtins.property\n",
            "     |      builtins.object\n",
            "     |  \n",
            "     |  Data descriptors defined here:\n",
            "     |  \n",
            "     |  __dict__\n",
            "     |      dictionary for instance variables\n",
            "     |  \n",
            "     |  __weakref__\n",
            "     |      list of weak references to the object\n",
            "     |  \n",
            "     |  ----------------------------------------------------------------------\n",
            "     |  Data and other attributes defined here:\n",
            "     |  \n",
            "     |  __isabstractmethod__ = True\n",
            "     |  \n",
            "     |  ----------------------------------------------------------------------\n",
            "     |  Methods inherited from builtins.property:\n",
            "     |  \n",
            "     |  __delete__(self, instance, /)\n",
            "     |      Delete an attribute of instance.\n",
            "     |  \n",
            "     |  __get__(self, instance, owner=None, /)\n",
            "     |      Return an attribute of instance, which is of type owner.\n",
            "     |  \n",
            "     |  __getattribute__(self, name, /)\n",
            "     |      Return getattr(self, name).\n",
            "     |  \n",
            "     |  __init__(self, /, *args, **kwargs)\n",
            "     |      Initialize self.  See help(type(self)) for accurate signature.\n",
            "     |  \n",
            "     |  __set__(self, instance, value, /)\n",
            "     |      Set an attribute of instance to value.\n",
            "     |  \n",
            "     |  __set_name__(...)\n",
            "     |      Method to set name of a property.\n",
            "     |  \n",
            "     |  deleter(...)\n",
            "     |      Descriptor to obtain a copy of the property with a different deleter.\n",
            "     |  \n",
            "     |  getter(...)\n",
            "     |      Descriptor to obtain a copy of the property with a different getter.\n",
            "     |  \n",
            "     |  setter(...)\n",
            "     |      Descriptor to obtain a copy of the property with a different setter.\n",
            "     |  \n",
            "     |  ----------------------------------------------------------------------\n",
            "     |  Static methods inherited from builtins.property:\n",
            "     |  \n",
            "     |  __new__(*args, **kwargs) class method of builtins.property\n",
            "     |      Create and return a new object.  See help(type) for accurate signature.\n",
            "     |  \n",
            "     |  ----------------------------------------------------------------------\n",
            "     |  Data descriptors inherited from builtins.property:\n",
            "     |  \n",
            "     |  fdel\n",
            "     |  \n",
            "     |  fget\n",
            "     |  \n",
            "     |  fset\n",
            "    \n",
            "    class abstractstaticmethod(builtins.staticmethod)\n",
            "     |  abstractstaticmethod(callable)\n",
            "     |  \n",
            "     |  A decorator indicating abstract staticmethods.\n",
            "     |  \n",
            "     |  Deprecated, use 'staticmethod' with 'abstractmethod' instead:\n",
            "     |  \n",
            "     |      class C(ABC):\n",
            "     |          @staticmethod\n",
            "     |          @abstractmethod\n",
            "     |          def my_abstract_staticmethod(...):\n",
            "     |              ...\n",
            "     |  \n",
            "     |  Method resolution order:\n",
            "     |      abstractstaticmethod\n",
            "     |      builtins.staticmethod\n",
            "     |      builtins.object\n",
            "     |  \n",
            "     |  Methods defined here:\n",
            "     |  \n",
            "     |  __init__(self, callable)\n",
            "     |      Initialize self.  See help(type(self)) for accurate signature.\n",
            "     |  \n",
            "     |  ----------------------------------------------------------------------\n",
            "     |  Data descriptors defined here:\n",
            "     |  \n",
            "     |  __weakref__\n",
            "     |      list of weak references to the object\n",
            "     |  \n",
            "     |  ----------------------------------------------------------------------\n",
            "     |  Data and other attributes defined here:\n",
            "     |  \n",
            "     |  __isabstractmethod__ = True\n",
            "     |  \n",
            "     |  ----------------------------------------------------------------------\n",
            "     |  Methods inherited from builtins.staticmethod:\n",
            "     |  \n",
            "     |  __call__(self, /, *args, **kwargs)\n",
            "     |      Call self as a function.\n",
            "     |  \n",
            "     |  __get__(self, instance, owner=None, /)\n",
            "     |      Return an attribute of instance, which is of type owner.\n",
            "     |  \n",
            "     |  __repr__(self, /)\n",
            "     |      Return repr(self).\n",
            "     |  \n",
            "     |  ----------------------------------------------------------------------\n",
            "     |  Static methods inherited from builtins.staticmethod:\n",
            "     |  \n",
            "     |  __new__(*args, **kwargs) class method of builtins.staticmethod\n",
            "     |      Create and return a new object.  See help(type) for accurate signature.\n",
            "     |  \n",
            "     |  ----------------------------------------------------------------------\n",
            "     |  Data descriptors inherited from builtins.staticmethod:\n",
            "     |  \n",
            "     |  __dict__\n",
            "     |  \n",
            "     |  __func__\n",
            "     |  \n",
            "     |  __wrapped__\n",
            "\n",
            "FUNCTIONS\n",
            "    abstractmethod(funcobj)\n",
            "        A decorator indicating abstract methods.\n",
            "        \n",
            "        Requires that the metaclass is ABCMeta or derived from it.  A\n",
            "        class that has a metaclass derived from ABCMeta cannot be\n",
            "        instantiated unless all of its abstract methods are overridden.\n",
            "        The abstract methods can be called using any of the normal\n",
            "        'super' call mechanisms.  abstractmethod() may be used to declare\n",
            "        abstract methods for properties and descriptors.\n",
            "        \n",
            "        Usage:\n",
            "        \n",
            "            class C(metaclass=ABCMeta):\n",
            "                @abstractmethod\n",
            "                def my_abstract_method(self, arg1, arg2, argN):\n",
            "                    ...\n",
            "    \n",
            "    get_cache_token()\n",
            "        Returns the current ABC cache token.\n",
            "        \n",
            "        The token is an opaque object (supporting equality testing) identifying the\n",
            "        current version of the ABC cache for virtual subclasses. The token changes\n",
            "        with every call to register() on any ABC.\n",
            "    \n",
            "    update_abstractmethods(cls)\n",
            "        Recalculate the set of abstract methods of an abstract class.\n",
            "        \n",
            "        If a class has had one of its abstract methods implemented after the\n",
            "        class was created, the method will not be considered implemented until\n",
            "        this function is called. Alternatively, if a new abstract method has been\n",
            "        added to the class, it will only be considered an abstract method of the\n",
            "        class after this function is called.\n",
            "        \n",
            "        This function should be called before any use is made of the class,\n",
            "        usually in class decorators that add methods to the subject class.\n",
            "        \n",
            "        Returns cls, to allow usage as a class decorator.\n",
            "        \n",
            "        If cls is not an instance of ABCMeta, does nothing.\n",
            "\n",
            "FILE\n",
            "    /usr/lib/python3.11/abc.py\n",
            "\n",
            "\n"
          ]
        }
      ]
    },
    {
      "cell_type": "markdown",
      "source": [
        "## **Decorators**"
      ],
      "metadata": {
        "id": "TsBMJZ8Zh0NU"
      }
    },
    {
      "cell_type": "code",
      "source": [
        "def dec(func):\n",
        "  def wrapper():\n",
        "    print(\"Hello Subhadip\")\n",
        "    func()\n",
        "\n",
        "  return wrapper"
      ],
      "metadata": {
        "id": "Q-fi_wbQVPxD"
      },
      "execution_count": null,
      "outputs": []
    },
    {
      "cell_type": "code",
      "source": [
        "@dec\n",
        "def say_hello():\n",
        "  print(\"Hello Everyone\")"
      ],
      "metadata": {
        "id": "rUlghBlwiDyp"
      },
      "execution_count": null,
      "outputs": []
    },
    {
      "cell_type": "code",
      "source": [
        "say_hello()"
      ],
      "metadata": {
        "colab": {
          "base_uri": "https://localhost:8080/"
        },
        "id": "LOP60KYIl8a6",
        "outputId": "4bddca7a-c12e-4ded-dbb5-6cdf71b3653e"
      },
      "execution_count": null,
      "outputs": [
        {
          "output_type": "stream",
          "name": "stdout",
          "text": [
            "Hello Subhadip\n",
            "Hello Everyone\n"
          ]
        }
      ]
    },
    {
      "cell_type": "markdown",
      "source": [
        "## **Task 1**\n",
        "\n",
        "- Create a class name -> `Student` and inside the class create a function named func1- this method should accept user defined function and return a value\n",
        "- Create another method named-message() and that message should print the user defined input that we have defined in func1"
      ],
      "metadata": {
        "id": "cBHG_MHYm696"
      }
    },
    {
      "cell_type": "code",
      "source": [
        "class Student:\n",
        "  def func1(self,a):\n",
        "    self.a = a\n",
        "    return self.a\n",
        "\n",
        "  def message(self):\n",
        "    print(self.a)\n",
        "\n",
        "obj = Student()\n",
        "num = int(input(\"Enter a number \"))\n",
        "obj.func1(num)\n",
        "obj.message()"
      ],
      "metadata": {
        "colab": {
          "base_uri": "https://localhost:8080/"
        },
        "id": "1_voixh1mBOZ",
        "outputId": "4623f555-c445-4c20-d68d-06c24b26c828"
      },
      "execution_count": null,
      "outputs": [
        {
          "output_type": "stream",
          "name": "stdout",
          "text": [
            "Enter a number 24\n",
            "24\n"
          ]
        }
      ]
    },
    {
      "cell_type": "markdown",
      "source": [
        "## **Task 2**\n",
        "- Create Account class with 2 attributes - balance and account number. Create method for debit, credit and printing money"
      ],
      "metadata": {
        "id": "XeS-DgO3qcqm"
      }
    },
    {
      "cell_type": "code",
      "source": [
        "class Account:\n",
        "  def __init__(self,balance,account_no):\n",
        "    self.balance = balance\n",
        "    self.account_no = account_no\n",
        "\n",
        "  def credit(self,amount):\n",
        "    self.amount = amount\n",
        "    print(f\"RS. {self.amount} has been credited\\nYour account balance is : {self.balance + amount}\")\n",
        "\n",
        "  def debit(self,amount):\n",
        "    if self.balance < amount:\n",
        "      print(\"Insufficient balance\")\n",
        "    else:\n",
        "      print(f\"RS. {self.amount} has been debited\\nYour account balance is : {self.balance - amount}\")\n",
        "\n",
        "  def print_money(self):\n",
        "    print(f\"Your account balance is : {self.balance}\")\n",
        "\n",
        "holder = Account(20000,12345)\n",
        "\n",
        "holder.credit(500)\n",
        "holder.debit(1000)\n",
        "holder.print_money()"
      ],
      "metadata": {
        "colab": {
          "base_uri": "https://localhost:8080/"
        },
        "id": "IUDV6EiLoPTf",
        "outputId": "0aed39ec-56aa-42e3-8569-9108b1fc92d6"
      },
      "execution_count": null,
      "outputs": [
        {
          "output_type": "stream",
          "name": "stdout",
          "text": [
            "RS. 500 has been credited\n",
            "Your account balance is : 20500\n",
            "RS. 500 has been debited\n",
            "Your account balance is : 19000\n",
            "Your account balance is : 20000\n"
          ]
        }
      ]
    },
    {
      "cell_type": "code",
      "source": [
        "def amar_decorator(func):\n",
        "  def sajabo():\n",
        "    print(\"I LOVE YOU❤️\")\n",
        "    func()\n",
        "    print(\"I miss you😘\")\n",
        "    func()\n",
        "    print(\"I kiss You💋\")\n",
        "    func()\n",
        "  return sajabo\n",
        "# hoye gelo decorator banano ebare amar function banabo\n",
        "\n",
        "@amar_decorator\n",
        "def jaan():\n",
        "  print(\"Anu baby❤️❤️\")\n",
        "\n",
        "# ebare call kore debo jaan() k\n",
        "\n",
        "jaan()\n"
      ],
      "metadata": {
        "colab": {
          "base_uri": "https://localhost:8080/"
        },
        "id": "Wu-ZVEWmzLuq",
        "outputId": "289d5c0a-95a2-4577-c0ef-bef0f8ac5c0d"
      },
      "execution_count": null,
      "outputs": [
        {
          "output_type": "stream",
          "name": "stdout",
          "text": [
            "I LOVE YOU❤️\n",
            "Anu baby❤️❤️\n",
            "I miss you😘\n",
            "Anu baby❤️❤️\n",
            "I kiss You💋\n",
            "Anu baby❤️❤️\n"
          ]
        }
      ]
    },
    {
      "cell_type": "code",
      "source": [],
      "metadata": {
        "id": "AZ3wTMSArcj4"
      },
      "execution_count": null,
      "outputs": []
    }
  ]
}