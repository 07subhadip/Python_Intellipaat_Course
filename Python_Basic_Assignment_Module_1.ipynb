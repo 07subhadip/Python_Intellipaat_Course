{
  "nbformat": 4,
  "nbformat_minor": 0,
  "metadata": {
    "colab": {
      "provenance": []
    },
    "kernelspec": {
      "name": "python3",
      "display_name": "Python 3"
    },
    "language_info": {
      "name": "python"
    }
  },
  "cells": [
    {
      "cell_type": "markdown",
      "source": [
        "<div align=\"center\">\n",
        "\n",
        "  # 🐍 **IntelliPaat - Python Basic Assignment**\n",
        "  ---\n",
        "\n",
        "  **👨‍🎓 Name &rArr;** `Subhadip Hensh`  \n",
        "  **📅 Date &rArr;** `May 02, 2025`  \n",
        "\n",
        "  ---\n",
        "\n",
        "  ## 📘 **Module 1: Python Basics**\n",
        "\n",
        "</div>\n"
      ],
      "metadata": {
        "id": "FF0yLtMWg3C7"
      }
    },
    {
      "cell_type": "markdown",
      "source": [
        "### **📌 Q1. Using Python script as a Calculator**\n",
        "\n",
        "Create the variables `n`, `r`, and `p` and assign them the values `10`, `5`, and `100` respectively.  \n",
        "Then, evaluate the following expression in the Python console:\n",
        "\n",
        "$$\n",
        "A = p \\times \\left(1 + \\frac{r}{100}\\right)^n\n",
        "$$\n",
        "\n",
        "#### **🔢 Options :**\n",
        "a) 100  \n",
        "b) 162.89 ✅   \n",
        "c) 189  \n",
        "d) None of the above\n"
      ],
      "metadata": {
        "id": "cM33kA_oiKvo"
      }
    },
    {
      "cell_type": "code",
      "execution_count": 1,
      "metadata": {
        "colab": {
          "base_uri": "https://localhost:8080/"
        },
        "id": "1j4_0CKsg2S-",
        "outputId": "22d098a2-6e34-4c54-8de7-da854881ae50"
      },
      "outputs": [
        {
          "output_type": "stream",
          "name": "stdout",
          "text": [
            "162.8894626777442\n"
          ]
        }
      ],
      "source": [
        "n, r, p = 10, 5, 100\n",
        "\n",
        "print(p * (1 + (r / 100)) ** n) # 162.89"
      ]
    },
    {
      "cell_type": "markdown",
      "source": [
        "### **📌 Q2.  In a given string format operation, how will you print the given string.**\n",
        "\n",
        "`A = 10`  \n",
        "`B = 20`  \n",
        "`Str = \"There are {} students in the class, with {} who play at least one sport.\"`\n",
        "\n",
        "### **🔢 Options :**\n",
        "a) `print(Str.format(B, A))`  \n",
        "b) `print(Str + A + B)`   \n",
        "c) `print(Str.format(B, A))` ✅  \n",
        "d) None of the above    "
      ],
      "metadata": {
        "id": "0RFTw-cAkiA9"
      }
    },
    {
      "cell_type": "code",
      "source": [
        "A = 10\n",
        "B = 20\n",
        "\n",
        "Str = \"There are {} students in the class, with {} who play at least one sport.\"\n",
        "\n",
        "print(Str.format(B, A))"
      ],
      "metadata": {
        "colab": {
          "base_uri": "https://localhost:8080/"
        },
        "id": "Ia-WiawGjkPN",
        "outputId": "f47c9367-fa09-4c15-9694-c37bdd88b69a"
      },
      "execution_count": 2,
      "outputs": [
        {
          "output_type": "stream",
          "name": "stdout",
          "text": [
            "There are 20 students in the class, with 10 who play at least one sport.\n"
          ]
        }
      ]
    },
    {
      "cell_type": "markdown",
      "source": [
        "### **📌 Q3. In a given sample string, how do you print a double-quoted string in between a regular string using the escape character?**\n",
        "\n",
        "\n",
        "\n",
        "#### **Sample Output :**\n",
        "`It goes without saying, “Time is Money”, and none can deny it.`\n",
        "\n",
        "\n",
        "#### **🔤 Options :**\n",
        "a) `print(\"It goes without saying, \\\"Time is Money\\\", and none can deny it.\")` ✅  \n",
        "b) `print(\"It goes without saying, \\Time is Money\\, and none can deny it.\")`  \n",
        "c) `print(\"It goes without saying\" + \"Time is Money\" + \"and none can deny it.\")`  \n",
        "d) None of the above\n"
      ],
      "metadata": {
        "id": "6YAcdPlPpEdA"
      }
    },
    {
      "cell_type": "code",
      "source": [
        "print(\"It goes without saying, \\\"Time is Money\\\", and none can deny it.\")"
      ],
      "metadata": {
        "colab": {
          "base_uri": "https://localhost:8080/"
        },
        "id": "lFhEeyMGnNGm",
        "outputId": "69ac233d-49d4-4371-ef3d-bb2f58b3dd11"
      },
      "execution_count": 3,
      "outputs": [
        {
          "output_type": "stream",
          "name": "stdout",
          "text": [
            "It goes without saying, \"Time is Money\", and none can deny it.\n"
          ]
        }
      ]
    },
    {
      "cell_type": "markdown",
      "source": [
        "### 📌 **Q4. What will be the output of the following code?**\n",
        "\n",
        "```python\n",
        "x = lambda a, b: a // b\n",
        "x(10, 3)\n",
        "```\n",
        "#### **🔤 Options :**\n",
        "a) 3.3333333333   \n",
        "b) 3 ✅    \n",
        "c) 30   \n",
        "d) 1000   "
      ],
      "metadata": {
        "id": "q8SgLLsEq9z9"
      }
    },
    {
      "cell_type": "code",
      "source": [
        "x = lambda a, b: a // b\n",
        "x(10, 3)  # 3"
      ],
      "metadata": {
        "colab": {
          "base_uri": "https://localhost:8080/"
        },
        "id": "HzD9HujIqnAF",
        "outputId": "92084995-fd45-4e2f-8655-747d708bc0ee"
      },
      "execution_count": 4,
      "outputs": [
        {
          "output_type": "execute_result",
          "data": {
            "text/plain": [
              "3"
            ]
          },
          "metadata": {},
          "execution_count": 4
        }
      ]
    },
    {
      "cell_type": "markdown",
      "source": [
        "### 📌 **Q5. What will be the output of the following code?**\n",
        "\n",
        "\n",
        "\n",
        "```python\n",
        "A = 10\n",
        "B = 12\n",
        "print(\"Smaller\") if A == B else print(\"Greater\") if A < B else print(\"True\")\n",
        "```\n",
        "#### **🔢 Options :**\n",
        "a) True   \n",
        "b) Smaller    \n",
        "c) Greater ✅    \n",
        "d) None of the above    "
      ],
      "metadata": {
        "id": "IWLxsLwur8Pf"
      }
    },
    {
      "cell_type": "code",
      "source": [
        "A = 10\n",
        "B = 12\n",
        "print(\"Smaller\") if A == B else print(\"Greater\") if A < B else print(\"True\")"
      ],
      "metadata": {
        "colab": {
          "base_uri": "https://localhost:8080/"
        },
        "id": "wI9yvrtMrdFO",
        "outputId": "d72fc69b-be0a-456b-b77f-db5bfdd6d8fd"
      },
      "execution_count": 5,
      "outputs": [
        {
          "output_type": "stream",
          "name": "stdout",
          "text": [
            "Greater\n"
          ]
        }
      ]
    },
    {
      "cell_type": "markdown",
      "source": [
        "### 📌 **Q5. What will be the output of the following code?**\n",
        "\n",
        "```python\n",
        "import os\n",
        "import numpy as np\n",
        "my_list1 = [2,7,3,5,4,6]\n",
        "print(my_list1)\n",
        "arr_1 = numpy.array(my_list1, dtype = int)\n",
        "print(arr_1)\n",
        "```\n",
        "#### **🔢 Options :**\n",
        "a) `[2 7 3 5 4 6]`  \n",
        "b) `TypeError`  \n",
        "c) `NameError: name 'numpy' is not defined` ✅   \n",
        "d) None of the above"
      ],
      "metadata": {
        "id": "zF2NN1NNsrYZ"
      }
    },
    {
      "cell_type": "code",
      "source": [
        "import os\n",
        "import numpy as np\n",
        "my_list1 = [2,7,3,5,4,6]\n",
        "print(my_list1)\n",
        "arr_1 = numpy.array(my_list1, dtype = int)\n",
        "print(arr_1)"
      ],
      "metadata": {
        "colab": {
          "base_uri": "https://localhost:8080/",
          "height": 211
        },
        "id": "bD6O7XvDsfVX",
        "outputId": "a34245ac-a589-4935-9897-24d85a71b476"
      },
      "execution_count": 6,
      "outputs": [
        {
          "output_type": "stream",
          "name": "stdout",
          "text": [
            "[2, 7, 3, 5, 4, 6]\n"
          ]
        },
        {
          "output_type": "error",
          "ename": "NameError",
          "evalue": "name 'numpy' is not defined",
          "traceback": [
            "\u001b[0;31m---------------------------------------------------------------------------\u001b[0m",
            "\u001b[0;31mNameError\u001b[0m                                 Traceback (most recent call last)",
            "\u001b[0;32m<ipython-input-6-f034a299a7ed>\u001b[0m in \u001b[0;36m<cell line: 0>\u001b[0;34m()\u001b[0m\n\u001b[1;32m      3\u001b[0m \u001b[0mmy_list1\u001b[0m \u001b[0;34m=\u001b[0m \u001b[0;34m[\u001b[0m\u001b[0;36m2\u001b[0m\u001b[0;34m,\u001b[0m\u001b[0;36m7\u001b[0m\u001b[0;34m,\u001b[0m\u001b[0;36m3\u001b[0m\u001b[0;34m,\u001b[0m\u001b[0;36m5\u001b[0m\u001b[0;34m,\u001b[0m\u001b[0;36m4\u001b[0m\u001b[0;34m,\u001b[0m\u001b[0;36m6\u001b[0m\u001b[0;34m]\u001b[0m\u001b[0;34m\u001b[0m\u001b[0;34m\u001b[0m\u001b[0m\n\u001b[1;32m      4\u001b[0m \u001b[0mprint\u001b[0m\u001b[0;34m(\u001b[0m\u001b[0mmy_list1\u001b[0m\u001b[0;34m)\u001b[0m\u001b[0;34m\u001b[0m\u001b[0;34m\u001b[0m\u001b[0m\n\u001b[0;32m----> 5\u001b[0;31m \u001b[0marr_1\u001b[0m \u001b[0;34m=\u001b[0m \u001b[0mnumpy\u001b[0m\u001b[0;34m.\u001b[0m\u001b[0marray\u001b[0m\u001b[0;34m(\u001b[0m\u001b[0mmy_list1\u001b[0m\u001b[0;34m,\u001b[0m \u001b[0mdtype\u001b[0m \u001b[0;34m=\u001b[0m \u001b[0mint\u001b[0m\u001b[0;34m)\u001b[0m\u001b[0;34m\u001b[0m\u001b[0;34m\u001b[0m\u001b[0m\n\u001b[0m\u001b[1;32m      6\u001b[0m \u001b[0mprint\u001b[0m\u001b[0;34m(\u001b[0m\u001b[0marr_1\u001b[0m\u001b[0;34m)\u001b[0m\u001b[0;34m\u001b[0m\u001b[0;34m\u001b[0m\u001b[0m\n",
            "\u001b[0;31mNameError\u001b[0m: name 'numpy' is not defined"
          ]
        }
      ]
    },
    {
      "cell_type": "code",
      "source": [
        "# Correct Implementation of the code will be\n",
        "import os\n",
        "import numpy as np\n",
        "my_list1 = [2,7,3,5,4,6]\n",
        "print(my_list1)\n",
        "arr_1 = np.array(my_list1, dtype = int) # change numpy to np\n",
        "print(arr_1)"
      ],
      "metadata": {
        "colab": {
          "base_uri": "https://localhost:8080/"
        },
        "id": "JSGW2PwCuyF9",
        "outputId": "43bfafef-4712-4355-f2ae-3b64395e8ee6"
      },
      "execution_count": 11,
      "outputs": [
        {
          "output_type": "stream",
          "name": "stdout",
          "text": [
            "[2, 7, 3, 5, 4, 6]\n",
            "[2 7 3 5 4 6]\n"
          ]
        }
      ]
    },
    {
      "cell_type": "markdown",
      "source": [
        "### **📌 Q7. Create a string called `string` with the value as `Machine Learning`. Which code(s) is/are appropriate to slice the substring `Learn`?**\n",
        "\n",
        "#### **🔢 Options :**\n",
        "a. `string[slice(13,8,1)]`  \n",
        "b. `string[slice(1,8,1)]`   \n",
        "c. `string[8:14]`   \n",
        "d. `string[slice(8,13,1)]` ✅  "
      ],
      "metadata": {
        "id": "elbD3t1DvgfE"
      }
    },
    {
      "cell_type": "code",
      "source": [
        "string = \"Machine Learning\"\n",
        "\n",
        "string[slice(8,13,1)]   # Learn"
      ],
      "metadata": {
        "colab": {
          "base_uri": "https://localhost:8080/",
          "height": 35
        },
        "id": "GoaSR3jrtxuu",
        "outputId": "98a046cd-396a-4d6d-8d47-62d8eacea9a7"
      },
      "execution_count": 12,
      "outputs": [
        {
          "output_type": "execute_result",
          "data": {
            "text/plain": [
              "'Learn'"
            ],
            "application/vnd.google.colaboratory.intrinsic+json": {
              "type": "string"
            }
          },
          "metadata": {},
          "execution_count": 12
        }
      ]
    },
    {
      "cell_type": "markdown",
      "source": [
        "### **📌 Q8. Create a sequence of numbers from 10 to 25 and increment by 4. What is the index of the value 18?**\n",
        "\n",
        "#### **🔢 Options:**\n",
        "a) `3`  \n",
        "b) `2` ✅  \n",
        "c) `0`  \n",
        "d) `1`\n"
      ],
      "metadata": {
        "id": "Vzeo5wfaUFY7"
      }
    },
    {
      "cell_type": "code",
      "source": [
        "seq = list(range(10, 25, 4))\n",
        "print(seq)\n",
        "print(seq.index(18))"
      ],
      "metadata": {
        "id": "ik3NzHrRwNE2",
        "colab": {
          "base_uri": "https://localhost:8080/"
        },
        "outputId": "b0549f83-e70e-43ec-fa60-150498f9156f"
      },
      "execution_count": 13,
      "outputs": [
        {
          "output_type": "stream",
          "name": "stdout",
          "text": [
            "[10, 14, 18, 22]\n",
            "2\n"
          ]
        }
      ]
    },
    {
      "cell_type": "markdown",
      "source": [
        "### **📌 Q9. Which of the following is true with respect to the below codes?**\n",
        "\n",
        "```python\n",
        "num1 = 5 ** 4\n",
        "num2 = pow(5,4)\n",
        "print(num1,num2)\n",
        "```\n",
        "\n",
        "#### **🔢 Options:**\n",
        "a) `num1 = num2` ✅   \n",
        "b) `num1 ≠ num2`    \n",
        "c) `num1 < num2`    \n",
        "d) `num1 > num2`    \n"
      ],
      "metadata": {
        "id": "-Zoi9YqMVhtv"
      }
    },
    {
      "cell_type": "code",
      "source": [
        "num1 = 5 ** 4\n",
        "num2 = pow(5,4)\n",
        "print(num1,num2)"
      ],
      "metadata": {
        "colab": {
          "base_uri": "https://localhost:8080/"
        },
        "id": "kuyoz0LWVH23",
        "outputId": "46ef47fc-e337-4ec0-b2e9-87a1338d4742"
      },
      "execution_count": 14,
      "outputs": [
        {
          "output_type": "stream",
          "name": "stdout",
          "text": [
            "625 625\n"
          ]
        }
      ]
    },
    {
      "cell_type": "markdown",
      "source": [
        "### **📌 Q10. A Python NameError exception is raised when: -**\n",
        "\n",
        "#### **🔢 Options:**\n",
        "a) Trying to access a variable which has not been defined ✅  \n",
        "b) Trying to access a key in a dictionary that does not exist  \n",
        "c) Accessing a column with misspelled column name  \n",
        "d) Accessing the function from a module that has not been imported"
      ],
      "metadata": {
        "id": "AbM1bX3Tfmv9"
      }
    },
    {
      "cell_type": "markdown",
      "source": [
        "### **📌 Q11. What type of exception will be raised for the code given below?**\n",
        "\n",
        "```python\n",
        "x = \"string\"\n",
        "int(x)\n",
        "```\n",
        "#### **🔢 Options :**\n",
        "a) NameError    \n",
        "b) KeyError   \n",
        "c) ValueError ✅  \n",
        "d) AttributeError   "
      ],
      "metadata": {
        "id": "D9obfWRwgM6i"
      }
    },
    {
      "cell_type": "code",
      "source": [
        "x = \"string\"\n",
        "int(x)"
      ],
      "metadata": {
        "id": "GBFlWqWQWKgV",
        "colab": {
          "base_uri": "https://localhost:8080/",
          "height": 159
        },
        "outputId": "17d1eece-6063-45d2-8e66-e07b8433252f"
      },
      "execution_count": 15,
      "outputs": [
        {
          "output_type": "error",
          "ename": "ValueError",
          "evalue": "invalid literal for int() with base 10: 'string'",
          "traceback": [
            "\u001b[0;31m---------------------------------------------------------------------------\u001b[0m",
            "\u001b[0;31mValueError\u001b[0m                                Traceback (most recent call last)",
            "\u001b[0;32m<ipython-input-15-71a3c6915243>\u001b[0m in \u001b[0;36m<cell line: 0>\u001b[0;34m()\u001b[0m\n\u001b[1;32m      1\u001b[0m \u001b[0mx\u001b[0m \u001b[0;34m=\u001b[0m \u001b[0;34m\"string\"\u001b[0m\u001b[0;34m\u001b[0m\u001b[0;34m\u001b[0m\u001b[0m\n\u001b[0;32m----> 2\u001b[0;31m \u001b[0mint\u001b[0m\u001b[0;34m(\u001b[0m\u001b[0mx\u001b[0m\u001b[0;34m)\u001b[0m\u001b[0;34m\u001b[0m\u001b[0;34m\u001b[0m\u001b[0m\n\u001b[0m",
            "\u001b[0;31mValueError\u001b[0m: invalid literal for int() with base 10: 'string'"
          ]
        }
      ]
    },
    {
      "cell_type": "markdown",
      "source": [
        "### **📌 Q12. A `FileNotFoundError` exception is raised by operating system errors when:-**\n",
        "\n",
        "#### **🔢 Options :**\n",
        "a) Trying to create a file or directory which already exists  \n",
        "b) A file or directory is requested but does not exist in the working directory ✅  \n",
        "c) Trying to run an operation without the adequate access rights  \n",
        "d) A directory operation, `os.listdir()` is requested on something which is not a directory\n"
      ],
      "metadata": {
        "id": "nctPoU5-lT8w"
      }
    },
    {
      "cell_type": "code",
      "source": [
        "with open('nonexistent_file.txt', 'r') as f:\n",
        "    print(f.read())\n"
      ],
      "metadata": {
        "colab": {
          "base_uri": "https://localhost:8080/",
          "height": 159
        },
        "id": "9w1l4KxYgGPU",
        "outputId": "27fc7e09-f39f-4740-d602-b977e41c1f6c"
      },
      "execution_count": 16,
      "outputs": [
        {
          "output_type": "error",
          "ename": "FileNotFoundError",
          "evalue": "[Errno 2] No such file or directory: 'nonexistent_file.txt'",
          "traceback": [
            "\u001b[0;31m---------------------------------------------------------------------------\u001b[0m",
            "\u001b[0;31mFileNotFoundError\u001b[0m                         Traceback (most recent call last)",
            "\u001b[0;32m<ipython-input-16-422db95a7b88>\u001b[0m in \u001b[0;36m<cell line: 0>\u001b[0;34m()\u001b[0m\n\u001b[0;32m----> 1\u001b[0;31m \u001b[0;32mwith\u001b[0m \u001b[0mopen\u001b[0m\u001b[0;34m(\u001b[0m\u001b[0;34m'nonexistent_file.txt'\u001b[0m\u001b[0;34m,\u001b[0m \u001b[0;34m'r'\u001b[0m\u001b[0;34m)\u001b[0m \u001b[0;32mas\u001b[0m \u001b[0mf\u001b[0m\u001b[0;34m:\u001b[0m\u001b[0;34m\u001b[0m\u001b[0;34m\u001b[0m\u001b[0m\n\u001b[0m\u001b[1;32m      2\u001b[0m     \u001b[0mprint\u001b[0m\u001b[0;34m(\u001b[0m\u001b[0mf\u001b[0m\u001b[0;34m.\u001b[0m\u001b[0mread\u001b[0m\u001b[0;34m(\u001b[0m\u001b[0;34m)\u001b[0m\u001b[0;34m)\u001b[0m\u001b[0;34m\u001b[0m\u001b[0;34m\u001b[0m\u001b[0m\n",
            "\u001b[0;31mFileNotFoundError\u001b[0m: [Errno 2] No such file or directory: 'nonexistent_file.txt'"
          ]
        }
      ]
    },
    {
      "cell_type": "markdown",
      "source": [
        "### **📌 Q13. Consider a variable `Z`. The value of `Z` is `\"ID-5632\"`. What is the data type of `Z`?**\n",
        "\n",
        "#### **🔢 Options :**\n",
        "a) Complex  \n",
        "b) Character  \n",
        "c) Integer  \n",
        "d) Boolean  \n",
        "\n",
        "---\n",
        "\n",
        "### ✅ Correct Answer: `None of the above`  \n",
        "Although `\"Character\"` might sound close, Python **doesn't have a separate 'character' data type** like other languages.  \n",
        "Everything in quotes (single or double) is considered a **string (`str`)**.\n",
        "\n",
        "#### 🔍 Explanation:\n",
        "```python\n",
        "Z = \"ID-5632\"\n",
        "print(type(Z))  # Output: <class 'str'>\n",
        "```\n",
        "<p>So if here <code>Character</code> refers to <code>String</code> then <code>Character</code> will be the correct answer ✅</p>\n",
        "---\n"
      ],
      "metadata": {
        "id": "polwhj4Gl4aB"
      }
    },
    {
      "cell_type": "code",
      "source": [
        "Z = \"ID-5632\"\n",
        "print(type(Z))"
      ],
      "metadata": {
        "colab": {
          "base_uri": "https://localhost:8080/"
        },
        "id": "kru3wjX5lo1c",
        "outputId": "74315be8-dd5c-4263-efc0-59a55236b3a2"
      },
      "execution_count": 17,
      "outputs": [
        {
          "output_type": "stream",
          "name": "stdout",
          "text": [
            "<class 'str'>\n"
          ]
        }
      ]
    },
    {
      "cell_type": "markdown",
      "source": [
        "### **📌 Q14. Which of the following variable(s) are character data type?**\n",
        "\n",
        "#### **🔢 Options :**\n",
        "a) `K = \"4\"`  \n",
        "b) `J = \"Welcome\"`  \n",
        "c) `L = \"?\"`  \n",
        "d) All of the above ✅\n",
        "\n",
        "---\n",
        "\n",
        "### **✅ Correct Answer :** d) All of the above  \n",
        "\n",
        "#### 🔍 Explanation:\n",
        "In Python, anything enclosed in quotes (`' '` or `\" \"`) is considered a **string** (`str`) — even if it contains:\n",
        "- A digit (`\"4\"`)\n",
        "- A word (`\"Welcome\"`)\n",
        "- A symbol (`\"?\"`)\n",
        "\n",
        "```python\n",
        "print(type(\"4\"))       # <class 'str'>\n",
        "print(type(\"Welcome\")) # <class 'str'>\n",
        "print(type(\"?\"))       # <class 'str'>\n"
      ],
      "metadata": {
        "id": "Ttt-pBd2qpgL"
      }
    },
    {
      "cell_type": "markdown",
      "source": [
        "### **📌 Q15. Choose the symbol(s) that _do not_ have the ability to convert any values to a string :**\n",
        "\n",
        "#### **🔢 Options :**\n",
        "a) `( )` ✅  \n",
        "b) `\" \"`  \n",
        "c) `{}`  \n",
        "d) `#`✅  \n",
        "\n",
        "---\n",
        "\n",
        "### **✅ Correct Answers :**  \n",
        "a) `( )`  \n",
        "d) `#`  \n",
        "\n",
        "---\n",
        "\n",
        "### **🔍 Explanation :**\n",
        "\n",
        "| Symbol | Description | String Conversion Ability |\n",
        "|--------|-------------|---------------------------|\n",
        "| `( )`  | Parentheses used in expressions or grouping — not for conversion | ❌ |\n",
        "| `\" \"`  | Quotation marks create string literals | ✅ |\n",
        "| `{}`   | Used in string formatting (e.g., f-strings, `.format()`) | ✅ |\n",
        "| `#`    | Denotes a comment in Python — ignored during execution | ❌ |\n",
        "\n",
        "#### 🧪 Code Example:\n",
        "```python\n",
        "value = 100\n",
        "\n",
        "# ✅ Converts value to string\n",
        "print(\"Value is: {}\".format(value))  \n",
        "print(\"Value is: \" + str(value))     \n",
        "\n",
        "# ❌ These do not convert\n",
        "(100)     # Just a number inside parentheses\n",
        "# 100     # This is a comment, not executed\n"
      ],
      "metadata": {
        "id": "DiKMWLtAsHHO"
      }
    },
    {
      "cell_type": "code",
      "source": [
        "value = 100\n",
        "\n",
        "# ✅ Converts value to string\n",
        "print(\"Value is: {}\".format(value))\n",
        "print(\"Value is: \" + str(value))\n",
        "\n",
        "# ❌ These do not convert\n",
        "(100)     # Just a number inside parentheses\n",
        "# 100     # This is a comment, not executed"
      ],
      "metadata": {
        "id": "Z4kD5Oh3mT0U",
        "colab": {
          "base_uri": "https://localhost:8080/"
        },
        "outputId": "4bfa40f2-3b9a-4720-a6a2-e5dbd01a142a"
      },
      "execution_count": 18,
      "outputs": [
        {
          "output_type": "stream",
          "name": "stdout",
          "text": [
            "Value is: 100\n",
            "Value is: 100\n"
          ]
        },
        {
          "output_type": "execute_result",
          "data": {
            "text/plain": [
              "100"
            ]
          },
          "metadata": {},
          "execution_count": 18
        }
      ]
    },
    {
      "cell_type": "markdown",
      "source": [
        "### **📌 Q16. Create a dictionary `Country` that maps the following countries to their respective capitals :**\n",
        "\n",
        "#### **🗺️ Country to Capital Mapping :**\n",
        "  | Country  | Capital     |\n",
        "  |----------|-------------|\n",
        "  | India    | Delhi       |\n",
        "  | China    | Beijing     |\n",
        "  | Japan    | Tokyo       |\n",
        "  | Qatar    | Doha        |\n",
        "  | France   | Marseilles  |\n",
        "\n",
        "---\n",
        "\n",
        "Find **two commands** to replace `\"Marseilles\"` with `\"Paris\"` for the key `\"France\"`."
      ],
      "metadata": {
        "id": "tI6AxwjZul14"
      }
    },
    {
      "cell_type": "code",
      "source": [
        "Country = {\n",
        "    \"India\" : \"Delhi\",\n",
        "    \"China\" : \"Beijing\",\n",
        "    \"Japan\" : \"Tokyo\",\n",
        "    \"Qatar\" : \"Doha\",\n",
        "    \"France\" : \"Marseilles\"\n",
        "}\n",
        "print(Country)\n",
        "\n",
        "# Method 1: Direct assignment\n",
        "Country[\"France\"] = \"Paris\"\n",
        "print(Country)\n",
        "\n",
        "# Method 2: Using the update() method\n",
        "Country.update({\"France\": \"Paris\"})\n",
        "print(Country)"
      ],
      "metadata": {
        "colab": {
          "base_uri": "https://localhost:8080/"
        },
        "id": "wxtcois4uBQS",
        "outputId": "4c3ea309-3c07-4b13-bc0f-711f2dae50fa"
      },
      "execution_count": 20,
      "outputs": [
        {
          "output_type": "stream",
          "name": "stdout",
          "text": [
            "{'India': 'Delhi', 'China': 'Beijing', 'Japan': 'Tokyo', 'Qatar': 'Doha', 'France': 'Marseilles'}\n",
            "{'India': 'Delhi', 'China': 'Beijing', 'Japan': 'Tokyo', 'Qatar': 'Doha', 'France': 'Paris'}\n",
            "{'India': 'Delhi', 'China': 'Beijing', 'Japan': 'Tokyo', 'Qatar': 'Doha', 'France': 'Paris'}\n"
          ]
        }
      ]
    },
    {
      "cell_type": "markdown",
      "source": [
        "### **📌 Q17. Create the tuples given below**\n",
        "\n",
        "```python\n",
        "tuple_1 = (1, 5, 6, 7, 8)\n",
        "tuple_2 = (8, 9, 4)\n",
        "```\n",
        "**Identify which of the following code does not work on a tuple.**\n",
        "\n",
        "a. `sum(tuple_1)`     \n",
        "b. `len(tuple_2)`   \n",
        "c. `tuple_2 + tuple_1`    \n",
        "d. `tuple_1[3] = 45` ❌    \n"
      ],
      "metadata": {
        "id": "UeITWmU_wVpl"
      }
    },
    {
      "cell_type": "code",
      "source": [
        "tuple_1 = (1, 5, 6, 7, 8)\n",
        "tuple_2 = (8, 9, 4)\n",
        "\n",
        "print(sum(tuple_1))\n",
        "print(len(tuple_2))\n",
        "print(tuple_2 + tuple_1)\n",
        "#tuple_1[3] = 45   # Error! Tuples are immutable, so you cannot change individual elements."
      ],
      "metadata": {
        "colab": {
          "base_uri": "https://localhost:8080/"
        },
        "id": "F_7dzJQmvtZT",
        "outputId": "2c129180-992a-4262-e996-a1150ad5977b"
      },
      "execution_count": 25,
      "outputs": [
        {
          "output_type": "stream",
          "name": "stdout",
          "text": [
            "27\n",
            "3\n",
            "(8, 9, 4, 1, 5, 6, 7, 8)\n"
          ]
        }
      ]
    },
    {
      "cell_type": "markdown",
      "source": [
        "### **📌 Q18. How many elements in the following data structure?**\n",
        "\n",
        "```python\n",
        "S = {1,2,3,4,4,4,5,6}\n",
        "```\n",
        "\n",
        "#### **Answer :** `6`✅\n",
        "---\n",
        "#### **Explaination :**\n",
        "\n",
        "*In Python, a set is an unordered collection of unique elements.*\n",
        "*Even though 4 is repeated multiple times, it is stored only once in the set.*\n",
        "\n",
        "*So the set effectively becomes:*\n",
        "\n",
        "```bash\n",
        "{1,2,3,4,5,6}\n",
        "```"
      ],
      "metadata": {
        "id": "1tXqETKRx0GY"
      }
    },
    {
      "cell_type": "code",
      "source": [
        "S = {1,2,3,4,4,4,5,6}\n",
        "print(len(S))"
      ],
      "metadata": {
        "colab": {
          "base_uri": "https://localhost:8080/"
        },
        "id": "JxurW7xIw-1z",
        "outputId": "3df8fcfe-4312-44cf-f4b3-73b7cea47f4c"
      },
      "execution_count": 26,
      "outputs": [
        {
          "output_type": "stream",
          "name": "stdout",
          "text": [
            "6\n"
          ]
        }
      ]
    },
    {
      "cell_type": "markdown",
      "source": [
        "### **📌 Q19.Write a function which finds all pythagorean triplets of triangles whose sides are no greater than a natural number N.**"
      ],
      "metadata": {
        "id": "9YuCF7ym1XiM"
      }
    },
    {
      "cell_type": "code",
      "source": [
        "def pythagorean_triplets(num):\n",
        "  triplets = []\n",
        "  for a in range(1, num + 1):\n",
        "    for b in range(a , num + 1):\n",
        "      c_square = a ** 2 + b ** 2\n",
        "      c = int(c_square ** 0.5)\n",
        "      if c <= num and c ** 2 == c_square:\n",
        "        triplets.append((a, b, c))\n",
        "\n",
        "  for triplet in triplets:\n",
        "    print(triplet)"
      ],
      "metadata": {
        "id": "URFDtYutyJuT"
      },
      "execution_count": 31,
      "outputs": []
    },
    {
      "cell_type": "code",
      "source": [
        "pythagorean_triplets(10)"
      ],
      "metadata": {
        "colab": {
          "base_uri": "https://localhost:8080/"
        },
        "id": "wiTv-3zF217D",
        "outputId": "2be732d7-7718-4ccb-ff6b-7af099ea05e8"
      },
      "execution_count": 34,
      "outputs": [
        {
          "output_type": "stream",
          "name": "stdout",
          "text": [
            "(3, 4, 5)\n",
            "(6, 8, 10)\n"
          ]
        }
      ]
    },
    {
      "cell_type": "markdown",
      "source": [
        "---\n",
        "### **📅 Sumission Date :** `04-05-2025`\n",
        "---"
      ],
      "metadata": {
        "id": "rk9CuJd03yWy"
      }
    }
  ]
}