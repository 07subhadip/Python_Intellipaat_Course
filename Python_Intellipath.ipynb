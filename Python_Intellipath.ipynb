{
  "cells": [
    {
      "cell_type": "markdown",
      "metadata": {
        "colab_type": "text",
        "id": "view-in-github"
      },
      "source": [
        "<a href=\"https://colab.research.google.com/github/07subhadip/Python_Intellipaat_Course/blob/main/Python_Intellipath.ipynb\" target=\"_parent\"><img src=\"https://colab.research.google.com/assets/colab-badge.svg\" alt=\"Open In Colab\"/></a>"
      ]
    },
    {
      "cell_type": "markdown",
      "metadata": {
        "id": "4p6bLgzlGxMN"
      },
      "source": [
        "## Day 1 : Installation and Python Basics Started"
      ]
    },
    {
      "cell_type": "code",
      "execution_count": 134,
      "metadata": {
        "colab": {
          "base_uri": "https://localhost:8080/"
        },
        "id": "dlVt7GkYQnJZ",
        "outputId": "09dbd2f6-ba7a-49d7-d3c1-b918c2c1d235"
      },
      "outputs": [
        {
          "name": "stdout",
          "output_type": "stream",
          "text": [
            "hello world\n"
          ]
        }
      ],
      "source": [
        "print(\"hello world\")"
      ]
    },
    {
      "cell_type": "markdown",
      "metadata": {
        "id": "IzuP7G9-Vf7x"
      },
      "source": [
        "## Variable"
      ]
    },
    {
      "cell_type": "code",
      "execution_count": 135,
      "metadata": {
        "colab": {
          "base_uri": "https://localhost:8080/"
        },
        "id": "S7LgSoJhVh6E",
        "outputId": "022a0b1a-c900-4747-f34e-1b4b88184632"
      },
      "outputs": [
        {
          "name": "stdout",
          "output_type": "stream",
          "text": [
            "10\n"
          ]
        }
      ],
      "source": [
        "number = 10\n",
        "print(number)"
      ]
    },
    {
      "cell_type": "markdown",
      "metadata": {
        "id": "D0nwx1hSZeqU"
      },
      "source": [
        "## Rules for declaring variable\n",
        "\n",
        "- Can't start with a number but can use number in other place\n",
        "- Only can use '_' underscore but not other symbols ro any white space\n",
        "- Case Sensitive (NAME, Name, name are different)"
      ]
    },
    {
      "cell_type": "code",
      "execution_count": 136,
      "metadata": {
        "colab": {
          "base_uri": "https://localhost:8080/"
        },
        "id": "WVc0j4dMabR8",
        "outputId": "3334a85c-59d1-4a28-cdef-1c307ee19921"
      },
      "outputs": [
        {
          "name": "stdout",
          "output_type": "stream",
          "text": [
            "Subhadip Anusuya\n"
          ]
        }
      ],
      "source": [
        "name = 'Subhadip'\n",
        "Name = 'Anusuya'\n",
        "\n",
        "print(name, Name)"
      ]
    },
    {
      "cell_type": "code",
      "execution_count": 137,
      "metadata": {
        "colab": {
          "base_uri": "https://localhost:8080/"
        },
        "id": "Swy3gw6oait2",
        "outputId": "d178f022-6e7b-41b7-9cce-7b6649d86795"
      },
      "outputs": [
        {
          "name": "stdout",
          "output_type": "stream",
          "text": [
            "20\n"
          ]
        }
      ],
      "source": [
        "_value = 20\n",
        "print(_value)"
      ]
    },
    {
      "cell_type": "code",
      "execution_count": 138,
      "metadata": {
        "id": "VOMMwWZDaoe1"
      },
      "outputs": [],
      "source": [
        "#3school = 'BCCS'  # This is not allowed"
      ]
    },
    {
      "cell_type": "code",
      "execution_count": 139,
      "metadata": {
        "colab": {
          "base_uri": "https://localhost:8080/"
        },
        "id": "8yIY8wiUaw_z",
        "outputId": "4a08d462-350c-48ae-e2b7-d0cc2ce14e22"
      },
      "outputs": [
        {
          "name": "stdout",
          "output_type": "stream",
          "text": [
            "BCCS\n"
          ]
        }
      ],
      "source": [
        "school3 = 'BCCS'  # This is allowed\n",
        "print(school3)"
      ]
    },
    {
      "cell_type": "markdown",
      "metadata": {
        "id": "KDvHR6piG5Lz"
      },
      "source": [
        "## Day 2 :"
      ]
    },
    {
      "cell_type": "markdown",
      "metadata": {
        "id": "DxUxOEXFKv3-"
      },
      "source": [
        "## Data Types\n",
        "- Integer Data Type\n",
        "- Float Data Type\n",
        "- Text Data Type\n",
        "- Boolean Data"
      ]
    },
    {
      "cell_type": "markdown",
      "metadata": {
        "id": "ry3pNoh6Ljz6"
      },
      "source": [
        "## Numeric Data-types"
      ]
    },
    {
      "cell_type": "code",
      "execution_count": 140,
      "metadata": {
        "colab": {
          "base_uri": "https://localhost:8080/"
        },
        "id": "v3KaERb9a2DU",
        "outputId": "fcf8fa7a-b45a-4818-d95c-9339e1ac71b9"
      },
      "outputs": [
        {
          "name": "stdout",
          "output_type": "stream",
          "text": [
            "10\n",
            "0\n",
            "-20\n",
            "<class 'int'>\n",
            "<class 'int'>\n",
            "<class 'int'>\n"
          ]
        }
      ],
      "source": [
        "# integer - positive and negative number including 0\n",
        "\n",
        "num1 = 10\n",
        "num2 = 0\n",
        "num3 = -20\n",
        "\n",
        "print(num1)\n",
        "print(num2)\n",
        "print(num3)\n",
        "\n",
        "print(type(num1))\n",
        "print(type(num2))\n",
        "print(type(num3))"
      ]
    },
    {
      "cell_type": "code",
      "execution_count": 141,
      "metadata": {
        "colab": {
          "base_uri": "https://localhost:8080/"
        },
        "id": "BGPvzR7dMcWZ",
        "outputId": "2171c267-280b-4422-fc42-eabdb596b843"
      },
      "outputs": [
        {
          "name": "stdout",
          "output_type": "stream",
          "text": [
            "23.5\n",
            "-75.6\n",
            "<class 'float'>\n",
            "<class 'float'>\n"
          ]
        }
      ],
      "source": [
        "# float-data - positive and negative decimal number\n",
        "num1 = 23.5\n",
        "num2 = -75.6\n",
        "\n",
        "print(num1)\n",
        "print(num2)\n",
        "\n",
        "print(type(num1))\n",
        "print(type(num2))"
      ]
    },
    {
      "cell_type": "markdown",
      "metadata": {
        "id": "bAPWHQ3ZM8jx"
      },
      "source": [
        "## Text Data Type\n",
        "String\n",
        "To write the string\n",
        "'' or \"\""
      ]
    },
    {
      "cell_type": "code",
      "execution_count": 142,
      "metadata": {
        "colab": {
          "base_uri": "https://localhost:8080/"
        },
        "id": "gExQr0zfMzH0",
        "outputId": "5fb88b5e-7ae0-4913-f6ed-41164ca62c09"
      },
      "outputs": [
        {
          "name": "stdout",
          "output_type": "stream",
          "text": [
            "<class 'str'>\n",
            "<class 'str'>\n",
            "\n",
            "This is line 1\n",
            "this is line 2\n",
            "\n"
          ]
        }
      ],
      "source": [
        "name = 'Subhadip'\n",
        "print(type(name))\n",
        "\n",
        "num = \"23\"\n",
        "print(type(num))\n",
        "\n",
        "string = \"\"\"\n",
        "This is line 1\n",
        "this is line 2\n",
        "\"\"\"\n",
        "\n",
        "print(string)"
      ]
    },
    {
      "cell_type": "markdown",
      "metadata": {
        "id": "gFsow6DQNkpw"
      },
      "source": [
        "## Boolean Data\n",
        "- True\n",
        "- False\n",
        "\n",
        "note : T and F will be in Capital in True and False"
      ]
    },
    {
      "cell_type": "code",
      "execution_count": 143,
      "metadata": {
        "colab": {
          "base_uri": "https://localhost:8080/"
        },
        "id": "HO75FxjUNWEb",
        "outputId": "8b44f19f-19bb-43e1-8b84-f5003da69c13"
      },
      "outputs": [
        {
          "name": "stdout",
          "output_type": "stream",
          "text": [
            "True\n",
            "False\n",
            "<class 'bool'>\n",
            "<class 'bool'>\n"
          ]
        }
      ],
      "source": [
        "x = True\n",
        "y = False\n",
        "print(x)\n",
        "print(y)\n",
        "\n",
        "print(type(x))\n",
        "print(type(y))"
      ]
    },
    {
      "cell_type": "markdown",
      "metadata": {
        "id": "TjwN3CLCOt1l"
      },
      "source": [
        "## Comments\n"
      ]
    },
    {
      "cell_type": "code",
      "execution_count": 144,
      "metadata": {
        "colab": {
          "base_uri": "https://localhost:8080/"
        },
        "id": "cIZBFf6dOG2r",
        "outputId": "314e37e6-a8b4-4e2b-b117-54afaa4f8395"
      },
      "outputs": [
        {
          "name": "stdout",
          "output_type": "stream",
          "text": [
            "Hello\n",
            " World\n"
          ]
        }
      ],
      "source": [
        "# I am Printing Hello World\n",
        "print(\"Hello\\n World\")"
      ]
    },
    {
      "cell_type": "code",
      "execution_count": 145,
      "metadata": {
        "colab": {
          "base_uri": "https://localhost:8080/"
        },
        "id": "LNxNtF-QPMur",
        "outputId": "73641d69-d1a5-4464-cb08-30bf3c63f512"
      },
      "outputs": [
        {
          "name": "stdout",
          "output_type": "stream",
          "text": [
            "Hello World\n"
          ]
        }
      ],
      "source": [
        "'''\n",
        "Multi Line Comments\n",
        "abcs\n",
        "1234\n",
        "fdfd\n",
        "'''\n",
        "print(\"Hello World\")"
      ]
    },
    {
      "cell_type": "markdown",
      "metadata": {
        "id": "CJP6fQxtRJ88"
      },
      "source": [
        "## Type Casting\n",
        "To change a data from one data type to another data type"
      ]
    },
    {
      "cell_type": "code",
      "execution_count": 146,
      "metadata": {
        "colab": {
          "base_uri": "https://localhost:8080/"
        },
        "id": "3ETSCgouPjP7",
        "outputId": "00370c5d-b2ab-4fea-c545-7f5189e55939"
      },
      "outputs": [
        {
          "name": "stdout",
          "output_type": "stream",
          "text": [
            "<class 'int'>\n",
            "<class 'float'>\n",
            "<class 'str'>\n"
          ]
        }
      ],
      "source": [
        "num = 10\n",
        "print(type(num))\n",
        "\n",
        "num2 = float(num)\n",
        "print(type(num2))\n",
        "\n",
        "num3 = str(num2)\n",
        "print(type(num3))"
      ]
    },
    {
      "cell_type": "markdown",
      "metadata": {
        "id": "QBewxPcAVafq"
      },
      "source": [
        "## User Input\n",
        "- By default it takes String"
      ]
    },
    {
      "cell_type": "code",
      "execution_count": 147,
      "metadata": {
        "colab": {
          "base_uri": "https://localhost:8080/"
        },
        "id": "4cduXe8SRcup",
        "outputId": "5e2c0108-8195-4e93-f28d-4da3fca2a536"
      },
      "outputs": [
        {
          "name": "stdout",
          "output_type": "stream",
          "text": [
            "Enter Your Name : 12\n",
            "12\n"
          ]
        }
      ],
      "source": [
        "name = input(\"Enter Your Name : \")\n",
        "print(name)"
      ]
    },
    {
      "cell_type": "code",
      "execution_count": 148,
      "metadata": {
        "colab": {
          "base_uri": "https://localhost:8080/"
        },
        "id": "gTswan91Vsnk",
        "outputId": "d8d58a9c-4676-4ab0-f51e-d19bbdee16d1"
      },
      "outputs": [
        {
          "name": "stdout",
          "output_type": "stream",
          "text": [
            "Enter a number : 12\n",
            "12\n",
            "<class 'int'>\n"
          ]
        }
      ],
      "source": [
        "num = int(input(\"Enter a number : \"))\n",
        "print(num)\n",
        "print(type(num))"
      ]
    },
    {
      "cell_type": "markdown",
      "metadata": {
        "id": "CHVvo_R8czZt"
      },
      "source": [
        "## Operators\n",
        "- Arithmatic Operators\n",
        "- Assingment Operators\n",
        "- Conditional Operators"
      ]
    },
    {
      "cell_type": "markdown",
      "metadata": {
        "id": "KLy6BoKXdKBe"
      },
      "source": [
        "## Arithmatic Operator\n",
        "- + , - , * , / , // , ** , %"
      ]
    },
    {
      "cell_type": "code",
      "execution_count": 149,
      "metadata": {
        "colab": {
          "base_uri": "https://localhost:8080/"
        },
        "id": "xr2aUR7EWA5D",
        "outputId": "db786348-6874-423d-b35a-a6a5570f982c"
      },
      "outputs": [
        {
          "name": "stdout",
          "output_type": "stream",
          "text": [
            "Addition :  15\n"
          ]
        }
      ],
      "source": [
        "num = 10\n",
        "print(\"Addition : \",num+5)"
      ]
    },
    {
      "cell_type": "code",
      "execution_count": 150,
      "metadata": {
        "colab": {
          "base_uri": "https://localhost:8080/"
        },
        "id": "DrolDBELdZi7",
        "outputId": "de971386-541f-4fb3-d5be-598511635551"
      },
      "outputs": [
        {
          "name": "stdout",
          "output_type": "stream",
          "text": [
            "Subtraction :  5\n"
          ]
        }
      ],
      "source": [
        "num = 10\n",
        "print(\"Subtraction : \",num - 5)"
      ]
    },
    {
      "cell_type": "code",
      "execution_count": 151,
      "metadata": {
        "colab": {
          "base_uri": "https://localhost:8080/"
        },
        "id": "Vn3ct-JKdfvm",
        "outputId": "b6b6312b-5561-4aef-c841-51c8031dfd18"
      },
      "outputs": [
        {
          "name": "stdout",
          "output_type": "stream",
          "text": [
            "Multiplication :  80\n"
          ]
        }
      ],
      "source": [
        "num = 10\n",
        "print(\"Multiplication : \",num * 8)"
      ]
    },
    {
      "cell_type": "code",
      "execution_count": 152,
      "metadata": {
        "colab": {
          "base_uri": "https://localhost:8080/"
        },
        "id": "k1exd_99dj0t",
        "outputId": "1d959f5d-d8b5-4d9a-88f1-29bfaf8422eb"
      },
      "outputs": [
        {
          "name": "stdout",
          "output_type": "stream",
          "text": [
            "Division : 5.666666666666667\n"
          ]
        }
      ],
      "source": [
        "num = 17\n",
        "print(\"Division :\",num / 3)"
      ]
    },
    {
      "cell_type": "code",
      "execution_count": 153,
      "metadata": {
        "colab": {
          "base_uri": "https://localhost:8080/"
        },
        "id": "CNmqR8xedq0-",
        "outputId": "dd1e6756-d1d7-4aa9-859c-c401f02c7458"
      },
      "outputs": [
        {
          "name": "stdout",
          "output_type": "stream",
          "text": [
            "Division using // : 5\n"
          ]
        }
      ],
      "source": [
        "num = 17\n",
        "print(\"Division using // :\",num // 3)"
      ]
    },
    {
      "cell_type": "code",
      "execution_count": 154,
      "metadata": {
        "colab": {
          "base_uri": "https://localhost:8080/"
        },
        "id": "gDafn7u-eMDm",
        "outputId": "66696c2f-8979-4d24-efcb-ac68300241a1"
      },
      "outputs": [
        {
          "name": "stdout",
          "output_type": "stream",
          "text": [
            "Modulus : 1\n"
          ]
        }
      ],
      "source": [
        "num = 10\n",
        "print(\"Modulus :\",num%3)"
      ]
    },
    {
      "cell_type": "code",
      "execution_count": 155,
      "metadata": {
        "colab": {
          "base_uri": "https://localhost:8080/"
        },
        "id": "AWWfSTloed5u",
        "outputId": "7cfca14b-c750-4072-9c6e-adc1d1897afa"
      },
      "outputs": [
        {
          "name": "stdout",
          "output_type": "stream",
          "text": [
            "Power : 100\n"
          ]
        }
      ],
      "source": [
        "num = 10\n",
        "print(\"Power :\",num**2)"
      ]
    },
    {
      "cell_type": "markdown",
      "metadata": {
        "id": "HIUE4zQxeqQ8"
      },
      "source": [
        "## Assignment Operators\n",
        "- = , += , -= , *= , /= , //= , %="
      ]
    },
    {
      "cell_type": "code",
      "execution_count": 156,
      "metadata": {
        "colab": {
          "base_uri": "https://localhost:8080/"
        },
        "id": "nSuODTYQepGG",
        "outputId": "14c95e05-f07d-4813-b9f7-587cf4f3deac"
      },
      "outputs": [
        {
          "name": "stdout",
          "output_type": "stream",
          "text": [
            "15\n",
            "10\n",
            "100\n",
            "50.0\n",
            "16.0\n",
            "256.0\n",
            "0.0\n"
          ]
        }
      ],
      "source": [
        "num = 10\n",
        "\n",
        "num += 5\n",
        "print(num)\n",
        "\n",
        "num -= 5\n",
        "print(num)\n",
        "\n",
        "num *= 10\n",
        "print(num)\n",
        "\n",
        "num /= 2\n",
        "print(num)\n",
        "\n",
        "num //= 3\n",
        "print(num)\n",
        "\n",
        "num **= 2\n",
        "print(num)\n",
        "\n",
        "num %= 2\n",
        "print(num)"
      ]
    },
    {
      "cell_type": "markdown",
      "metadata": {
        "id": "JlUW7AqpgXii"
      },
      "source": [
        "## Comparison Operators\n",
        "- these are the conditional operators --> [ > , < , == , >= , <= , != ]"
      ]
    },
    {
      "cell_type": "code",
      "execution_count": 157,
      "metadata": {
        "colab": {
          "base_uri": "https://localhost:8080/"
        },
        "id": "A7_7Tc3egNlf",
        "outputId": "818b37e2-bf33-4cdd-85d6-d8d56862ae76"
      },
      "outputs": [
        {
          "name": "stdout",
          "output_type": "stream",
          "text": [
            "True\n",
            "False\n",
            "False\n",
            "True\n",
            "False\n",
            "True\n"
          ]
        }
      ],
      "source": [
        "x = 10\n",
        "y = 7\n",
        "\n",
        "print(x > y)\n",
        "print(x < y)\n",
        "print(x == y)\n",
        "print(x >= y)\n",
        "print(x <= y)\n",
        "print(x != y)"
      ]
    },
    {
      "cell_type": "markdown",
      "metadata": {
        "id": "1Ktowj2iiXPJ"
      },
      "source": [
        "## Logical Operator\n",
        "- and , or , not"
      ]
    },
    {
      "cell_type": "code",
      "execution_count": 158,
      "metadata": {
        "colab": {
          "base_uri": "https://localhost:8080/"
        },
        "id": "2Z5pqr7MhZOe",
        "outputId": "6e5eb4bc-5842-4451-9e80-5dc84e58bca5"
      },
      "outputs": [
        {
          "name": "stdout",
          "output_type": "stream",
          "text": [
            "False\n",
            "True\n",
            "False\n",
            "True\n"
          ]
        }
      ],
      "source": [
        "x = True\n",
        "y = False\n",
        "\n",
        "print(x and y)\n",
        "print(x or y)\n",
        "print(not x)\n",
        "print(not y)"
      ]
    },
    {
      "cell_type": "code",
      "execution_count": 158,
      "metadata": {
        "id": "GejcOtSrjOWH"
      },
      "outputs": [],
      "source": []
    }
  ],
  "metadata": {
    "colab": {
      "authorship_tag": "ABX9TyNF30mLFITbSiXNzk0dNZYp",
      "include_colab_link": true,
      "provenance": []
    },
    "kernelspec": {
      "display_name": "Python 3",
      "name": "python3"
    },
    "language_info": {
      "name": "python",
      "version": "3.13.1"
    }
  },
  "nbformat": 4,
  "nbformat_minor": 0
}
