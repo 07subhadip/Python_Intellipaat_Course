{
<<<<<<< HEAD
<<<<<<< HEAD
  "nbformat": 4,
  "nbformat_minor": 0,
  "metadata": {
    "colab": {
      "provenance": [],
      "authorship_tag": "ABX9TyM3rPc3saSRSWAR9194vQvX",
      "include_colab_link": true
    },
    "kernelspec": {
      "name": "python3",
      "display_name": "Python 3"
    },
    "language_info": {
      "name": "python"
    }
  },
=======
>>>>>>> 74e12dd (No code changes made)
=======
>>>>>>> 74e12dd25140098cfecf38f235e91935a7113898
  "cells": [
    {
      "cell_type": "markdown",
      "metadata": {
        "colab_type": "text",
        "id": "view-in-github"
      },
      "source": [
        "<a href=\"https://colab.research.google.com/github/07subhadip/Python_Intellipaat_Course/blob/main/Python_Intellipath.ipynb\" target=\"_parent\"><img src=\"https://colab.research.google.com/assets/colab-badge.svg\" alt=\"Open In Colab\"/></a>"
      ]
    },
    {
      "cell_type": "markdown",
<<<<<<< HEAD
<<<<<<< HEAD
      "source": [
        "## **Day 1 : Installation and Python Basics Started**"
      ],
=======
>>>>>>> 74e12dd (No code changes made)
=======
>>>>>>> 74e12dd25140098cfecf38f235e91935a7113898
      "metadata": {
        "id": "4p6bLgzlGxMN"
      },
      "source": [
        "## Day 1 : Installation and Python Basics Started"
      ]
    },
    {
      "cell_type": "code",
      "execution_count": 34,
      "metadata": {
        "colab": {
          "base_uri": "https://localhost:8080/"
        },
        "id": "dlVt7GkYQnJZ",
        "outputId": "183e18a3-8149-433a-b755-3867f4812efc"
      },
<<<<<<< HEAD
<<<<<<< HEAD
      "execution_count": null,
=======
>>>>>>> 74e12dd (No code changes made)
=======
>>>>>>> 74e12dd25140098cfecf38f235e91935a7113898
      "outputs": [
        {
          "name": "stdout",
          "output_type": "stream",
          "text": [
            "hello world\n"
          ]
        }
      ],
      "source": [
        "print(\"hello world\")"
      ]
    },
    {
      "cell_type": "markdown",
<<<<<<< HEAD
<<<<<<< HEAD
      "source": [
        "## **Variable**"
      ],
=======
>>>>>>> 74e12dd (No code changes made)
=======
>>>>>>> 74e12dd25140098cfecf38f235e91935a7113898
      "metadata": {
        "id": "IzuP7G9-Vf7x"
      },
      "source": [
        "## Variable"
      ]
    },
    {
      "cell_type": "code",
      "execution_count": 35,
      "metadata": {
        "colab": {
          "base_uri": "https://localhost:8080/"
        },
        "id": "S7LgSoJhVh6E",
        "outputId": "06e1b1f1-f20c-4823-ba95-dee8453400c1"
      },
<<<<<<< HEAD
<<<<<<< HEAD
      "execution_count": null,
=======
>>>>>>> 74e12dd (No code changes made)
=======
>>>>>>> 74e12dd25140098cfecf38f235e91935a7113898
      "outputs": [
        {
          "name": "stdout",
          "output_type": "stream",
          "text": [
            "10\n"
          ]
        }
      ],
      "source": [
        "number = 10\n",
        "print(number)"
      ]
    },
    {
      "cell_type": "markdown",
      "metadata": {
        "id": "D0nwx1hSZeqU"
      },
      "source": [
        "## **Rules for declaring variable**\n",
        "\n",
        "- Can't start with a number but can use number in other place\n",
<<<<<<< HEAD
<<<<<<< HEAD
        "- Only can use `_` underscore but not other symbols ro any white space\n",
        "- Case Sensitive (`NAME`, `Name`, `name` are different)"
      ],
      "metadata": {
        "id": "D0nwx1hSZeqU"
      }
=======
        "- Only can use '_' underscore but not other symbols ro any white space\n",
        "- Case Sensitive (NAME, Name, name are different)"
      ]
>>>>>>> 74e12dd (No code changes made)
=======
        "- Only can use '_' underscore but not other symbols ro any white space\n",
        "- Case Sensitive (NAME, Name, name are different)"
      ]
>>>>>>> 74e12dd25140098cfecf38f235e91935a7113898
    },
    {
      "cell_type": "code",
      "execution_count": 36,
      "metadata": {
        "colab": {
          "base_uri": "https://localhost:8080/"
        },
        "id": "WVc0j4dMabR8",
        "outputId": "514352c6-946e-4e95-fa90-e1b5e8b76f69"
      },
<<<<<<< HEAD
<<<<<<< HEAD
      "execution_count": null,
=======
>>>>>>> 74e12dd (No code changes made)
=======
>>>>>>> 74e12dd25140098cfecf38f235e91935a7113898
      "outputs": [
        {
          "name": "stdout",
          "output_type": "stream",
          "text": [
            "Subhadip Anupam\n"
          ]
        }
      ],
      "source": [
        "name = 'Subhadip'\n",
        "Name = 'Anupam'\n",
        "\n",
        "print(name, Name)"
      ]
    },
    {
      "cell_type": "code",
      "execution_count": 37,
      "metadata": {
        "colab": {
          "base_uri": "https://localhost:8080/"
        },
        "id": "Swy3gw6oait2",
        "outputId": "b1fad57d-dbf4-4481-83b3-f67b0cefcfc5"
      },
<<<<<<< HEAD
<<<<<<< HEAD
      "execution_count": null,
=======
>>>>>>> 74e12dd (No code changes made)
=======
>>>>>>> 74e12dd25140098cfecf38f235e91935a7113898
      "outputs": [
        {
          "name": "stdout",
          "output_type": "stream",
          "text": [
            "20\n"
          ]
        }
      ],
      "source": [
        "_value = 20\n",
        "print(_value)"
      ]
    },
    {
      "cell_type": "code",
      "execution_count": 38,
      "metadata": {
        "id": "VOMMwWZDaoe1"
      },
<<<<<<< HEAD
<<<<<<< HEAD
      "execution_count": null,
      "outputs": []
=======
=======
>>>>>>> 74e12dd25140098cfecf38f235e91935a7113898
      "outputs": [],
      "source": [
        "#3school = 'BCCS'  # This is not allowed"
      ]
<<<<<<< HEAD
>>>>>>> 74e12dd (No code changes made)
=======
>>>>>>> 74e12dd25140098cfecf38f235e91935a7113898
    },
    {
      "cell_type": "code",
      "execution_count": 39,
      "metadata": {
        "colab": {
          "base_uri": "https://localhost:8080/"
        },
        "id": "8yIY8wiUaw_z",
        "outputId": "f3b833fa-915d-4fbe-8ab5-3e0809b375bd"
      },
<<<<<<< HEAD
<<<<<<< HEAD
      "execution_count": null,
=======
>>>>>>> 74e12dd (No code changes made)
=======
>>>>>>> 74e12dd25140098cfecf38f235e91935a7113898
      "outputs": [
        {
          "name": "stdout",
          "output_type": "stream",
          "text": [
            "BCCS\n"
          ]
        }
      ],
      "source": [
        "school3 = 'BCCS'  # This is allowed\n",
        "print(school3)"
      ]
    },
    {
      "cell_type": "markdown",
<<<<<<< HEAD
<<<<<<< HEAD
      "source": [
        "# **Day 2**"
      ],
=======
>>>>>>> 74e12dd (No code changes made)
=======
>>>>>>> 74e12dd25140098cfecf38f235e91935a7113898
      "metadata": {
        "id": "KDvHR6piG5Lz"
      },
      "source": [
        "## Day 2 :"
      ]
    },
    {
      "cell_type": "markdown",
      "metadata": {
        "id": "DxUxOEXFKv3-"
      },
      "source": [
        "## **Data Types**\n",
        "- Integer Data Type\n",
        "- Float Data Type\n",
        "- Text Data Type\n",
        "- Boolean Data"
      ]
    },
    {
      "cell_type": "markdown",
<<<<<<< HEAD
<<<<<<< HEAD
      "source": [
        "## **Numeric Data-types**"
      ],
=======
>>>>>>> 74e12dd (No code changes made)
=======
>>>>>>> 74e12dd25140098cfecf38f235e91935a7113898
      "metadata": {
        "id": "ry3pNoh6Ljz6"
      },
      "source": [
        "## Numeric Data-types"
      ]
    },
    {
      "cell_type": "code",
      "execution_count": 40,
      "metadata": {
        "colab": {
          "base_uri": "https://localhost:8080/"
        },
        "id": "v3KaERb9a2DU",
        "outputId": "89b127ed-2a8b-4b94-da50-e7741856f52a"
      },
      "outputs": [
        {
          "name": "stdout",
          "output_type": "stream",
          "text": [
            "10\n",
            "0\n",
            "-20\n",
            "<class 'int'>\n",
            "<class 'int'>\n",
            "<class 'int'>\n"
          ]
        }
      ],
      "source": [
        "# integer - positive and negative number including 0\n",
        "\n",
        "num1 = 10\n",
        "num2 = 0\n",
        "num3 = -20\n",
        "\n",
        "print(num1)\n",
        "print(num2)\n",
        "print(num3)\n",
        "\n",
        "print(type(num1))\n",
        "print(type(num2))\n",
        "print(type(num3))"
<<<<<<< HEAD
<<<<<<< HEAD
      ],
      "metadata": {
        "id": "v3KaERb9a2DU",
        "colab": {
          "base_uri": "https://localhost:8080/"
        },
        "outputId": "89b127ed-2a8b-4b94-da50-e7741856f52a"
      },
      "execution_count": null,
      "outputs": [
        {
          "output_type": "stream",
          "name": "stdout",
          "text": [
            "10\n",
            "0\n",
            "-20\n",
            "<class 'int'>\n",
            "<class 'int'>\n",
            "<class 'int'>\n"
          ]
        }
=======
>>>>>>> 74e12dd (No code changes made)
=======
>>>>>>> 74e12dd25140098cfecf38f235e91935a7113898
      ]
    },
    {
      "cell_type": "code",
      "execution_count": 41,
      "metadata": {
        "colab": {
          "base_uri": "https://localhost:8080/"
        },
        "id": "BGPvzR7dMcWZ",
        "outputId": "35d9eb45-2718-43fc-f5f5-a5cefdc26c54"
      },
      "outputs": [
        {
          "name": "stdout",
          "output_type": "stream",
          "text": [
            "23.5\n",
            "-75.6\n",
            "<class 'float'>\n",
            "<class 'float'>\n"
          ]
        }
      ],
      "source": [
        "# float-data - positive and negative decimal number\n",
        "num1 = 23.5\n",
        "num2 = -75.6\n",
        "\n",
        "print(num1)\n",
        "print(num2)\n",
        "\n",
        "print(type(num1))\n",
        "print(type(num2))"
<<<<<<< HEAD
<<<<<<< HEAD
      ],
      "metadata": {
        "colab": {
          "base_uri": "https://localhost:8080/"
        },
        "id": "BGPvzR7dMcWZ",
        "outputId": "35d9eb45-2718-43fc-f5f5-a5cefdc26c54"
      },
      "execution_count": null,
      "outputs": [
        {
          "output_type": "stream",
          "name": "stdout",
          "text": [
            "23.5\n",
            "-75.6\n",
            "<class 'float'>\n",
            "<class 'float'>\n"
          ]
        }
=======
>>>>>>> 74e12dd (No code changes made)
=======
>>>>>>> 74e12dd25140098cfecf38f235e91935a7113898
      ]
    },
    {
      "cell_type": "markdown",
      "metadata": {
        "id": "bAPWHQ3ZM8jx"
      },
      "source": [
<<<<<<< HEAD
<<<<<<< HEAD
        "## **Text Data Type**\n",
        "- String\n",
        "  - To write the string we can use `' '` or `\" \"`"
      ],
      "metadata": {
        "id": "bAPWHQ3ZM8jx"
      }
=======
=======
>>>>>>> 74e12dd25140098cfecf38f235e91935a7113898
        "## Text Data Type\n",
        "String\n",
        "To write the string\n",
        "'' or \"\""
      ]
<<<<<<< HEAD
>>>>>>> 74e12dd (No code changes made)
=======
>>>>>>> 74e12dd25140098cfecf38f235e91935a7113898
    },
    {
      "cell_type": "code",
      "execution_count": 42,
      "metadata": {
        "colab": {
          "base_uri": "https://localhost:8080/"
        },
        "id": "gExQr0zfMzH0",
        "outputId": "ed3c6efd-b96b-41ea-921b-7873b08746db"
      },
      "outputs": [
        {
          "name": "stdout",
          "output_type": "stream",
          "text": [
            "<class 'str'>\n",
            "<class 'str'>\n",
            "\n",
            "This is line 1\n",
            "this is line 2\n",
            "\n"
          ]
        }
      ],
      "source": [
        "name = 'Subhadip'\n",
        "print(type(name))\n",
        "\n",
        "num = \"23\"\n",
        "print(type(num))\n",
        "\n",
        "string = \"\"\"\n",
        "This is line 1\n",
        "this is line 2\n",
        "\"\"\"\n",
        "\n",
        "print(string)"
<<<<<<< HEAD
<<<<<<< HEAD
      ],
      "metadata": {
        "colab": {
          "base_uri": "https://localhost:8080/"
        },
        "id": "gExQr0zfMzH0",
        "outputId": "ed3c6efd-b96b-41ea-921b-7873b08746db"
      },
      "execution_count": null,
      "outputs": [
        {
          "output_type": "stream",
          "name": "stdout",
          "text": [
            "<class 'str'>\n",
            "<class 'str'>\n",
            "\n",
            "This is line 1\n",
            "this is line 2\n",
            "\n"
          ]
        }
=======
>>>>>>> 74e12dd (No code changes made)
=======
>>>>>>> 74e12dd25140098cfecf38f235e91935a7113898
      ]
    },
    {
      "cell_type": "markdown",
      "metadata": {
        "id": "gFsow6DQNkpw"
      },
      "source": [
        "## **Boolean Data**\n",
        "- `True`\n",
        "- `False`\n",
        "\n",
<<<<<<< HEAD
<<<<<<< HEAD
        "**Note** : T and F will be in Capital in `True` and `False`"
      ],
      "metadata": {
        "id": "gFsow6DQNkpw"
      }
=======
        "note : T and F will be in Capital in True and False"
      ]
>>>>>>> 74e12dd (No code changes made)
=======
        "note : T and F will be in Capital in True and False"
      ]
>>>>>>> 74e12dd25140098cfecf38f235e91935a7113898
    },
    {
      "cell_type": "code",
      "execution_count": 43,
      "metadata": {
        "colab": {
          "base_uri": "https://localhost:8080/"
        },
        "id": "HO75FxjUNWEb",
        "outputId": "c65f1b0b-5af1-4f29-ba6b-69d320fd8a71"
      },
      "outputs": [
        {
          "name": "stdout",
          "output_type": "stream",
          "text": [
            "True\n",
            "False\n",
            "<class 'bool'>\n",
            "<class 'bool'>\n"
          ]
        }
      ],
      "source": [
        "x = True\n",
        "y = False\n",
        "print(x)\n",
        "print(y)\n",
        "\n",
        "print(type(x))\n",
        "print(type(y))"
<<<<<<< HEAD
<<<<<<< HEAD
      ],
      "metadata": {
        "colab": {
          "base_uri": "https://localhost:8080/"
        },
        "id": "HO75FxjUNWEb",
        "outputId": "c65f1b0b-5af1-4f29-ba6b-69d320fd8a71"
      },
      "execution_count": null,
      "outputs": [
        {
          "output_type": "stream",
          "name": "stdout",
          "text": [
            "True\n",
            "False\n",
            "<class 'bool'>\n",
            "<class 'bool'>\n"
          ]
        }
=======
>>>>>>> 74e12dd (No code changes made)
=======
>>>>>>> 74e12dd25140098cfecf38f235e91935a7113898
      ]
    },
    {
      "cell_type": "markdown",
<<<<<<< HEAD
<<<<<<< HEAD
      "source": [
        "## **Comments**\n"
      ],
=======
>>>>>>> 74e12dd (No code changes made)
=======
>>>>>>> 74e12dd25140098cfecf38f235e91935a7113898
      "metadata": {
        "id": "TjwN3CLCOt1l"
      },
      "source": [
        "## Comments\n"
      ]
    },
    {
      "cell_type": "code",
      "execution_count": 44,
      "metadata": {
        "colab": {
          "base_uri": "https://localhost:8080/"
        },
        "id": "cIZBFf6dOG2r",
        "outputId": "e955be7b-6f57-4802-9f06-ceac317ae14a"
      },
<<<<<<< HEAD
<<<<<<< HEAD
      "execution_count": null,
=======
>>>>>>> 74e12dd (No code changes made)
=======
>>>>>>> 74e12dd25140098cfecf38f235e91935a7113898
      "outputs": [
        {
          "name": "stdout",
          "output_type": "stream",
          "text": [
            "Hello\n",
            " World\n"
          ]
        }
      ],
      "source": [
        "# I am Printing Hello World\n",
        "print(\"Hello\\n World\")"
      ]
    },
    {
      "cell_type": "code",
      "execution_count": 45,
      "metadata": {
        "colab": {
          "base_uri": "https://localhost:8080/"
        },
        "id": "LNxNtF-QPMur",
        "outputId": "b87e0072-56a0-4980-b451-6eb3986f60f3"
      },
      "outputs": [
        {
          "name": "stdout",
          "output_type": "stream",
          "text": [
            "Hello World\n"
          ]
        }
      ],
      "source": [
        "'''\n",
        "Multi Line Comments\n",
        "abcs\n",
        "1234\n",
        "fdfd\n",
        "'''\n",
        "print(\"Hello World\")"
<<<<<<< HEAD
<<<<<<< HEAD
      ],
      "metadata": {
        "colab": {
          "base_uri": "https://localhost:8080/"
        },
        "id": "LNxNtF-QPMur",
        "outputId": "b87e0072-56a0-4980-b451-6eb3986f60f3"
      },
      "execution_count": null,
      "outputs": [
        {
          "output_type": "stream",
          "name": "stdout",
          "text": [
            "Hello World\n"
          ]
        }
=======
>>>>>>> 74e12dd (No code changes made)
=======
>>>>>>> 74e12dd25140098cfecf38f235e91935a7113898
      ]
    },
    {
      "cell_type": "markdown",
      "metadata": {
        "id": "CJP6fQxtRJ88"
      },
      "source": [
<<<<<<< HEAD
        "## **Type Casting**\n",
=======
        "## Type Casting\n",
>>>>>>> 74e12dd25140098cfecf38f235e91935a7113898
        "To change a data from one data type to another data type"
      ]
    },
    {
      "cell_type": "code",
      "execution_count": 46,
      "metadata": {
        "colab": {
          "base_uri": "https://localhost:8080/"
        },
        "id": "3ETSCgouPjP7",
        "outputId": "a044f2e2-dc26-456f-c147-893ba9740871"
      },
      "outputs": [
        {
          "name": "stdout",
          "output_type": "stream",
          "text": [
            "<class 'int'>\n",
            "<class 'float'>\n",
            "<class 'str'>\n"
          ]
        }
      ],
      "source": [
        "num = 10\n",
        "print(type(num))\n",
        "\n",
        "num2 = float(num)\n",
        "print(type(num2))\n",
        "\n",
        "num3 = str(num2)\n",
        "print(type(num3))"
<<<<<<< HEAD
<<<<<<< HEAD
      ],
      "metadata": {
        "colab": {
          "base_uri": "https://localhost:8080/"
        },
        "id": "3ETSCgouPjP7",
        "outputId": "a044f2e2-dc26-456f-c147-893ba9740871"
      },
      "execution_count": null,
      "outputs": [
        {
          "output_type": "stream",
          "name": "stdout",
          "text": [
            "<class 'int'>\n",
            "<class 'float'>\n",
            "<class 'str'>\n"
          ]
        }
=======
>>>>>>> 74e12dd (No code changes made)
=======
>>>>>>> 74e12dd25140098cfecf38f235e91935a7113898
      ]
    },
    {
      "cell_type": "markdown",
      "metadata": {
        "id": "QBewxPcAVafq"
      },
      "source": [
<<<<<<< HEAD
        "## **User Input**\n",
=======
        "## User Input\n",
>>>>>>> 74e12dd25140098cfecf38f235e91935a7113898
        "- By default it takes String"
      ]
    },
    {
      "cell_type": "code",
      "execution_count": 47,
      "metadata": {
        "colab": {
          "base_uri": "https://localhost:8080/"
        },
        "id": "4cduXe8SRcup",
        "outputId": "2dde6e89-7775-4d29-ea2a-a7dcf979a91b"
      },
<<<<<<< HEAD
<<<<<<< HEAD
      "execution_count": null,
=======
>>>>>>> 74e12dd (No code changes made)
=======
>>>>>>> 74e12dd25140098cfecf38f235e91935a7113898
      "outputs": [
        {
          "name": "stdout",
          "output_type": "stream",
          "text": [
            "Enter Your Name : subhadip\n",
            "subhadip\n"
          ]
        }
      ],
      "source": [
        "name = input(\"Enter Your Name : \")\n",
        "print(name)"
      ]
    },
    {
      "cell_type": "code",
      "execution_count": 48,
      "metadata": {
        "colab": {
          "base_uri": "https://localhost:8080/"
        },
        "id": "gTswan91Vsnk",
        "outputId": "1a8fccb3-3776-4882-f3d1-57479a5dae55"
      },
<<<<<<< HEAD
<<<<<<< HEAD
      "execution_count": null,
=======
>>>>>>> 74e12dd (No code changes made)
=======
>>>>>>> 74e12dd25140098cfecf38f235e91935a7113898
      "outputs": [
        {
          "name": "stdout",
          "output_type": "stream",
          "text": [
            "Enter a number : 24\n",
            "24\n",
            "<class 'int'>\n"
          ]
        }
      ],
      "source": [
        "num = int(input(\"Enter a number : \"))\n",
        "print(num)\n",
        "print(type(num))"
      ]
    },
    {
      "cell_type": "markdown",
      "metadata": {
        "id": "CHVvo_R8czZt"
      },
      "source": [
<<<<<<< HEAD
<<<<<<< HEAD
        "## **Operators**\n",
        "- *Arithmatic Operators*\n",
        "- *Assingment Operators*\n",
        "- *Conditional Operators*"
      ],
      "metadata": {
        "id": "CHVvo_R8czZt"
      }
=======
=======
>>>>>>> 74e12dd25140098cfecf38f235e91935a7113898
        "## Operators\n",
        "- Arithmatic Operators\n",
        "- Assingment Operators\n",
        "- Conditional Operators"
      ]
<<<<<<< HEAD
>>>>>>> 74e12dd (No code changes made)
=======
>>>>>>> 74e12dd25140098cfecf38f235e91935a7113898
    },
    {
      "cell_type": "markdown",
      "metadata": {
        "id": "KLy6BoKXdKBe"
      },
      "source": [
        "## **Arithmatic Operator**\n",
        "- + , - , * , / , // , ** , %"
<<<<<<< HEAD
<<<<<<< HEAD
      ],
      "metadata": {
        "id": "KLy6BoKXdKBe"
      }
    },
    {
      "cell_type": "code",
      "source": [
        "num = 10\n",
        "print(\"Addition : \",num+5)"
      ],
      "metadata": {
        "id": "xr2aUR7EWA5D",
        "colab": {
          "base_uri": "https://localhost:8080/"
        },
        "outputId": "caf90819-0268-421f-8e5d-357dcd703b2b"
      },
      "execution_count": null,
      "outputs": [
        {
          "output_type": "stream",
          "name": "stdout",
          "text": [
            "Addition :  15\n"
          ]
        }
=======
>>>>>>> 74e12dd (No code changes made)
=======
>>>>>>> 74e12dd25140098cfecf38f235e91935a7113898
      ]
    },
    {
      "cell_type": "code",
      "execution_count": 49,
      "metadata": {
        "colab": {
          "base_uri": "https://localhost:8080/"
        },
        "id": "xr2aUR7EWA5D",
        "outputId": "caf90819-0268-421f-8e5d-357dcd703b2b"
      },
      "outputs": [
        {
          "name": "stdout",
          "output_type": "stream",
          "text": [
            "Addition :  15\n"
          ]
        }
      ],
      "source": [
        "num = 10\n",
        "print(\"Addition : \",num+5)"
      ]
    },
    {
      "cell_type": "code",
      "execution_count": 50,
      "metadata": {
        "colab": {
          "base_uri": "https://localhost:8080/"
        },
        "id": "DrolDBELdZi7",
        "outputId": "d0d8f67c-c68b-4352-8ec2-0bde35d11470"
      },
<<<<<<< HEAD
<<<<<<< HEAD
      "execution_count": null,
=======
>>>>>>> 74e12dd (No code changes made)
=======
>>>>>>> 74e12dd25140098cfecf38f235e91935a7113898
      "outputs": [
        {
          "name": "stdout",
          "output_type": "stream",
          "text": [
            "Subtraction :  5\n"
          ]
        }
      ],
      "source": [
        "num = 10\n",
        "print(\"Subtraction : \",num - 5)"
      ]
    },
    {
      "cell_type": "code",
      "execution_count": 51,
      "metadata": {
        "colab": {
          "base_uri": "https://localhost:8080/"
        },
        "id": "Vn3ct-JKdfvm",
        "outputId": "dfc7f2dc-5317-42eb-e422-ac027c2b4ec9"
      },
<<<<<<< HEAD
<<<<<<< HEAD
      "execution_count": null,
=======
>>>>>>> 74e12dd (No code changes made)
=======
>>>>>>> 74e12dd25140098cfecf38f235e91935a7113898
      "outputs": [
        {
          "name": "stdout",
          "output_type": "stream",
          "text": [
            "Multiplication :  80\n"
          ]
        }
      ],
      "source": [
        "num = 10\n",
        "print(\"Multiplication : \",num * 8)"
      ]
    },
    {
      "cell_type": "code",
      "execution_count": 52,
      "metadata": {
        "colab": {
          "base_uri": "https://localhost:8080/"
        },
        "id": "k1exd_99dj0t",
        "outputId": "c6089959-9740-4822-ed0c-cd355eb50a48"
      },
<<<<<<< HEAD
<<<<<<< HEAD
      "execution_count": null,
=======
>>>>>>> 74e12dd (No code changes made)
=======
>>>>>>> 74e12dd25140098cfecf38f235e91935a7113898
      "outputs": [
        {
          "name": "stdout",
          "output_type": "stream",
          "text": [
            "Division : 5.666666666666667\n"
          ]
        }
      ],
      "source": [
        "num = 17\n",
        "print(\"Division :\",num / 3)"
      ]
    },
    {
      "cell_type": "code",
      "execution_count": 53,
      "metadata": {
        "colab": {
          "base_uri": "https://localhost:8080/"
        },
        "id": "CNmqR8xedq0-",
        "outputId": "c1f28c13-af6a-4bf6-9130-13b3a2bb9807"
      },
<<<<<<< HEAD
<<<<<<< HEAD
      "execution_count": null,
=======
>>>>>>> 74e12dd (No code changes made)
=======
>>>>>>> 74e12dd25140098cfecf38f235e91935a7113898
      "outputs": [
        {
          "name": "stdout",
          "output_type": "stream",
          "text": [
            "Floor Division // : 5\n"
          ]
        }
      ],
      "source": [
        "num = 17\n",
        "print(\"Floor Division // :\",num // 3)"
      ]
    },
    {
      "cell_type": "code",
      "execution_count": 54,
      "metadata": {
        "colab": {
          "base_uri": "https://localhost:8080/"
        },
        "id": "gDafn7u-eMDm",
        "outputId": "5cbc747c-7c01-4570-aa1b-70213528f5ff"
      },
<<<<<<< HEAD
<<<<<<< HEAD
      "execution_count": null,
=======
>>>>>>> 74e12dd (No code changes made)
=======
>>>>>>> 74e12dd25140098cfecf38f235e91935a7113898
      "outputs": [
        {
          "name": "stdout",
          "output_type": "stream",
          "text": [
            "Modulus : 1\n"
          ]
        }
      ],
      "source": [
        "num = 10\n",
        "print(\"Modulus :\",num%3)"
      ]
    },
    {
      "cell_type": "code",
      "execution_count": 55,
      "metadata": {
        "colab": {
          "base_uri": "https://localhost:8080/"
        },
        "id": "AWWfSTloed5u",
        "outputId": "bfd539d5-b2bc-48f7-ffb3-48b48a3635bc"
      },
<<<<<<< HEAD
<<<<<<< HEAD
      "execution_count": null,
=======
>>>>>>> 74e12dd (No code changes made)
=======
>>>>>>> 74e12dd25140098cfecf38f235e91935a7113898
      "outputs": [
        {
          "name": "stdout",
          "output_type": "stream",
          "text": [
            "Power : 100\n"
          ]
        }
      ],
      "source": [
        "num = 10\n",
        "print(\"Power :\",num**2)"
      ]
    },
    {
      "cell_type": "markdown",
      "metadata": {
        "id": "HIUE4zQxeqQ8"
      },
      "source": [
<<<<<<< HEAD
        "## **Assignment Operators**\n",
=======
        "## Assignment Operators\n",
>>>>>>> 74e12dd25140098cfecf38f235e91935a7113898
        "- = , += , -= , *= , /= , //= , %="
      ]
    },
    {
      "cell_type": "code",
      "execution_count": 56,
      "metadata": {
        "colab": {
          "base_uri": "https://localhost:8080/"
        },
        "id": "nSuODTYQepGG",
        "outputId": "e6550227-289c-4e9d-c836-fc760f2f3e1f"
      },
      "outputs": [
        {
          "name": "stdout",
          "output_type": "stream",
          "text": [
            "15\n",
            "10\n",
            "100\n",
            "50.0\n",
            "16.0\n",
            "256.0\n",
            "0.0\n"
          ]
        }
      ],
      "source": [
        "num = 10\n",
        "\n",
        "num += 5\n",
        "print(num)\n",
        "\n",
        "num -= 5\n",
        "print(num)\n",
        "\n",
        "num *= 10\n",
        "print(num)\n",
        "\n",
        "num /= 2\n",
        "print(num)\n",
        "\n",
        "num //= 3\n",
        "print(num)\n",
        "\n",
        "num **= 2\n",
        "print(num)\n",
        "\n",
        "num %= 2\n",
        "print(num)"
<<<<<<< HEAD
<<<<<<< HEAD
      ],
      "metadata": {
        "colab": {
          "base_uri": "https://localhost:8080/"
        },
        "id": "nSuODTYQepGG",
        "outputId": "e6550227-289c-4e9d-c836-fc760f2f3e1f"
      },
      "execution_count": null,
      "outputs": [
        {
          "output_type": "stream",
          "name": "stdout",
          "text": [
            "15\n",
            "10\n",
            "100\n",
            "50.0\n",
            "16.0\n",
            "256.0\n",
            "0.0\n"
          ]
        }
=======
>>>>>>> 74e12dd (No code changes made)
=======
>>>>>>> 74e12dd25140098cfecf38f235e91935a7113898
      ]
    },
    {
      "cell_type": "markdown",
      "metadata": {
        "id": "JlUW7AqpgXii"
      },
      "source": [
<<<<<<< HEAD
        "## **Comparison Operators**\n",
=======
        "## Comparison Operators\n",
>>>>>>> 74e12dd25140098cfecf38f235e91935a7113898
        "- these are the conditional operators --> [ > , < , == , >= , <= , != ]"
      ]
    },
    {
      "cell_type": "code",
      "execution_count": 57,
      "metadata": {
        "colab": {
          "base_uri": "https://localhost:8080/"
        },
        "id": "A7_7Tc3egNlf",
        "outputId": "fda38b43-7012-4b8c-d329-36e4a022ea43"
      },
      "outputs": [
        {
          "name": "stdout",
          "output_type": "stream",
          "text": [
            "True\n",
            "False\n",
            "False\n",
            "True\n",
            "False\n",
            "True\n"
          ]
        }
      ],
      "source": [
        "x = 10\n",
        "y = 7\n",
        "\n",
        "print(x > y)\n",
        "print(x < y)\n",
        "print(x == y)\n",
        "print(x >= y)\n",
        "print(x <= y)\n",
        "print(x != y)"
      ]
    },
    {
      "cell_type": "markdown",
      "metadata": {
        "id": "1Ktowj2iiXPJ"
      },
      "source": [
        "## Logical Operator\n",
        "- and , or , not"
      ]
    },
    {
      "cell_type": "code",
      "execution_count": 58,
      "metadata": {
        "colab": {
          "base_uri": "https://localhost:8080/"
        },
        "id": "2Z5pqr7MhZOe",
        "outputId": "d7d77efb-3512-42ef-bfa7-e7797fcfe17b"
      },
<<<<<<< HEAD
<<<<<<< HEAD
      "execution_count": null,
=======
>>>>>>> 74e12dd (No code changes made)
=======
>>>>>>> 74e12dd25140098cfecf38f235e91935a7113898
      "outputs": [
        {
          "name": "stdout",
          "output_type": "stream",
          "text": [
            "False\n",
            "True\n",
            "False\n",
            "True\n"
          ]
        }
<<<<<<< HEAD
<<<<<<< HEAD
      ]
    },
    {
      "cell_type": "markdown",
      "source": [
        "## **Logical Operator**\n",
        "- and , or , not"
=======
>>>>>>> 74e12dd (No code changes made)
=======
>>>>>>> 74e12dd25140098cfecf38f235e91935a7113898
      ],
      "source": [
        "x = True\n",
        "y = False\n",
        "\n",
        "print(x and y)\n",
        "print(x or y)\n",
        "print(not x)\n",
        "print(not y)"
<<<<<<< HEAD
<<<<<<< HEAD
      ],
      "metadata": {
        "colab": {
          "base_uri": "https://localhost:8080/"
        },
        "id": "2Z5pqr7MhZOe",
        "outputId": "d7d77efb-3512-42ef-bfa7-e7797fcfe17b"
      },
      "execution_count": null,
      "outputs": [
        {
          "output_type": "stream",
          "name": "stdout",
          "text": [
            "False\n",
            "True\n",
            "False\n",
            "True\n"
          ]
        }
=======
>>>>>>> 74e12dd (No code changes made)
=======
>>>>>>> 74e12dd25140098cfecf38f235e91935a7113898
      ]
    },
    {
      "cell_type": "markdown",
<<<<<<< HEAD
<<<<<<< HEAD
      "source": [
        "# **Day 3**"
      ],
=======
>>>>>>> 74e12dd (No code changes made)
=======
>>>>>>> 74e12dd25140098cfecf38f235e91935a7113898
      "metadata": {
        "id": "YmU96WSTRUuj"
      },
      "source": [
        "## Day 3"
      ]
    },
    {
      "cell_type": "markdown",
      "metadata": {
        "id": "5L5PB31qUGsp"
      },
      "source": [
<<<<<<< HEAD
        "## **Membership Operators**\n",
=======
        "## Membership Operators\n",
>>>>>>> 74e12dd25140098cfecf38f235e91935a7113898
        "- It tells about the value whether they are member of (list, tuple, string etc.) or not\n",
        "- in, not in"
      ]
    },
    {
      "cell_type": "code",
      "execution_count": 59,
      "metadata": {
        "colab": {
          "base_uri": "https://localhost:8080/"
        },
        "id": "GejcOtSrjOWH",
        "outputId": "5eeb8dd1-226e-4ba5-ef0f-f08e59fb524d"
      },
<<<<<<< HEAD
<<<<<<< HEAD
      "execution_count": null,
=======
>>>>>>> 74e12dd (No code changes made)
=======
>>>>>>> 74e12dd25140098cfecf38f235e91935a7113898
      "outputs": [
        {
          "name": "stdout",
          "output_type": "stream",
          "text": [
            "True\n",
            "False\n",
            "False\n"
          ]
        }
      ],
      "source": [
        "fruitBasket = ['Apple','Mango','Grapes','SugerCane']\n",
        "\n",
        "print('Apple' in fruitBasket)\n",
        "print('Banana' in fruitBasket)\n",
        "print('Apple' not in fruitBasket)"
      ]
    },
    {
      "cell_type": "markdown",
      "metadata": {
        "id": "qYJNRigPVpNc"
      },
      "source": [
<<<<<<< HEAD
        "## **Identity Operators**\n",
=======
        "## Identity Operators\n",
>>>>>>> 74e12dd25140098cfecf38f235e91935a7113898
        "- Checks if two variables reference the same object in memory.\n",
        "- is , is not"
      ]
    },
    {
      "cell_type": "code",
      "execution_count": 60,
      "metadata": {
        "colab": {
          "base_uri": "https://localhost:8080/"
        },
        "id": "11NsNVYlVRPM",
        "outputId": "08d1d41e-7a0a-4278-cbfe-ae60a7b3b69d"
      },
      "outputs": [
        {
          "name": "stdout",
          "output_type": "stream",
          "text": [
            "False\n",
            "139811695023872\n",
            "139811695020928\n",
            "True\n",
            "139811695023872\n",
            "139811695023872\n"
          ]
        }
      ],
      "source": [
        "x = [1,2,3]\n",
        "y = [1,2,3]\n",
        "\n",
        "z = x\n",
        "\n",
        "print(x is y)\n",
        "print(id(x))  # id() used to see the memory location\n",
        "print(id(y))\n",
        "\n",
        "print(z is x)\n",
        "print(id(x))\n",
        "print(id(z))"
<<<<<<< HEAD
<<<<<<< HEAD
      ],
      "metadata": {
        "colab": {
          "base_uri": "https://localhost:8080/"
        },
        "id": "11NsNVYlVRPM",
        "outputId": "08d1d41e-7a0a-4278-cbfe-ae60a7b3b69d"
      },
      "execution_count": null,
      "outputs": [
        {
          "output_type": "stream",
          "name": "stdout",
          "text": [
            "False\n",
            "139811695023872\n",
            "139811695020928\n",
            "True\n",
            "139811695023872\n",
            "139811695023872\n"
          ]
        }
=======
>>>>>>> 74e12dd (No code changes made)
=======
>>>>>>> 74e12dd25140098cfecf38f235e91935a7113898
      ]
    },
    {
      "cell_type": "markdown",
      "metadata": {
        "id": "05imRXiuYs1C"
      },
      "source": [
        "## **Sequential Data Types**\n",
        "- List\n",
        "- Tuple\n",
        "- String\n",
        "\n",
        "## **Unsequential Data Types**\n",
        "- Dict\n",
        "- Set"
      ]
    },
    {
      "cell_type": "markdown",
      "metadata": {
        "id": "1p6oWLQkaBJt"
      },
      "source": [
<<<<<<< HEAD
        "## **Unsequential Data Type**\n",
        "### **Dictionary**\n",
=======
        "## Unsequential Data Type\n",
        "### Dictionary\n",
>>>>>>> 74e12dd25140098cfecf38f235e91935a7113898
        "- In Dictionary We have Key-Value pairs\n"
      ]
    },
    {
      "cell_type": "code",
      "execution_count": 61,
      "metadata": {
        "colab": {
          "base_uri": "https://localhost:8080/"
        },
        "id": "JaR3OHIrWFZw",
        "outputId": "ded11105-c105-47fc-8c7b-5d7527f8cbd7"
      },
      "outputs": [
        {
          "name": "stdout",
          "output_type": "stream",
          "text": [
            "<class 'dict'>\n",
            "{'Name': 'Subhadip', 'Age': 24, 'Job': 'AI Engineer', 'Country': 'India'}\n"
          ]
        }
      ],
      "source": [
        "person = {\n",
        "    \"Name\" : \"Subhadip\",\n",
        "    \"Age\" : 24,\n",
        "    \"Job\" : \"AI Engineer\",\n",
        "    \"Country\" : \"India\"\n",
        "}\n",
        "\n",
        "print(type(person))\n",
        "print(person)"
<<<<<<< HEAD
<<<<<<< HEAD
      ],
      "metadata": {
        "colab": {
          "base_uri": "https://localhost:8080/"
        },
        "id": "JaR3OHIrWFZw",
        "outputId": "ded11105-c105-47fc-8c7b-5d7527f8cbd7"
      },
      "execution_count": null,
      "outputs": [
        {
          "output_type": "stream",
          "name": "stdout",
          "text": [
            "<class 'dict'>\n",
            "{'Name': 'Subhadip', 'Age': 24, 'Job': 'AI Engineer', 'Country': 'India'}\n"
          ]
        }
=======
>>>>>>> 74e12dd (No code changes made)
=======
>>>>>>> 74e12dd25140098cfecf38f235e91935a7113898
      ]
    },
    {
      "cell_type": "code",
      "execution_count": 62,
      "metadata": {
        "colab": {
          "base_uri": "https://localhost:8080/"
        },
        "id": "Ec24lduQanks",
        "outputId": "5c6698d2-3ab9-4e51-b84f-77ec232681d3"
      },
<<<<<<< HEAD
<<<<<<< HEAD
      "execution_count": null,
=======
>>>>>>> 74e12dd (No code changes made)
=======
>>>>>>> 74e12dd25140098cfecf38f235e91935a7113898
      "outputs": [
        {
          "name": "stdout",
          "output_type": "stream",
          "text": [
            "24\n",
            "India\n"
          ]
        }
      ],
      "source": [
        "# I want to see the age of the person\n",
        "# Keys are used to access the values present inside your dictionary\n",
        "print(person['Age'])\n",
        "# I want to see Country of the person\n",
        "print(person['Country'])\n"
      ]
    },
    {
      "cell_type": "code",
      "execution_count": 63,
      "metadata": {
        "colab": {
          "base_uri": "https://localhost:8080/"
        },
        "id": "oOqiaDz-chSA",
        "outputId": "7044951c-830e-4c5e-e8a8-9c27c76bde95"
      },
<<<<<<< HEAD
<<<<<<< HEAD
      "execution_count": null,
=======
>>>>>>> 74e12dd (No code changes made)
=======
>>>>>>> 74e12dd25140098cfecf38f235e91935a7113898
      "outputs": [
        {
          "name": "stdout",
          "output_type": "stream",
          "text": [
            "{'Name': 'Subhadip', 'Age': 24, 'Job': 'AI Engineer', 'Country': 'India', 'Salary': 10000}\n"
          ]
        }
      ],
      "source": [
        "person['Salary'] = 10000\n",
        "print(person)"
      ]
    },
    {
      "cell_type": "code",
      "execution_count": 64,
      "metadata": {
        "colab": {
          "base_uri": "https://localhost:8080/"
        },
        "id": "lS_9L-Rxd7A7",
        "outputId": "d9ac2cf4-4a2b-4671-d08c-6c81b5f76341"
      },
<<<<<<< HEAD
<<<<<<< HEAD
      "execution_count": null,
=======
>>>>>>> 74e12dd (No code changes made)
=======
>>>>>>> 74e12dd25140098cfecf38f235e91935a7113898
      "outputs": [
        {
          "name": "stdout",
          "output_type": "stream",
          "text": [
            "{'Name': 'Subhadip', 'Age': 20, 'Job': 'AI Engineer', 'Country': 'India', 'Salary': 10000}\n"
          ]
        }
      ],
      "source": [
        "# I want to change Age of the person\n",
        "person['Age'] = 20\n",
        "print(person)"
      ]
    },
    {
      "cell_type": "code",
      "execution_count": 65,
      "metadata": {
        "colab": {
          "base_uri": "https://localhost:8080/"
        },
        "id": "r7B_5E3ReAmJ",
        "outputId": "bc161cf8-65da-4821-a0c4-d79b10177726"
      },
<<<<<<< HEAD
<<<<<<< HEAD
      "execution_count": null,
=======
>>>>>>> 74e12dd (No code changes made)
=======
>>>>>>> 74e12dd25140098cfecf38f235e91935a7113898
      "outputs": [
        {
          "name": "stdout",
          "output_type": "stream",
          "text": [
            "{'Name': 'Subhadip', 'Age': 20, 'Country': 'India', 'Salary': 10000}\n",
            "{'Name': 'Subhadip', 'Age': 20, 'Salary': 10000}\n"
          ]
        }
      ],
      "source": [
        "# I want to delete Job of the Person\n",
        "person.pop('Job')\n",
        "print(person)\n",
        "del person['Country']\n",
        "print(person)"
      ]
    },
    {
      "cell_type": "markdown",
      "metadata": {
        "id": "_MmMwfKIgVgp"
      },
      "source": [
<<<<<<< HEAD
        "## **Task**\n",
=======
        "### Task\n",
>>>>>>> 74e12dd25140098cfecf38f235e91935a7113898
        "- Create a dictionary with Name, Age, Hobbies then Add a new Key in the dictioanry and then update the age to 27 and then delete the Hobbies"
      ]
    },
    {
      "cell_type": "code",
<<<<<<< HEAD
<<<<<<< HEAD
      "source": [
        "# Creating a dictionary with Name , Age , Hobbies\n",
        "metaData = {\n",
        "    \"Name\":\"Subhadip\",\n",
        "    \"Age\":24,\n",
        "    \"Hobbies\":[\"Cricket\",\"Chess\",\"Badminton\",\"Coding\",\"Comics\"],\n",
        "}\n",
        "print(metaData)\n",
        "\n",
        "# Adding a new key in the metaData dictionary\n",
        "metaData.update({\"Favourite Movie\":\"Harry Potter\"})\n",
        "# Alternative\n",
        "# metaData[\"Favourite Movie\"] = \"Harry Potter\"\n",
        "print(metaData)\n",
        "\n",
        "# Updating the Age value to 27\n",
        "metaData['Age'] = 27\n",
        "print(metaData['Age'])\n",
        "\n",
        "# Deleting the Hobbies\n",
        "metaData.pop('Hobbies')\n",
        "# Alternative\n",
        "# del metaData[\"Hobbies\"]\n",
        "print(metaData)"
      ],
=======
      "execution_count": 65,
>>>>>>> 74e12dd (No code changes made)
      "metadata": {
        "id": "0jI7ao6IffFB",
        "colab": {
          "base_uri": "https://localhost:8080/"
        },
        "outputId": "b89a7b4e-779c-4836-e166-626b12c17144"
      },
<<<<<<< HEAD
      "execution_count": 4,
      "outputs": [
        {
          "output_type": "stream",
          "name": "stdout",
          "text": [
            "{'Name': 'Subhadip', 'Age': 24, 'Hobbies': ['Cricket', 'Chess', 'Badminton', 'Coding', 'Comics']}\n",
            "{'Name': 'Subhadip', 'Age': 24, 'Hobbies': ['Cricket', 'Chess', 'Badminton', 'Coding', 'Comics'], 'Favourite Movie': 'Harry Potter'}\n",
            "27\n",
            "{'Name': 'Subhadip', 'Age': 27, 'Favourite Movie': 'Harry Potter'}\n"
          ]
        }
      ]
=======
      "outputs": [],
      "source": []
>>>>>>> 74e12dd (No code changes made)
=======
      "execution_count": 65,
      "metadata": {
        "id": "0jI7ao6IffFB"
      },
      "outputs": [],
      "source": []
>>>>>>> 74e12dd25140098cfecf38f235e91935a7113898
    },
    {
      "cell_type": "markdown",
      "metadata": {
        "id": "tyQPqGyTiM0e"
      },
      "source": [
<<<<<<< HEAD
<<<<<<< HEAD
        "## **Methods in Dictionary**\n",
        "- `keys()` -  to get all keys present in the Dictionary\n",
        "- `values()` -  to get all values present in the Dictionary\n",
        "- `items()` - to get all key value pairs from the Dictionary"
      ],
      "metadata": {
        "id": "tyQPqGyTiM0e"
      }
=======
=======
>>>>>>> 74e12dd25140098cfecf38f235e91935a7113898
        "## Methods in Dictionary\n",
        "- keys() -  to get all keys present in the Dictionary\n",
        "- values() -  to get all values present in the Dictionary\n",
        "- items() - to get all key value pairs from the Dictionary"
      ]
<<<<<<< HEAD
>>>>>>> 74e12dd (No code changes made)
=======
>>>>>>> 74e12dd25140098cfecf38f235e91935a7113898
    },
    {
      "cell_type": "code",
      "execution_count": 66,
      "metadata": {
        "colab": {
          "base_uri": "https://localhost:8080/"
        },
        "id": "CpaRMeNjiXR8",
        "outputId": "ce158041-b871-4bda-b6a0-614ab4ff1b40"
      },
<<<<<<< HEAD
<<<<<<< HEAD
      "execution_count": null,
=======
>>>>>>> 74e12dd (No code changes made)
=======
>>>>>>> 74e12dd25140098cfecf38f235e91935a7113898
      "outputs": [
        {
          "name": "stdout",
          "output_type": "stream",
          "text": [
            "dict_keys(['Name', 'Age', 'Salary'])\n",
            "dict_values(['Subhadip', 20, 10000])\n",
            "dict_items([('Name', 'Subhadip'), ('Age', 20), ('Salary', 10000)])\n"
          ]
        }
      ],
      "source": [
        "print(person.keys())\n",
        "print(person.values())\n",
        "print(person.items())"
      ]
    },
    {
      "cell_type": "code",
      "execution_count": 67,
      "metadata": {
        "colab": {
          "base_uri": "https://localhost:8080/"
        },
        "id": "sjP6wPQHiZvQ",
        "outputId": "30edaa51-e2c2-4b1d-addd-d040ee47e1ca"
      },
      "outputs": [
        {
          "name": "stdout",
          "output_type": "stream",
          "text": [
            "Enter your keyname\n",
            "Enter the valuesubhadip\n",
            "Enter your key2age\n",
            "Enter the value224\n",
            "{'name': 'subhadip', 'age': '24'}\n"
          ]
        }
      ],
      "source": [
        "# Taking input in a Dicitnary\n",
        "person={}\n",
        "key1=input(\"Enter your key\")\n",
        "value1=input(\"Enter the value\")\n",
        "key2=input(\"Enter your key2\")\n",
        "value2=input(\"Enter the value2\")\n",
        "person[key1]=value1\n",
        "person[key2]=value2\n",
        "print(person)"
<<<<<<< HEAD
<<<<<<< HEAD
      ],
      "metadata": {
        "colab": {
          "base_uri": "https://localhost:8080/"
        },
        "id": "sjP6wPQHiZvQ",
        "outputId": "30edaa51-e2c2-4b1d-addd-d040ee47e1ca"
      },
      "execution_count": null,
      "outputs": [
        {
          "output_type": "stream",
          "name": "stdout",
          "text": [
            "Enter your keyname\n",
            "Enter the valuesubhadip\n",
            "Enter your key2age\n",
            "Enter the value224\n",
            "{'name': 'subhadip', 'age': '24'}\n"
          ]
        }
=======
>>>>>>> 74e12dd (No code changes made)
=======
>>>>>>> 74e12dd25140098cfecf38f235e91935a7113898
      ]
    },
    {
      "cell_type": "markdown",
      "metadata": {
        "id": "S-bF92I8mdK4"
      },
      "source": [
        "## **Mutable** : The Data Tyes that can be manipulated (adding, deleting, updating) after creation\n",
        "\n",
<<<<<<< HEAD
<<<<<<< HEAD
        "## **Immutabel** : The Data Type that can't be manipulated after cration"
      ],
      "metadata": {
        "id": "S-bF92I8mdK4"
      }
=======
        "## Immutabel : The Data Type that can't be manipulated after cration"
      ]
>>>>>>> 74e12dd (No code changes made)
=======
        "## Immutabel : The Data Type that can't be manipulated after cration"
      ]
>>>>>>> 74e12dd25140098cfecf38f235e91935a7113898
    },
    {
      "cell_type": "markdown",
      "metadata": {
        "id": "ip619FzGna1I"
      },
      "source": [
<<<<<<< HEAD
        "## **Sets**\n",
=======
        "## Sets\n",
>>>>>>> 74e12dd25140098cfecf38f235e91935a7113898
        "- Sets are unordered unique collection of data elements"
      ]
    },
    {
      "cell_type": "code",
      "execution_count": 68,
      "metadata": {
        "colab": {
          "base_uri": "https://localhost:8080/"
        },
        "id": "2Wx8P6FxnYeA",
        "outputId": "bb084b14-a07f-4f57-fa63-d3e57c082f1a"
      },
<<<<<<< HEAD
<<<<<<< HEAD
      "execution_count": null,
=======
>>>>>>> 74e12dd (No code changes made)
=======
>>>>>>> 74e12dd25140098cfecf38f235e91935a7113898
      "outputs": [
        {
          "name": "stdout",
          "output_type": "stream",
          "text": [
            "{1, 2, 3, 4, 5, 6, 7, 'kolkata', 'subhadip', 'apple'}\n"
          ]
        }
      ],
      "source": [
        "data = {1,2,3,4,5,6,7,'subhadip','apple',3,4,'kolkata'}\n",
        "print(data)"
      ]
    },
    {
      "cell_type": "code",
      "execution_count": 69,
      "metadata": {
        "colab": {
          "base_uri": "https://localhost:8080/"
        },
        "id": "sXqbbXoYog5R",
        "outputId": "d56c78b3-293b-42b6-913e-b936d1e45541"
      },
<<<<<<< HEAD
<<<<<<< HEAD
      "execution_count": null,
=======
>>>>>>> 74e12dd (No code changes made)
=======
>>>>>>> 74e12dd25140098cfecf38f235e91935a7113898
      "outputs": [
        {
          "name": "stdout",
          "output_type": "stream",
          "text": [
            "{1, 2, 3, 4, 5, 6, 7, 'kolkata', 'subhadip', 'apple', 'banana'}\n"
          ]
        }
      ],
      "source": [
        "# add banana to the set\n",
        "data.add('banana')\n",
        "print(data)"
      ]
    },
    {
      "cell_type": "code",
      "execution_count": 70,
      "metadata": {
        "colab": {
          "base_uri": "https://localhost:8080/"
        },
        "id": "i4jCAZwgp__h",
        "outputId": "eac798e5-339e-4c18-b4c0-ca95e0d95833"
      },
<<<<<<< HEAD
<<<<<<< HEAD
      "execution_count": null,
=======
>>>>>>> 74e12dd (No code changes made)
=======
>>>>>>> 74e12dd25140098cfecf38f235e91935a7113898
      "outputs": [
        {
          "name": "stdout",
          "output_type": "stream",
          "text": [
            "{1, 2, 3, 4, 5, 6, 7, 'kolkata', 'subhadip', 'banana'}\n"
          ]
        }
      ],
      "source": [
        "# remove apple from set\n",
        "data.remove('apple')\n",
        "print(data)"
      ]
    },
    {
      "cell_type": "markdown",
      "metadata": {
        "id": "hNc303n9r1GQ"
      },
      "source": [
<<<<<<< HEAD
<<<<<<< HEAD
        "## **Set Methods**\n",
        "- `union` ( ' `&` ' )\n",
        "- `intersection` ( ' `|` ' )"
      ],
      "metadata": {
        "id": "hNc303n9r1GQ"
      }
    },
    {
      "cell_type": "code",
      "source": [
        "a = {1,2,3,4,5}\n",
        "b = {4,5,6,7,8}\n",
        "\n",
        "print(a.union(b))\n",
        "print(a | b)  # Sign of Union ' | '\n",
        "print(a.intersection(b))\n",
        "print(a & b)  # Sign of Intersection ' & '"
      ],
=======
        "## Set Methods\n",
        "- union ( ' & ' )\n",
        "- intersection ( ' | ' )"
      ]
    },
    {
      "cell_type": "code",
      "execution_count": 71,
>>>>>>> 74e12dd (No code changes made)
=======
        "## Set Methods\n",
        "- union ( ' & ' )\n",
        "- intersection ( ' | ' )"
      ]
    },
    {
      "cell_type": "code",
      "execution_count": 71,
>>>>>>> 74e12dd25140098cfecf38f235e91935a7113898
      "metadata": {
        "colab": {
          "base_uri": "https://localhost:8080/"
        },
        "id": "DA4Xx5IUqoXR",
        "outputId": "f5cd6994-0787-4776-a20e-f82dd0090b68"
      },
<<<<<<< HEAD
<<<<<<< HEAD
      "execution_count": 6,
=======
>>>>>>> 74e12dd (No code changes made)
      "outputs": [
        {
          "name": "stdout",
          "output_type": "stream",
          "text": [
            "{1, 2, 3, 4, 5, 6, 7, 8}\n",
            "{1, 2, 3, 4, 5, 6, 7, 8}\n",
            "{4, 5}\n",
            "{4, 5}\n"
          ]
        }
      ],
      "source": [
        "a = {1,2,3,4,5}\n",
        "b = {4,5,6,7,8}\n",
        "\n",
        "print(a.union(b))\n",
        "print(a.intersection(b))"
      ]
    },
    {
      "cell_type": "markdown",
      "source": [
        "# **Day 4**"
      ],
      "metadata": {
        "id": "arzyANCscdlk"
      }
    },
    {
      "cell_type": "markdown",
      "source": [
        "## **Problems with Sets**\n",
        "- No Indexing\n",
        "- Unordered\n",
        "- No Duplicates\n",
        "- Unchangeable"
      ],
      "metadata": {
        "id": "wbNYy8oke5zi"
      }
    },
    {
      "cell_type": "markdown",
      "source": [
        "## **Lists**\n",
        "\n",
        "- Lists are Ordered\n",
        "- Allow Duplicates\n",
        "- Mutable\n",
        "- Has Indexing"
      ],
      "metadata": {
        "id": "Uchzd5nFfMDc"
      }
    },
    {
      "cell_type": "code",
      "source": [
        "# Syntax- We use [] (Square Brackets)\n",
        "fruits = ['apple','banana','mango','kiwi','apple','mango']\n",
        "print(fruits)\n"
      ],
      "metadata": {
        "colab": {
          "base_uri": "https://localhost:8080/"
        },
        "id": "cS8x4P9kcfTU",
        "outputId": "426ecefc-88f9-4efe-931e-bbfba5f09729"
      },
      "execution_count": 7,
=======
>>>>>>> 74e12dd25140098cfecf38f235e91935a7113898
      "outputs": [
        {
          "name": "stdout",
          "output_type": "stream",
          "text": [
            "['apple', 'banana', 'mango', 'kiwi', 'apple', 'mango']\n"
          ]
        }
      ],
      "source": [
        "a = {1,2,3,4,5}\n",
        "b = {4,5,6,7,8}\n",
        "\n",
        "print(a.union(b))\n",
        "print(a.intersection(b))"
      ]
    },
    {
      "cell_type": "code",
      "source": [
        "# Adding a new value - .append()\n",
        "fruits.append('pineapple')\n",
        "print(fruits)"
      ],
      "metadata": {
        "colab": {
          "base_uri": "https://localhost:8080/"
        },
        "id": "lrIx3vwDfzZG",
        "outputId": "9f6450ba-755b-48d9-af97-78c5c5b11013"
      },
      "execution_count": 8,
      "outputs": [
        {
          "output_type": "stream",
          "name": "stdout",
          "text": [
            "['apple', 'banana', 'mango', 'kiwi', 'apple', 'mango', 'pineapple']\n"
          ]
        }
      ]
    },
    {
      "cell_type": "code",
      "source": [
        "# Remove a value - .remove()\n",
        "fruits.remove('banana')\n",
        "print(fruits)"
      ],
      "metadata": {
        "colab": {
          "base_uri": "https://localhost:8080/"
        },
        "id": "YZdvCzMuggLG",
        "outputId": "f29bb727-19e2-4ff3-d104-77af2302269e"
      },
      "execution_count": 9,
      "outputs": [
        {
          "output_type": "stream",
          "name": "stdout",
          "text": [
            "['apple', 'mango', 'kiwi', 'apple', 'mango', 'pineapple']\n"
          ]
        }
      ]
    },
    {
      "cell_type": "markdown",
      "source": [
        "## **Indexing**\n",
        "- Gives the position of element\n",
        "- Indexing Starts from 0\n",
        "- Negative Indexing Starts from -1"
      ],
      "metadata": {
        "id": "5brTzAeZhT_1"
      }
    },
    {
      "cell_type": "code",
      "source": [
        "li = [23,56,39,'Apple',True,'Mango']\n",
        "print(li[4])\n",
        "print(li[1])"
      ],
      "metadata": {
        "colab": {
          "base_uri": "https://localhost:8080/"
        },
        "id": "IevrZo_-gwoU",
        "outputId": "29dfeb04-5cfd-4bdf-e20c-f6dbf8b7505b"
      },
      "execution_count": 11,
      "outputs": [
        {
          "output_type": "stream",
          "name": "stdout",
          "text": [
            "True\n",
            "56\n"
          ]
        }
      ]
    },
    {
      "cell_type": "markdown",
      "source": [
        "## **Slicing**\n",
        "`list_name[ start : stop + 1 : step ]`"
      ],
      "metadata": {
        "id": "iUwydT8gkE6q"
      }
    },
    {
      "cell_type": "code",
      "source": [
        "val = ['s','t',67,90,45,'apple',True]\n",
        "print(val[2:6])\n",
        "print(val[-5:-1])\n",
        "print(val[-5:])\n",
        "print(val[1:-1])\n",
        "print(val[:])\n",
        "print(val[::-1])  # Reversing a list"
      ],
      "metadata": {
        "colab": {
          "base_uri": "https://localhost:8080/"
        },
        "id": "Zgr_JJY7iptg",
        "outputId": "c2d5863f-5e40-4895-ffb9-e46fc2a42b38"
      },
      "execution_count": 23,
      "outputs": [
        {
          "output_type": "stream",
          "name": "stdout",
          "text": [
            "[67, 90, 45, 'apple']\n",
            "[67, 90, 45, 'apple']\n",
            "[67, 90, 45, 'apple', True]\n",
            "['t', 67, 90, 45, 'apple']\n",
            "['s', 't', 67, 90, 45, 'apple', True]\n",
            "[True, 'apple', 45, 90, 67, 't', 's']\n"
          ]
        }
      ]
    },
    {
      "cell_type": "markdown",
      "source": [
        "### *Inserting element at given index*"
      ],
      "metadata": {
        "id": "kzd2ToyLshmh"
      }
    },
    {
      "cell_type": "code",
      "source": [
        "print(fruits)\n",
        "fruits.insert(1,'pineapple')\n",
        "print(fruits)"
      ],
      "metadata": {
        "colab": {
          "base_uri": "https://localhost:8080/"
        },
        "id": "ZnasghDzlax0",
        "outputId": "ac6ea9b9-09b3-4a41-97bc-8958aef7985b"
      },
      "execution_count": 26,
      "outputs": [
        {
          "output_type": "stream",
          "name": "stdout",
          "text": [
            "['apple', 'mango', 'pineapple', 'kiwi', 'apple', 'mango', 'pineapple']\n",
            "['apple', 'pineapple', 'mango', 'pineapple', 'kiwi', 'apple', 'mango', 'pineapple']\n"
          ]
        }
      ]
    },
    {
      "cell_type": "code",
      "source": [
        "# Update value in list\n",
        "fruits[2] = \"orange\"\n",
        "print(fruits)"
      ],
      "metadata": {
        "colab": {
          "base_uri": "https://localhost:8080/"
        },
        "id": "WmUjA2WVsrBA",
        "outputId": "71f1c353-d683-41a0-ecce-152a891982c0"
      },
      "execution_count": 28,
      "outputs": [
        {
          "output_type": "stream",
          "name": "stdout",
          "text": [
            "['apple', 'pineapple', 'orange', 'pineapple', 'kiwi', 'apple', 'mango', 'pineapple']\n"
          ]
        }
      ]
    },
    {
      "cell_type": "markdown",
      "source": [
        "## **Tuples**\n",
        "- It Stores multiple values of different types\n",
        "- It allows indexing\n",
        "- Tuples are immutable (cannot modify)\n",
        "- Use `( )` rounded breackets fro Tuple\n",
        "- Allows Indexing"
      ],
      "metadata": {
        "id": "lGZKc7ybwCEP"
      }
    },
    {
      "cell_type": "code",
      "source": [
        "tup = (1,2,3,'apple','mango','apple','apple')\n",
        "print(tup)\n",
        "print(tup[3])"
      ],
      "metadata": {
        "colab": {
          "base_uri": "https://localhost:8080/"
        },
        "id": "T_WtWkCQvtGx",
        "outputId": "b7da78f6-441c-4949-db7f-2c3775da7076"
      },
      "execution_count": 33,
      "outputs": [
        {
          "output_type": "stream",
          "name": "stdout",
          "text": [
            "(1, 2, 3, 'apple', 'mango', 'apple', 'apple')\n",
            "apple\n"
          ]
        }
      ]
    },
    {
      "cell_type": "markdown",
      "source": [
        "## **Tuple Methods**\n",
        "- `count()`\n",
        "- `index()`"
      ],
      "metadata": {
        "id": "RBSOxynrxi64"
      }
    },
    {
      "cell_type": "code",
      "source": [
        "print(tup.count('apple'))  # Count frequency of an element\n",
        "print(tup.index('apple'))  # Gives the first index of given element\n",
        "print(tup.index('apple',3+1)) # Get the 2nd occurence (first_index + nth_occurence-1)"
      ],
      "metadata": {
        "colab": {
          "base_uri": "https://localhost:8080/"
        },
        "id": "ho7rht5MxHpR",
        "outputId": "45004da9-dd5f-4733-f89f-f48429cb1136"
      },
      "execution_count": 39,
      "outputs": [
        {
          "output_type": "stream",
          "name": "stdout",
          "text": [
            "3\n",
            "3\n",
            "5\n"
          ]
        }
      ]
    },
    {
      "cell_type": "markdown",
      "source": [
        "## **Strings**\n",
        "- Text type data\n",
        "- Follows Indexing"
      ],
      "metadata": {
        "id": "rpjq3MKM0O7l"
      }
    },
    {
      "cell_type": "code",
      "source": [
        "name = 'Subhadip Hensh'\n",
        "first_name = name[:8]\n",
        "last_name = name[9:]\n",
        "print(first_name)\n",
        "print(last_name)\n",
        "print(first_name,last_name)"
      ],
      "metadata": {
        "colab": {
          "base_uri": "https://localhost:8080/"
        },
        "id": "7Xvn6Lh-xxQd",
        "outputId": "8a080ecb-e703-4a8f-94f0-fcbab7b698b1"
      },
      "execution_count": 49,
      "outputs": [
        {
          "output_type": "stream",
          "name": "stdout",
          "text": [
            "Subhadip\n",
            "Hensh\n",
            "Subhadip Hensh\n"
          ]
        }
      ]
    },
    {
      "cell_type": "markdown",
      "source": [
        "## **Tasks**\n",
        "- Create two sets and do the following\n",
        "  - union of the two sets\n",
        "  - intersection of the two sets\n",
        "\n",
        "- Create a list of 5 elements and print it\n",
        "  - Access the 3rd element from the list\n",
        "  - remove the last element from the list\n",
        "  - insert 85 at index 4\n",
        "  - add some value using append method\n",
        "\n",
        "- Create a tuple of 5 elements\n",
        "  - Count the occurence of an element\n",
        "  - find the index of a particular element"
      ],
      "metadata": {
        "id": "HECkEVuv2St8"
      }
    },
    {
      "cell_type": "code",
      "source": [],
      "metadata": {
        "id": "3SmW8ivy03YW"
      },
      "execution_count": null,
      "outputs": []
    }
  ],
  "metadata": {
    "colab": {
      "authorship_tag": "ABX9TyPbujdCKrXrnTMPzidY0sb1",
      "include_colab_link": true,
      "provenance": []
    },
    "kernelspec": {
      "display_name": "Python 3",
      "name": "python3"
    },
    "language_info": {
      "name": "python",
      "version": "3.13.1"
    }
  },
  "nbformat": 4,
  "nbformat_minor": 0
}
