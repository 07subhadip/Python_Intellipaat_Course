{
  "nbformat": 4,
  "nbformat_minor": 0,
  "metadata": {
    "colab": {
      "provenance": [],
      "authorship_tag": "ABX9TyPbujdCKrXrnTMPzidY0sb1",
      "include_colab_link": true
    },
    "kernelspec": {
      "name": "python3",
      "display_name": "Python 3"
    },
    "language_info": {
      "name": "python"
    }
  },
  "cells": [
    {
      "cell_type": "markdown",
      "metadata": {
        "id": "view-in-github",
        "colab_type": "text"
      },
      "source": [
        "<a href=\"https://colab.research.google.com/github/07subhadip/Python_Intellipaat_Course/blob/main/Python_Intellipath.ipynb\" target=\"_parent\"><img src=\"https://colab.research.google.com/assets/colab-badge.svg\" alt=\"Open In Colab\"/></a>"
      ]
    },
    {
      "cell_type": "markdown",
      "source": [
        "## Day 1 : Installation and Python Basics Started"
      ],
      "metadata": {
        "id": "4p6bLgzlGxMN"
      }
    },
    {
      "cell_type": "code",
      "source": [
        "print(\"hello world\")"
      ],
      "metadata": {
        "colab": {
          "base_uri": "https://localhost:8080/"
        },
        "id": "dlVt7GkYQnJZ",
        "outputId": "183e18a3-8149-433a-b755-3867f4812efc"
      },
      "execution_count": 34,
      "outputs": [
        {
          "output_type": "stream",
          "name": "stdout",
          "text": [
            "hello world\n"
          ]
        }
      ]
    },
    {
      "cell_type": "markdown",
      "source": [
        "## Variable"
      ],
      "metadata": {
        "id": "IzuP7G9-Vf7x"
      }
    },
    {
      "cell_type": "code",
      "source": [
        "number = 10\n",
        "print(number)"
      ],
      "metadata": {
        "id": "S7LgSoJhVh6E",
        "colab": {
          "base_uri": "https://localhost:8080/"
        },
        "outputId": "06e1b1f1-f20c-4823-ba95-dee8453400c1"
      },
      "execution_count": 35,
      "outputs": [
        {
          "output_type": "stream",
          "name": "stdout",
          "text": [
            "10\n"
          ]
        }
      ]
    },
    {
      "cell_type": "markdown",
      "source": [
        "## Rules for declaring variable\n",
        "\n",
        "- Can't start with a number but can use number in other place\n",
        "- Only can use '_' underscore but not other symbols ro any white space\n",
        "- Case Sensitive (NAME, Name, name are different)"
      ],
      "metadata": {
        "id": "D0nwx1hSZeqU"
      }
    },
    {
      "cell_type": "code",
      "source": [
        "name = 'Subhadip'\n",
        "Name = 'Anupam'\n",
        "\n",
        "print(name, Name)"
      ],
      "metadata": {
        "colab": {
          "base_uri": "https://localhost:8080/"
        },
        "id": "WVc0j4dMabR8",
        "outputId": "514352c6-946e-4e95-fa90-e1b5e8b76f69"
      },
      "execution_count": 36,
      "outputs": [
        {
          "output_type": "stream",
          "name": "stdout",
          "text": [
            "Subhadip Anupam\n"
          ]
        }
      ]
    },
    {
      "cell_type": "code",
      "source": [
        "_value = 20\n",
        "print(_value)"
      ],
      "metadata": {
        "colab": {
          "base_uri": "https://localhost:8080/"
        },
        "id": "Swy3gw6oait2",
        "outputId": "b1fad57d-dbf4-4481-83b3-f67b0cefcfc5"
      },
      "execution_count": 37,
      "outputs": [
        {
          "output_type": "stream",
          "name": "stdout",
          "text": [
            "20\n"
          ]
        }
      ]
    },
    {
      "cell_type": "code",
      "source": [
        "#3school = 'BCCS'  # This is not allowed"
      ],
      "metadata": {
        "id": "VOMMwWZDaoe1"
      },
      "execution_count": 38,
      "outputs": []
    },
    {
      "cell_type": "code",
      "source": [
        "school3 = 'BCCS'  # This is allowed\n",
        "print(school3)"
      ],
      "metadata": {
        "colab": {
          "base_uri": "https://localhost:8080/"
        },
        "id": "8yIY8wiUaw_z",
        "outputId": "f3b833fa-915d-4fbe-8ab5-3e0809b375bd"
      },
      "execution_count": 39,
      "outputs": [
        {
          "output_type": "stream",
          "name": "stdout",
          "text": [
            "BCCS\n"
          ]
        }
      ]
    },
    {
      "cell_type": "markdown",
      "source": [
        "## Day 2 :"
      ],
      "metadata": {
        "id": "KDvHR6piG5Lz"
      }
    },
    {
      "cell_type": "markdown",
      "source": [
        "## Data Types\n",
        "- Integer Data Type\n",
        "- Float Data Type\n",
        "- Text Data Type\n",
        "- Boolean Data"
      ],
      "metadata": {
        "id": "DxUxOEXFKv3-"
      }
    },
    {
      "cell_type": "markdown",
      "source": [
        "## Numeric Data-types"
      ],
      "metadata": {
        "id": "ry3pNoh6Ljz6"
      }
    },
    {
      "cell_type": "code",
      "source": [
        "# integer - positive and negative number including 0\n",
        "\n",
        "num1 = 10\n",
        "num2 = 0\n",
        "num3 = -20\n",
        "\n",
        "print(num1)\n",
        "print(num2)\n",
        "print(num3)\n",
        "\n",
        "print(type(num1))\n",
        "print(type(num2))\n",
        "print(type(num3))"
      ],
      "metadata": {
        "id": "v3KaERb9a2DU",
        "colab": {
          "base_uri": "https://localhost:8080/"
        },
        "outputId": "89b127ed-2a8b-4b94-da50-e7741856f52a"
      },
      "execution_count": 40,
      "outputs": [
        {
          "output_type": "stream",
          "name": "stdout",
          "text": [
            "10\n",
            "0\n",
            "-20\n",
            "<class 'int'>\n",
            "<class 'int'>\n",
            "<class 'int'>\n"
          ]
        }
      ]
    },
    {
      "cell_type": "code",
      "source": [
        "# float-data - positive and negative decimal number\n",
        "num1 = 23.5\n",
        "num2 = -75.6\n",
        "\n",
        "print(num1)\n",
        "print(num2)\n",
        "\n",
        "print(type(num1))\n",
        "print(type(num2))"
      ],
      "metadata": {
        "colab": {
          "base_uri": "https://localhost:8080/"
        },
        "id": "BGPvzR7dMcWZ",
        "outputId": "35d9eb45-2718-43fc-f5f5-a5cefdc26c54"
      },
      "execution_count": 41,
      "outputs": [
        {
          "output_type": "stream",
          "name": "stdout",
          "text": [
            "23.5\n",
            "-75.6\n",
            "<class 'float'>\n",
            "<class 'float'>\n"
          ]
        }
      ]
    },
    {
      "cell_type": "markdown",
      "source": [
        "## Text Data Type\n",
        "String\n",
        "To write the string\n",
        "'' or \"\""
      ],
      "metadata": {
        "id": "bAPWHQ3ZM8jx"
      }
    },
    {
      "cell_type": "code",
      "source": [
        "name = 'Subhadip'\n",
        "print(type(name))\n",
        "\n",
        "num = \"23\"\n",
        "print(type(num))\n",
        "\n",
        "string = \"\"\"\n",
        "This is line 1\n",
        "this is line 2\n",
        "\"\"\"\n",
        "\n",
        "print(string)"
      ],
      "metadata": {
        "colab": {
          "base_uri": "https://localhost:8080/"
        },
        "id": "gExQr0zfMzH0",
        "outputId": "ed3c6efd-b96b-41ea-921b-7873b08746db"
      },
      "execution_count": 42,
      "outputs": [
        {
          "output_type": "stream",
          "name": "stdout",
          "text": [
            "<class 'str'>\n",
            "<class 'str'>\n",
            "\n",
            "This is line 1\n",
            "this is line 2\n",
            "\n"
          ]
        }
      ]
    },
    {
      "cell_type": "markdown",
      "source": [
        "## Boolean Data\n",
        "- True\n",
        "- False\n",
        "\n",
        "note : T and F will be in Capital in True and False"
      ],
      "metadata": {
        "id": "gFsow6DQNkpw"
      }
    },
    {
      "cell_type": "code",
      "source": [
        "x = True\n",
        "y = False\n",
        "print(x)\n",
        "print(y)\n",
        "\n",
        "print(type(x))\n",
        "print(type(y))"
      ],
      "metadata": {
        "colab": {
          "base_uri": "https://localhost:8080/"
        },
        "id": "HO75FxjUNWEb",
        "outputId": "c65f1b0b-5af1-4f29-ba6b-69d320fd8a71"
      },
      "execution_count": 43,
      "outputs": [
        {
          "output_type": "stream",
          "name": "stdout",
          "text": [
            "True\n",
            "False\n",
            "<class 'bool'>\n",
            "<class 'bool'>\n"
          ]
        }
      ]
    },
    {
      "cell_type": "markdown",
      "source": [
        "## Comments\n"
      ],
      "metadata": {
        "id": "TjwN3CLCOt1l"
      }
    },
    {
      "cell_type": "code",
      "source": [
        "# I am Printing Hello World\n",
        "print(\"Hello\\n World\")"
      ],
      "metadata": {
        "colab": {
          "base_uri": "https://localhost:8080/"
        },
        "id": "cIZBFf6dOG2r",
        "outputId": "e955be7b-6f57-4802-9f06-ceac317ae14a"
      },
      "execution_count": 44,
      "outputs": [
        {
          "output_type": "stream",
          "name": "stdout",
          "text": [
            "Hello\n",
            " World\n"
          ]
        }
      ]
    },
    {
      "cell_type": "code",
      "source": [
        "'''\n",
        "Multi Line Comments\n",
        "abcs\n",
        "1234\n",
        "fdfd\n",
        "'''\n",
        "print(\"Hello World\")"
      ],
      "metadata": {
        "colab": {
          "base_uri": "https://localhost:8080/"
        },
        "id": "LNxNtF-QPMur",
        "outputId": "b87e0072-56a0-4980-b451-6eb3986f60f3"
      },
      "execution_count": 45,
      "outputs": [
        {
          "output_type": "stream",
          "name": "stdout",
          "text": [
            "Hello World\n"
          ]
        }
      ]
    },
    {
      "cell_type": "markdown",
      "source": [
        "## Type Casting\n",
        "To change a data from one data type to another data type"
      ],
      "metadata": {
        "id": "CJP6fQxtRJ88"
      }
    },
    {
      "cell_type": "code",
      "source": [
        "num = 10\n",
        "print(type(num))\n",
        "\n",
        "num2 = float(num)\n",
        "print(type(num2))\n",
        "\n",
        "num3 = str(num2)\n",
        "print(type(num3))"
      ],
      "metadata": {
        "colab": {
          "base_uri": "https://localhost:8080/"
        },
        "id": "3ETSCgouPjP7",
        "outputId": "a044f2e2-dc26-456f-c147-893ba9740871"
      },
      "execution_count": 46,
      "outputs": [
        {
          "output_type": "stream",
          "name": "stdout",
          "text": [
            "<class 'int'>\n",
            "<class 'float'>\n",
            "<class 'str'>\n"
          ]
        }
      ]
    },
    {
      "cell_type": "markdown",
      "source": [
        "## User Input\n",
        "- By default it takes String"
      ],
      "metadata": {
        "id": "QBewxPcAVafq"
      }
    },
    {
      "cell_type": "code",
      "source": [
        "name = input(\"Enter Your Name : \")\n",
        "print(name)"
      ],
      "metadata": {
        "id": "4cduXe8SRcup",
        "colab": {
          "base_uri": "https://localhost:8080/"
        },
        "outputId": "2dde6e89-7775-4d29-ea2a-a7dcf979a91b"
      },
      "execution_count": 47,
      "outputs": [
        {
          "output_type": "stream",
          "name": "stdout",
          "text": [
            "Enter Your Name : subhadip\n",
            "subhadip\n"
          ]
        }
      ]
    },
    {
      "cell_type": "code",
      "source": [
        "num = int(input(\"Enter a number : \"))\n",
        "print(num)\n",
        "print(type(num))"
      ],
      "metadata": {
        "colab": {
          "base_uri": "https://localhost:8080/"
        },
        "id": "gTswan91Vsnk",
        "outputId": "1a8fccb3-3776-4882-f3d1-57479a5dae55"
      },
      "execution_count": 48,
      "outputs": [
        {
          "output_type": "stream",
          "name": "stdout",
          "text": [
            "Enter a number : 24\n",
            "24\n",
            "<class 'int'>\n"
          ]
        }
      ]
    },
    {
      "cell_type": "markdown",
      "source": [
        "## Operators\n",
        "- Arithmatic Operators\n",
        "- Assingment Operators\n",
        "- Conditional Operators"
      ],
      "metadata": {
        "id": "CHVvo_R8czZt"
      }
    },
    {
      "cell_type": "markdown",
      "source": [
        "## Arithmatic Operator\n",
        "- + , - , * , / , // , ** , %"
      ],
      "metadata": {
        "id": "KLy6BoKXdKBe"
      }
    },
    {
      "cell_type": "code",
      "source": [
        "num = 10\n",
        "print(\"Addition : \",num+5)"
      ],
      "metadata": {
        "id": "xr2aUR7EWA5D",
        "colab": {
          "base_uri": "https://localhost:8080/"
        },
        "outputId": "caf90819-0268-421f-8e5d-357dcd703b2b"
      },
      "execution_count": 49,
      "outputs": [
        {
          "output_type": "stream",
          "name": "stdout",
          "text": [
            "Addition :  15\n"
          ]
        }
      ]
    },
    {
      "cell_type": "code",
      "source": [
        "num = 10\n",
        "print(\"Subtraction : \",num - 5)"
      ],
      "metadata": {
        "colab": {
          "base_uri": "https://localhost:8080/"
        },
        "id": "DrolDBELdZi7",
        "outputId": "d0d8f67c-c68b-4352-8ec2-0bde35d11470"
      },
      "execution_count": 50,
      "outputs": [
        {
          "output_type": "stream",
          "name": "stdout",
          "text": [
            "Subtraction :  5\n"
          ]
        }
      ]
    },
    {
      "cell_type": "code",
      "source": [
        "num = 10\n",
        "print(\"Multiplication : \",num * 8)"
      ],
      "metadata": {
        "colab": {
          "base_uri": "https://localhost:8080/"
        },
        "id": "Vn3ct-JKdfvm",
        "outputId": "dfc7f2dc-5317-42eb-e422-ac027c2b4ec9"
      },
      "execution_count": 51,
      "outputs": [
        {
          "output_type": "stream",
          "name": "stdout",
          "text": [
            "Multiplication :  80\n"
          ]
        }
      ]
    },
    {
      "cell_type": "code",
      "source": [
        "num = 17\n",
        "print(\"Division :\",num / 3)"
      ],
      "metadata": {
        "colab": {
          "base_uri": "https://localhost:8080/"
        },
        "id": "k1exd_99dj0t",
        "outputId": "c6089959-9740-4822-ed0c-cd355eb50a48"
      },
      "execution_count": 52,
      "outputs": [
        {
          "output_type": "stream",
          "name": "stdout",
          "text": [
            "Division : 5.666666666666667\n"
          ]
        }
      ]
    },
    {
      "cell_type": "code",
      "source": [
        "num = 17\n",
        "print(\"Floor Division // :\",num // 3)"
      ],
      "metadata": {
        "colab": {
          "base_uri": "https://localhost:8080/"
        },
        "id": "CNmqR8xedq0-",
        "outputId": "c1f28c13-af6a-4bf6-9130-13b3a2bb9807"
      },
      "execution_count": 53,
      "outputs": [
        {
          "output_type": "stream",
          "name": "stdout",
          "text": [
            "Floor Division // : 5\n"
          ]
        }
      ]
    },
    {
      "cell_type": "code",
      "source": [
        "num = 10\n",
        "print(\"Modulus :\",num%3)"
      ],
      "metadata": {
        "colab": {
          "base_uri": "https://localhost:8080/"
        },
        "id": "gDafn7u-eMDm",
        "outputId": "5cbc747c-7c01-4570-aa1b-70213528f5ff"
      },
      "execution_count": 54,
      "outputs": [
        {
          "output_type": "stream",
          "name": "stdout",
          "text": [
            "Modulus : 1\n"
          ]
        }
      ]
    },
    {
      "cell_type": "code",
      "source": [
        "num = 10\n",
        "print(\"Power :\",num**2)"
      ],
      "metadata": {
        "colab": {
          "base_uri": "https://localhost:8080/"
        },
        "id": "AWWfSTloed5u",
        "outputId": "bfd539d5-b2bc-48f7-ffb3-48b48a3635bc"
      },
      "execution_count": 55,
      "outputs": [
        {
          "output_type": "stream",
          "name": "stdout",
          "text": [
            "Power : 100\n"
          ]
        }
      ]
    },
    {
      "cell_type": "markdown",
      "source": [
        "## Assignment Operators\n",
        "- = , += , -= , *= , /= , //= , %="
      ],
      "metadata": {
        "id": "HIUE4zQxeqQ8"
      }
    },
    {
      "cell_type": "code",
      "source": [
        "num = 10\n",
        "\n",
        "num += 5\n",
        "print(num)\n",
        "\n",
        "num -= 5\n",
        "print(num)\n",
        "\n",
        "num *= 10\n",
        "print(num)\n",
        "\n",
        "num /= 2\n",
        "print(num)\n",
        "\n",
        "num //= 3\n",
        "print(num)\n",
        "\n",
        "num **= 2\n",
        "print(num)\n",
        "\n",
        "num %= 2\n",
        "print(num)"
      ],
      "metadata": {
        "colab": {
          "base_uri": "https://localhost:8080/"
        },
        "id": "nSuODTYQepGG",
        "outputId": "e6550227-289c-4e9d-c836-fc760f2f3e1f"
      },
      "execution_count": 56,
      "outputs": [
        {
          "output_type": "stream",
          "name": "stdout",
          "text": [
            "15\n",
            "10\n",
            "100\n",
            "50.0\n",
            "16.0\n",
            "256.0\n",
            "0.0\n"
          ]
        }
      ]
    },
    {
      "cell_type": "markdown",
      "source": [
        "## Comparison Operators\n",
        "- these are the conditional operators --> [ > , < , == , >= , <= , != ]"
      ],
      "metadata": {
        "id": "JlUW7AqpgXii"
      }
    },
    {
      "cell_type": "code",
      "source": [
        "x = 10\n",
        "y = 7\n",
        "\n",
        "print(x > y)\n",
        "print(x < y)\n",
        "print(x == y)\n",
        "print(x >= y)\n",
        "print(x <= y)\n",
        "print(x != y)"
      ],
      "metadata": {
        "colab": {
          "base_uri": "https://localhost:8080/"
        },
        "id": "A7_7Tc3egNlf",
        "outputId": "fda38b43-7012-4b8c-d329-36e4a022ea43"
      },
      "execution_count": 57,
      "outputs": [
        {
          "output_type": "stream",
          "name": "stdout",
          "text": [
            "True\n",
            "False\n",
            "False\n",
            "True\n",
            "False\n",
            "True\n"
          ]
        }
      ]
    },
    {
      "cell_type": "markdown",
      "source": [
        "## Logical Operator\n",
        "- and , or , not"
      ],
      "metadata": {
        "id": "1Ktowj2iiXPJ"
      }
    },
    {
      "cell_type": "code",
      "source": [
        "x = True\n",
        "y = False\n",
        "\n",
        "print(x and y)\n",
        "print(x or y)\n",
        "print(not x)\n",
        "print(not y)"
      ],
      "metadata": {
        "colab": {
          "base_uri": "https://localhost:8080/"
        },
        "id": "2Z5pqr7MhZOe",
        "outputId": "d7d77efb-3512-42ef-bfa7-e7797fcfe17b"
      },
      "execution_count": 58,
      "outputs": [
        {
          "output_type": "stream",
          "name": "stdout",
          "text": [
            "False\n",
            "True\n",
            "False\n",
            "True\n"
          ]
        }
      ]
    },
    {
      "cell_type": "markdown",
      "source": [
        "## Day 3"
      ],
      "metadata": {
        "id": "YmU96WSTRUuj"
      }
    },
    {
      "cell_type": "markdown",
      "source": [
        "## Membership Operators\n",
        "- It tells about the value whether they are member of (list, tuple, string etc.) or not\n",
        "- in, not in"
      ],
      "metadata": {
        "id": "5L5PB31qUGsp"
      }
    },
    {
      "cell_type": "code",
      "source": [
        "fruitBasket = ['Apple','Mango','Grapes','SugerCane']\n",
        "\n",
        "print('Apple' in fruitBasket)\n",
        "print('Banana' in fruitBasket)\n",
        "print('Apple' not in fruitBasket)"
      ],
      "metadata": {
        "id": "GejcOtSrjOWH",
        "colab": {
          "base_uri": "https://localhost:8080/"
        },
        "outputId": "5eeb8dd1-226e-4ba5-ef0f-f08e59fb524d"
      },
      "execution_count": 59,
      "outputs": [
        {
          "output_type": "stream",
          "name": "stdout",
          "text": [
            "True\n",
            "False\n",
            "False\n"
          ]
        }
      ]
    },
    {
      "cell_type": "markdown",
      "source": [
        "## Identity Operators\n",
        "- Checks if two variables reference the same object in memory.\n",
        "- is , is not"
      ],
      "metadata": {
        "id": "qYJNRigPVpNc"
      }
    },
    {
      "cell_type": "code",
      "source": [
        "x = [1,2,3]\n",
        "y = [1,2,3]\n",
        "\n",
        "z = x\n",
        "\n",
        "print(x is y)\n",
        "print(id(x))  # id() used to see the memory location\n",
        "print(id(y))\n",
        "\n",
        "print(z is x)\n",
        "print(id(x))\n",
        "print(id(z))"
      ],
      "metadata": {
        "colab": {
          "base_uri": "https://localhost:8080/"
        },
        "id": "11NsNVYlVRPM",
        "outputId": "08d1d41e-7a0a-4278-cbfe-ae60a7b3b69d"
      },
      "execution_count": 60,
      "outputs": [
        {
          "output_type": "stream",
          "name": "stdout",
          "text": [
            "False\n",
            "139811695023872\n",
            "139811695020928\n",
            "True\n",
            "139811695023872\n",
            "139811695023872\n"
          ]
        }
      ]
    },
    {
      "cell_type": "markdown",
      "source": [
        "## Sequential Data Types\n",
        "- List\n",
        "- Tuple\n",
        "- String\n",
        "\n",
        "## Unsequential Data Types\n",
        "- Dict\n",
        "- Set"
      ],
      "metadata": {
        "id": "05imRXiuYs1C"
      }
    },
    {
      "cell_type": "markdown",
      "source": [
        "## Unsequential Data Type\n",
        "### Dictionary\n",
        "- In Dictionary We have Key-Value pairs\n"
      ],
      "metadata": {
        "id": "1p6oWLQkaBJt"
      }
    },
    {
      "cell_type": "code",
      "source": [
        "person = {\n",
        "    \"Name\" : \"Subhadip\",\n",
        "    \"Age\" : 24,\n",
        "    \"Job\" : \"AI Engineer\",\n",
        "    \"Country\" : \"India\"\n",
        "}\n",
        "\n",
        "print(type(person))\n",
        "print(person)"
      ],
      "metadata": {
        "colab": {
          "base_uri": "https://localhost:8080/"
        },
        "id": "JaR3OHIrWFZw",
        "outputId": "ded11105-c105-47fc-8c7b-5d7527f8cbd7"
      },
      "execution_count": 61,
      "outputs": [
        {
          "output_type": "stream",
          "name": "stdout",
          "text": [
            "<class 'dict'>\n",
            "{'Name': 'Subhadip', 'Age': 24, 'Job': 'AI Engineer', 'Country': 'India'}\n"
          ]
        }
      ]
    },
    {
      "cell_type": "code",
      "source": [
        "# I want to see the age of the person\n",
        "# Keys are used to access the values present inside your dictionary\n",
        "print(person['Age'])\n",
        "# I want to see Country of the person\n",
        "print(person['Country'])\n"
      ],
      "metadata": {
        "colab": {
          "base_uri": "https://localhost:8080/"
        },
        "id": "Ec24lduQanks",
        "outputId": "5c6698d2-3ab9-4e51-b84f-77ec232681d3"
      },
      "execution_count": 62,
      "outputs": [
        {
          "output_type": "stream",
          "name": "stdout",
          "text": [
            "24\n",
            "India\n"
          ]
        }
      ]
    },
    {
      "cell_type": "code",
      "source": [
        "person['Salary'] = 10000\n",
        "print(person)"
      ],
      "metadata": {
        "colab": {
          "base_uri": "https://localhost:8080/"
        },
        "id": "oOqiaDz-chSA",
        "outputId": "7044951c-830e-4c5e-e8a8-9c27c76bde95"
      },
      "execution_count": 63,
      "outputs": [
        {
          "output_type": "stream",
          "name": "stdout",
          "text": [
            "{'Name': 'Subhadip', 'Age': 24, 'Job': 'AI Engineer', 'Country': 'India', 'Salary': 10000}\n"
          ]
        }
      ]
    },
    {
      "cell_type": "code",
      "source": [
        "# I want to change Age of the person\n",
        "person['Age'] = 20\n",
        "print(person)"
      ],
      "metadata": {
        "colab": {
          "base_uri": "https://localhost:8080/"
        },
        "id": "lS_9L-Rxd7A7",
        "outputId": "d9ac2cf4-4a2b-4671-d08c-6c81b5f76341"
      },
      "execution_count": 64,
      "outputs": [
        {
          "output_type": "stream",
          "name": "stdout",
          "text": [
            "{'Name': 'Subhadip', 'Age': 20, 'Job': 'AI Engineer', 'Country': 'India', 'Salary': 10000}\n"
          ]
        }
      ]
    },
    {
      "cell_type": "code",
      "source": [
        "# I want to delete Job of the Person\n",
        "person.pop('Job')\n",
        "print(person)\n",
        "del person['Country']\n",
        "print(person)"
      ],
      "metadata": {
        "colab": {
          "base_uri": "https://localhost:8080/"
        },
        "id": "r7B_5E3ReAmJ",
        "outputId": "bc161cf8-65da-4821-a0c4-d79b10177726"
      },
      "execution_count": 65,
      "outputs": [
        {
          "output_type": "stream",
          "name": "stdout",
          "text": [
            "{'Name': 'Subhadip', 'Age': 20, 'Country': 'India', 'Salary': 10000}\n",
            "{'Name': 'Subhadip', 'Age': 20, 'Salary': 10000}\n"
          ]
        }
      ]
    },
    {
      "cell_type": "markdown",
      "source": [
        "### Task\n",
        "- Create a dictionary with Name, Age, Hobbies then Add a new Key in the dictioanry and then update the age to 27 and then delete the Hobbies"
      ],
      "metadata": {
        "id": "_MmMwfKIgVgp"
      }
    },
    {
      "cell_type": "code",
      "source": [],
      "metadata": {
        "id": "0jI7ao6IffFB"
      },
      "execution_count": 65,
      "outputs": []
    },
    {
      "cell_type": "markdown",
      "source": [
        "## Methods in Dictionary\n",
        "- keys() -  to get all keys present in the Dictionary\n",
        "- values() -  to get all values present in the Dictionary\n",
        "- items() - to get all key value pairs from the Dictionary"
      ],
      "metadata": {
        "id": "tyQPqGyTiM0e"
      }
    },
    {
      "cell_type": "code",
      "source": [
        "print(person.keys())\n",
        "print(person.values())\n",
        "print(person.items())"
      ],
      "metadata": {
        "colab": {
          "base_uri": "https://localhost:8080/"
        },
        "id": "CpaRMeNjiXR8",
        "outputId": "ce158041-b871-4bda-b6a0-614ab4ff1b40"
      },
      "execution_count": 66,
      "outputs": [
        {
          "output_type": "stream",
          "name": "stdout",
          "text": [
            "dict_keys(['Name', 'Age', 'Salary'])\n",
            "dict_values(['Subhadip', 20, 10000])\n",
            "dict_items([('Name', 'Subhadip'), ('Age', 20), ('Salary', 10000)])\n"
          ]
        }
      ]
    },
    {
      "cell_type": "code",
      "source": [
        "# Taking input in a Dicitnary\n",
        "person={}\n",
        "key1=input(\"Enter your key\")\n",
        "value1=input(\"Enter the value\")\n",
        "key2=input(\"Enter your key2\")\n",
        "value2=input(\"Enter the value2\")\n",
        "person[key1]=value1\n",
        "person[key2]=value2\n",
        "print(person)"
      ],
      "metadata": {
        "colab": {
          "base_uri": "https://localhost:8080/"
        },
        "id": "sjP6wPQHiZvQ",
        "outputId": "30edaa51-e2c2-4b1d-addd-d040ee47e1ca"
      },
      "execution_count": 67,
      "outputs": [
        {
          "output_type": "stream",
          "name": "stdout",
          "text": [
            "Enter your keyname\n",
            "Enter the valuesubhadip\n",
            "Enter your key2age\n",
            "Enter the value224\n",
            "{'name': 'subhadip', 'age': '24'}\n"
          ]
        }
      ]
    },
    {
      "cell_type": "markdown",
      "source": [
        "## Mutable : The Data Tyes that can be manipulated (adding, deleting, updating) after creation\n",
        "\n",
        "## Immutabel : The Data Type that can't be manipulated after cration"
      ],
      "metadata": {
        "id": "S-bF92I8mdK4"
      }
    },
    {
      "cell_type": "markdown",
      "source": [
        "## Sets\n",
        "- Sets are unordered unique collection of data elements"
      ],
      "metadata": {
        "id": "ip619FzGna1I"
      }
    },
    {
      "cell_type": "code",
      "source": [
        "data = {1,2,3,4,5,6,7,'subhadip','apple',3,4,'kolkata'}\n",
        "print(data)"
      ],
      "metadata": {
        "colab": {
          "base_uri": "https://localhost:8080/"
        },
        "id": "2Wx8P6FxnYeA",
        "outputId": "bb084b14-a07f-4f57-fa63-d3e57c082f1a"
      },
      "execution_count": 68,
      "outputs": [
        {
          "output_type": "stream",
          "name": "stdout",
          "text": [
            "{1, 2, 3, 4, 5, 6, 7, 'kolkata', 'subhadip', 'apple'}\n"
          ]
        }
      ]
    },
    {
      "cell_type": "code",
      "source": [
        "# add banana to the set\n",
        "data.add('banana')\n",
        "print(data)"
      ],
      "metadata": {
        "colab": {
          "base_uri": "https://localhost:8080/"
        },
        "id": "sXqbbXoYog5R",
        "outputId": "d56c78b3-293b-42b6-913e-b936d1e45541"
      },
      "execution_count": 69,
      "outputs": [
        {
          "output_type": "stream",
          "name": "stdout",
          "text": [
            "{1, 2, 3, 4, 5, 6, 7, 'kolkata', 'subhadip', 'apple', 'banana'}\n"
          ]
        }
      ]
    },
    {
      "cell_type": "code",
      "source": [
        "# remove apple from set\n",
        "data.remove('apple')\n",
        "print(data)"
      ],
      "metadata": {
        "colab": {
          "base_uri": "https://localhost:8080/"
        },
        "id": "i4jCAZwgp__h",
        "outputId": "eac798e5-339e-4c18-b4c0-ca95e0d95833"
      },
      "execution_count": 70,
      "outputs": [
        {
          "output_type": "stream",
          "name": "stdout",
          "text": [
            "{1, 2, 3, 4, 5, 6, 7, 'kolkata', 'subhadip', 'banana'}\n"
          ]
        }
      ]
    },
    {
      "cell_type": "markdown",
      "source": [
        "## Set Methods\n",
        "- union ( ' & ' )\n",
        "- intersection ( ' | ' )"
      ],
      "metadata": {
        "id": "hNc303n9r1GQ"
      }
    },
    {
      "cell_type": "code",
      "source": [
        "a = {1,2,3,4,5}\n",
        "b = {4,5,6,7,8}\n",
        "\n",
        "print(a.union(b))\n",
        "print(a.intersection(b))"
      ],
      "metadata": {
        "colab": {
          "base_uri": "https://localhost:8080/"
        },
        "id": "DA4Xx5IUqoXR",
        "outputId": "4925a4f0-bf31-458f-fc65-9db98e847309"
      },
      "execution_count": 71,
      "outputs": [
        {
          "output_type": "stream",
          "name": "stdout",
          "text": [
            "{1, 2, 3, 4, 5, 6, 7, 8}\n",
            "{4, 5}\n"
          ]
        }
      ]
    }
  ]
}