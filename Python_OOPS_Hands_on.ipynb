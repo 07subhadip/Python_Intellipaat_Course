{
  "nbformat": 4,
  "nbformat_minor": 0,
  "metadata": {
    "colab": {
      "provenance": [],
      "authorship_tag": "ABX9TyNB+i3Exqzi+2At96L89xVJ",
      "include_colab_link": true
    },
    "kernelspec": {
      "name": "python3",
      "display_name": "Python 3"
    },
    "language_info": {
      "name": "python"
    }
  },
  "cells": [
    {
      "cell_type": "markdown",
      "metadata": {
        "id": "view-in-github",
        "colab_type": "text"
      },
      "source": [
        "<a href=\"https://colab.research.google.com/github/07subhadip/Python_Intellipaat_Course/blob/main/Python_OOPS_Hands_on.ipynb\" target=\"_parent\"><img src=\"https://colab.research.google.com/assets/colab-badge.svg\" alt=\"Open In Colab\"/></a>"
      ]
    },
    {
      "cell_type": "markdown",
      "source": [
        "# **Python Hands-on OOPS**"
      ],
      "metadata": {
        "id": "Gt-raZzUaNva"
      }
    },
    {
      "cell_type": "markdown",
      "source": [
        "## **Task 1**\n",
        "\n",
        "Create a class `Student` that stores name and marks for 3 subjects and add a method calculate the average and determine the grade"
      ],
      "metadata": {
        "id": "XF3eEMAAcSmw"
      }
    },
    {
      "cell_type": "code",
      "execution_count": null,
      "metadata": {
        "id": "7Yfbo7Z4Z4GN"
      },
      "outputs": [],
      "source": [
        "class Student:\n",
        "  def __init__(self,name,mark):\n",
        "    self.name = name\n",
        "    self.mark = mark\n",
        "\n",
        "  def calculate(self):\n",
        "    return sum(self.mark)/len(self.mark)\n",
        "\n",
        "  def grade(self):\n",
        "    avg = self.calculate()\n",
        "\n",
        "    if avg >= 90:\n",
        "      return \"A\"\n",
        "    elif avg >= 80:\n",
        "      return \"B\"\n",
        "    elif avg >= 70:\n",
        "      return \"C\"\n",
        "    else:\n",
        "      return \"D\""
      ]
    },
    {
      "cell_type": "code",
      "source": [
        "subhadip = Student(\"Subhadip\",[90,80,70])\n",
        "print(subhadip.calculate())\n",
        "print(subhadip.grade())"
      ],
      "metadata": {
        "colab": {
          "base_uri": "https://localhost:8080/"
        },
        "id": "I5FnFKI-dMJt",
        "outputId": "29870bd5-5ac9-4411-bb05-b761783f8798"
      },
      "execution_count": null,
      "outputs": [
        {
          "output_type": "stream",
          "name": "stdout",
          "text": [
            "80.0\n",
            "B\n"
          ]
        }
      ]
    },
    {
      "cell_type": "markdown",
      "source": [
        "## **Task 2**\n",
        "\n",
        "- Create a class `Super` and inside the class define a function `func1` , inside the function pass the message `This is the function of super class`\n",
        "\n",
        "- Create another class named `Modified_Super_Class` and inherit Super Class, inside the class you have to create a function that is `func1` and print inside the funcion `This is the function of Modified Super Class`, then in this you have to create another function `func2` and pass any message in this .After that create the object and call the func1 from modiefied super class"
      ],
      "metadata": {
        "id": "NNe3CpQte0Q2"
      }
    },
    {
      "cell_type": "code",
      "source": [
        "class Super:\n",
        "  def func1(self):\n",
        "    print(\"This is the function of Super class\")\n",
        "\n",
        "class Modified_Super_Class(Super):\n",
        "  def func1(self):\n",
        "    print(\"This is the function of Modified Super Class\")\n",
        "\n",
        "  def func2(self):\n",
        "    print(\"This is the 2nd function of Modified Super Class\")\n"
      ],
      "metadata": {
        "id": "sF9hZkIMdcXC"
      },
      "execution_count": null,
      "outputs": []
    },
    {
      "cell_type": "code",
      "source": [
        "obj = Modified_Super_Class()\n",
        "obj.func1()\n"
      ],
      "metadata": {
        "colab": {
          "base_uri": "https://localhost:8080/"
        },
        "id": "ywY-fB7ZiKWM",
        "outputId": "f2476d2e-5e23-45e5-fd4d-77721266ba1f"
      },
      "execution_count": null,
      "outputs": [
        {
          "output_type": "stream",
          "name": "stdout",
          "text": [
            "This is the function of Modified Super Class\n"
          ]
        }
      ]
    },
    {
      "cell_type": "markdown",
      "source": [
        "## **Task 3**\n",
        "\n",
        "Create a class named `Encapsulation`. Inside the class first create a constructor, inside that initialize a `originalValue` variable as `10` &rarr; After creating define a function `Value` and this function should return the variable that we have initialized in the constructor. Now create 2nd function named `SetValue` and pass an arguement named `newValue`. The task of this function will be to replace the `originalValue` by `newValue`"
      ],
      "metadata": {
        "id": "SwQXoO9pjU_l"
      }
    },
    {
      "cell_type": "code",
      "source": [
        "class Encapsulation:\n",
        "  def __init__(self):\n",
        "    self.originalValue = 10\n",
        "\n",
        "  def Value(self):\n",
        "    return self.originalValue\n",
        "\n",
        "  def SetValue(self,newValue):\n",
        "    self.originalValue = newValue\n",
        "    print(self.originalValue)"
      ],
      "metadata": {
        "id": "RGfTYdUJiNyi"
      },
      "execution_count": null,
      "outputs": []
    },
    {
      "cell_type": "code",
      "source": [
        "obj = Encapsulation()\n",
        "print(obj.Value())\n",
        "obj.SetValue(20)"
      ],
      "metadata": {
        "colab": {
          "base_uri": "https://localhost:8080/"
        },
        "id": "6vtnT3GImg_k",
        "outputId": "2ea0dc00-63c7-46cb-d404-e231fee792d7"
      },
      "execution_count": null,
      "outputs": [
        {
          "output_type": "stream",
          "name": "stdout",
          "text": [
            "10\n",
            "20\n"
          ]
        }
      ]
    },
    {
      "cell_type": "markdown",
      "source": [
        "## **Task 4**\n",
        "\n",
        "Create a class `Employee` with a constructor init method that accepts `name`, `salary` and `rating` and `empId` as parameters display them by using a `show()` method in the class"
      ],
      "metadata": {
        "id": "3D0Fai-Hnb0m"
      }
    },
    {
      "cell_type": "code",
      "source": [
        "class Employee:\n",
        "  def __init__(self):\n",
        "    self.name = input(\"Enter the name: \")\n",
        "    self.salary = input(\"Enter the salary: \")\n",
        "    self.rating = input(\"Enter the rating: \")\n",
        "    self.empId = input(\"Enter the empId: \")\n",
        "\n",
        "  def show(self):\n",
        "    print(f\"Name: {self.name}\\nSalary: {self.salary}\\nRating: {self.rating}\\nEmpId: {self.empId}\")\n"
      ],
      "metadata": {
        "id": "ZAMQqmSvmq6j"
      },
      "execution_count": null,
      "outputs": []
    },
    {
      "cell_type": "code",
      "source": [
        "ob = Employee()\n",
        "ob.show()"
      ],
      "metadata": {
        "colab": {
          "base_uri": "https://localhost:8080/"
        },
        "id": "ZXOwurO-rsbN",
        "outputId": "985daaa9-64f9-4650-d58d-477cd06cc492"
      },
      "execution_count": null,
      "outputs": [
        {
          "output_type": "stream",
          "name": "stdout",
          "text": [
            "Enter the name: Subhadip\n",
            "Enter the salary: 15000\n",
            "Enter the rating: 8\n",
            "Enter the empId: 1234\n",
            "Name: Subhadip\n",
            "Salary: 15000\n",
            "Rating: 8\n",
            "EmpId: 1234\n"
          ]
        }
      ]
    },
    {
      "cell_type": "markdown",
      "source": [
        "## **Task 5**\n",
        "\n",
        "Create three classes: `A`, `B`, and `C`\n",
        "\n",
        "<ol type=\"A\">\n",
        "  <li>\n",
        "    Inside class <code>A</code>:\n",
        "    <ul>\n",
        "      <li>Create a constructor that initializes two variables: <code>name</code> and <code>age</code>.</li>\n",
        "      <li>Create another function named <code>details()</code> that returns the <code>name</code> variable.</li>\n",
        "    </ul>\n",
        "  </li>\n",
        "  <li>\n",
        "    Inside class <code>B</code>:\n",
        "    <ul>\n",
        "      <li>Create a constructor that initializes two variables: <code>name</code> and <code>id</code>.</li>\n",
        "      <li>Create a function named <code>details()</code> that returns the <code>name</code> variable.</li>\n",
        "    </ul>\n",
        "  </li>\n",
        "  <li>\n",
        "    Inside class <code>C</code>:\n",
        "    <ul>\n",
        "      <li>Inherit both class <code>A</code> and class <code>B</code>.</li>\n",
        "      <li>Create a constructor that calls the constructor of class <code>A</code>.</li>\n",
        "      <li>Create a function named <code>get_details()</code> that returns the value of <code>name</code>.</li>\n",
        "    </ul>\n",
        "  </li>\n",
        "  <li>\n",
        "    Finally, create an object of class <code>C</code> and call the <code>get_details()</code> function.\n",
        "  </li>\n",
        "</ol>\n"
      ],
      "metadata": {
        "id": "1x_pKIofv2ur"
      }
    },
    {
      "cell_type": "code",
      "source": [
        "class A:\n",
        "    def __init__(self, name, age):\n",
        "        self.name = name\n",
        "        self.age = age\n",
        "\n",
        "    def details(self):\n",
        "        return self.name\n",
        "\n",
        "\n",
        "class B:\n",
        "    def __init__(self, name, id):\n",
        "        self.name = name\n",
        "        self.id = id\n",
        "\n",
        "    def details(self):\n",
        "        return self.name\n",
        "\n",
        "\n",
        "class C(A, B):\n",
        "    def __init__(self, name, age, id):\n",
        "        A.__init__(self, name, age)\n",
        "        B.__init__(self, name, id)\n",
        "\n",
        "    def get_details(self):\n",
        "        return self.name\n",
        "\n",
        "\n",
        "name = input(\"Enter your name: \")\n",
        "age = int(input(\"Enter your age: \"))\n",
        "id = input(\"Enter your ID: \")\n",
        "\n",
        "student = C(name, age, id)\n",
        "\n",
        "print(\"Name from get_details():\", student.get_details())\n"
      ],
      "metadata": {
        "colab": {
          "base_uri": "https://localhost:8080/"
        },
        "id": "3yKCvpqBrvtr",
        "outputId": "8234805f-0ef1-4456-fee8-ddf12771e457"
      },
      "execution_count": null,
      "outputs": [
        {
          "output_type": "stream",
          "name": "stdout",
          "text": [
            "Enter your name: Subhadip\n",
            "Enter your age: 24\n",
            "Enter your ID: 1234\n",
            "Name from get_details(): Subhadip\n"
          ]
        }
      ]
    },
    {
      "cell_type": "markdown",
      "source": [
        "## **Task 6**\n",
        "\n",
        "Create a **Python program** that simulates a simple **Banking System** using **Object-Oriented Programming (OOP)**.\n",
        "\n",
        "The system should manage customer accounts and allow transactions such as:\n",
        "- Deposits\n",
        "- Withdrawals\n",
        "- Balance inquiries\n",
        "\n",
        "---\n",
        "\n",
        "### 🧱 **Class Definition:**\n",
        "\n",
        "Create a class called `Bank` to represent the bank.\n",
        "\n",
        "Each customer account should have:\n",
        "- `account_number`\n",
        "- `customer_name`\n",
        "- `initial_balance` (default is `0`)\n",
        "\n",
        "---\n",
        "\n",
        "### 🎯 **Functionality:**\n",
        "\n",
        "Allow the user to **select an option** for what action they want to perform:\n",
        "\n",
        "1. `Deposit` (if option == 1)  \n",
        "2. `Withdraw` (if option == 2)  \n",
        "3. `Check Balance` (if option == 3)\n",
        "\n",
        "---\n",
        "\n",
        "💡 Use `input()` to get user choice and perform actions accordingly.\n"
      ],
      "metadata": {
        "id": "j12lc83Z4tNQ"
      }
    },
    {
      "cell_type": "code",
      "source": [],
      "metadata": {
        "id": "CL2Q34Hk1dgl"
      },
      "execution_count": null,
      "outputs": []
    }
  ]
}